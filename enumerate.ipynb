{
  "nbformat": 4,
  "nbformat_minor": 0,
  "metadata": {
    "kernelspec": {
      "display_name": "Python 3",
      "language": "python",
      "name": "python3"
    },
    "language_info": {
      "codemirror_mode": {
        "name": "ipython",
        "version": 3
      },
      "file_extension": ".py",
      "mimetype": "text/x-python",
      "name": "python",
      "nbconvert_exporter": "python",
      "pygments_lexer": "ipython3",
      "version": "3.8.3"
    },
    "colab": {
      "name": "enumerate.ipynb",
      "provenance": [],
      "include_colab_link": true
    }
  },
  "cells": [
    {
      "cell_type": "markdown",
      "metadata": {
        "id": "view-in-github",
        "colab_type": "text"
      },
      "source": [
        "<a href=\"https://colab.research.google.com/github/FariusGitHub/DataScience/blob/master/enumerate.ipynb\" target=\"_parent\"><img src=\"https://colab.research.google.com/assets/colab-badge.svg\" alt=\"Open In Colab\"/></a>"
      ]
    },
    {
      "cell_type": "code",
      "metadata": {
        "id": "9wV5B3ukpFD_",
        "outputId": "75bcc62f-e4a7-4f66-9fb9-5f4cd417764d"
      },
      "source": [
        "my_list = ['a', 'b', 'c', 'd']\n",
        "list(enumerate(my_list))"
      ],
      "execution_count": null,
      "outputs": [
        {
          "output_type": "execute_result",
          "data": {
            "text/plain": [
              "[(0, 'a'), (1, 'b'), (2, 'c'), (3, 'd')]"
            ]
          },
          "metadata": {
            "tags": []
          },
          "execution_count": 8
        }
      ]
    },
    {
      "cell_type": "code",
      "metadata": {
        "id": "Su8oYtQBpFES",
        "outputId": "79ab2125-59e6-4511-f3ea-89340d3d00a6"
      },
      "source": [
        "for i in my_list:\n",
        "    print(i)"
      ],
      "execution_count": null,
      "outputs": [
        {
          "output_type": "stream",
          "text": [
            "a\n",
            "b\n",
            "c\n",
            "d\n"
          ],
          "name": "stdout"
        }
      ]
    },
    {
      "cell_type": "code",
      "metadata": {
        "id": "81A0EOiQpFEj"
      },
      "source": [
        "for i in my_list:\n",
        "    print(my_list[i])  # --> TypeError: list indices must be integers or slices, not str"
      ],
      "execution_count": null,
      "outputs": []
    },
    {
      "cell_type": "code",
      "metadata": {
        "id": "HzjddkN4pFEv",
        "outputId": "8fc0bb4c-ad8a-40cf-bd67-0d7f549c9769"
      },
      "source": [
        "for i,j in enumerate(my_list): # --> built-in Python function to avoid range(len( ... )) \n",
        "    print(i)"
      ],
      "execution_count": null,
      "outputs": [
        {
          "output_type": "stream",
          "text": [
            "0\n",
            "1\n",
            "2\n",
            "3\n"
          ],
          "name": "stdout"
        }
      ]
    },
    {
      "cell_type": "code",
      "metadata": {
        "id": "Cls3N1DIpFE2",
        "outputId": "82527025-612a-470b-a707-9faf0e14f119"
      },
      "source": [
        "for i,j in enumerate(my_list): #     for i in my_list:\n",
        "    print(my_list[i])          #         print(i)"
      ],
      "execution_count": null,
      "outputs": [
        {
          "output_type": "stream",
          "text": [
            "a\n",
            "b\n",
            "c\n",
            "d\n"
          ],
          "name": "stdout"
        }
      ]
    },
    {
      "cell_type": "code",
      "metadata": {
        "id": "oKygtB3OpFFC",
        "outputId": "fe7c1cbf-3c6b-44c1-98e7-44922dba1f3e"
      },
      "source": [
        "for i in range(len(my_list)): #     for i in my_list:\n",
        "    print(my_list[i])         #         print(i)       "
      ],
      "execution_count": null,
      "outputs": [
        {
          "output_type": "stream",
          "text": [
            "a\n",
            "b\n",
            "c\n",
            "d\n"
          ],
          "name": "stdout"
        }
      ]
    },
    {
      "cell_type": "code",
      "metadata": {
        "id": "IBg6FhjZpFFN",
        "outputId": "90dfd81a-db3a-4935-d8ba-e2dd58527a73"
      },
      "source": [
        "for i in range(len(my_list)): # --> habit from other programming languages (C++, Java)\n",
        "    print(i)    "
      ],
      "execution_count": null,
      "outputs": [
        {
          "output_type": "stream",
          "text": [
            "0\n",
            "1\n",
            "2\n",
            "3\n"
          ],
          "name": "stdout"
        }
      ]
    },
    {
      "cell_type": "code",
      "metadata": {
        "id": "w2KTdtmhpFFU"
      },
      "source": [
        ""
      ],
      "execution_count": null,
      "outputs": []
    }
  ]
}