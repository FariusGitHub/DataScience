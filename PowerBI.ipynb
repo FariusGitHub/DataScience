{
  "nbformat": 4,
  "nbformat_minor": 0,
  "metadata": {
    "colab": {
      "name": "PowerBI.ipynb",
      "provenance": [],
      "authorship_tag": "ABX9TyNlwrBpH6rqZ2e3RZIGyeCt",
      "include_colab_link": true
    },
    "kernelspec": {
      "name": "python3",
      "display_name": "Python 3"
    }
  },
  "cells": [
    {
      "cell_type": "markdown",
      "metadata": {
        "id": "view-in-github",
        "colab_type": "text"
      },
      "source": [
        "<a href=\"https://colab.research.google.com/github/FariusGitHub/DataScience/blob/master/PowerBI.ipynb\" target=\"_parent\"><img src=\"https://colab.research.google.com/assets/colab-badge.svg\" alt=\"Open In Colab\"/></a>"
      ]
    },
    {
      "cell_type": "code",
      "metadata": {
        "id": "ZxmP0p-T9iS5"
      },
      "source": [
        "#Power BI Jobs in Toronto\n",
        "import bs4\n",
        "import requests\n",
        "import re\n",
        "from datetime import datetime, timedelta\n",
        "from tqdm import tqdm\n",
        "import numpy as np \n",
        "\n",
        "sweep=5\n",
        "DSlist=[]; DST1=[]; DSC1=[];\n",
        "soup = bs4.BeautifulSoup(requests.get('https://ca.indeed.com/jobs?q=Power+BI&l=Toronto,+ON&start=').text, 'lxml')\n",
        "for m in (range(sweep)):\n",
        "    for k in range(0,int(soup.find('div', id='searchCountPages').text.strip('\\n Page jobs').split(' of')[1])//50*50+50,50):\n",
        "        start = k\n",
        "        soup = bs4.BeautifulSoup(requests.get('https://ca.indeed.com/jobs?q=Power+BI&l=Toronto,+ON&start='+str(start)+'&limit=50').text, 'lxml')\n",
        "        jk=[]; fccid=[]; DSsite=[]\n",
        "        for i in (range(len(soup.select('.title')))):\n",
        "            jk +=    [str(soup.find_all(\"script\", text=re.compile(\"jobmap\"), type=\"text/javascript\")[0]).split('\\n\\n')[i+3].split(\"]= {jk:'\")[1].split(\",cmpid:'\")[0].split(\"',efccid:\")[0]]\n",
        "            fccid += [str(soup.find_all(\"script\", text=re.compile(\"jobmap\"), type=\"text/javascript\")[0]).split('\\n\\n')[i+3].split(\"]= {jk:'\")[1].split(\",cmpid:'\")[1].split(\"',num:'\")[0]]\n",
        "            DSsite+=['http://ca.indeed.com/rc/clk?jk='+jk[i]+'&fccid='+fccid[i]+'&vjs=3']\n",
        "\n",
        "            DST1+=[soup.select('.title')[i].a.get('title')]                             \n",
        "            DSC1+=[soup.select('.sjcl')[i](class_='company')[0].text.strip('\\n')]        \n",
        "\n",
        "        DSpage=[]\n",
        "        for i,j in enumerate(soup.select('.title')):\n",
        "            DSpage+=[DSsite[i]]\n",
        "        DSuniq=list(np.unique(np.array(DSlist)))\n",
        "        print('sweep=', m+1, ', start=', k, 'captured=', len(DSpage), 'unique=',len(DSuniq))\n",
        "        DSlist+=DSpage\n",
        "\n",
        "for i in range(len(set(zip(DSlist, DST1, DSC1)))):\n",
        "  print(1+i, DST1[i], DSC1[i], DSlist[i])"
      ],
      "execution_count": null,
      "outputs": []
    }
  ]
}