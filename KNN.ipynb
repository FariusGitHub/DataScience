{
  "nbformat": 4,
  "nbformat_minor": 0,
  "metadata": {
    "kernelspec": {
      "display_name": "Python 3",
      "language": "python",
      "name": "python3"
    },
    "language_info": {
      "codemirror_mode": {
        "name": "ipython",
        "version": 3
      },
      "file_extension": ".py",
      "mimetype": "text/x-python",
      "name": "python",
      "nbconvert_exporter": "python",
      "pygments_lexer": "ipython3",
      "version": "3.8.5"
    },
    "colab": {
      "name": "KNN.ipynb",
      "provenance": [],
      "include_colab_link": true
    }
  },
  "cells": [
    {
      "cell_type": "markdown",
      "metadata": {
        "id": "view-in-github",
        "colab_type": "text"
      },
      "source": [
        "<a href=\"https://colab.research.google.com/github/FariusGitHub/DataScience/blob/master/KNN.ipynb\" target=\"_parent\"><img src=\"https://colab.research.google.com/assets/colab-badge.svg\" alt=\"Open In Colab\"/></a>"
      ]
    },
    {
      "cell_type": "code",
      "metadata": {
        "colab": {
          "base_uri": "https://localhost:8080/"
        },
        "id": "-cI4QMKfshc8",
        "outputId": "47c09e82-e471-4f01-ad29-c69aba345f68"
      },
      "source": [
        "import pandas as pd\n",
        "from math import sqrt\n",
        "data=pd.read_csv('https://fashion.s3.us-east-2.amazonaws.com/breast_cancer.csv')\n",
        "X = data.drop(['target_name'], axis=1)\n",
        "y = data['target_name']\n",
        "\n",
        "def distance_between(patient_1,patient_2):\n",
        "    squared_difference = 0\n",
        "    for i in range(X.iloc[patient_1-1].shape[0]):\n",
        "        squared_difference +=\\\n",
        "        (X.iloc[patient_1-1].values[i] - X.iloc[patient_2-1].values[i])**2\n",
        "    return sqrt(squared_difference)\n",
        "\n",
        "distance_between(3,4)"
      ],
      "execution_count": 1,
      "outputs": [
        {
          "output_type": "execute_result",
          "data": {
            "text/plain": [
              "1407.1689800387448"
            ]
          },
          "metadata": {
            "tags": []
          },
          "execution_count": 1
        }
      ]
    },
    {
      "cell_type": "code",
      "metadata": {
        "scrolled": true,
        "colab": {
          "base_uri": "https://localhost:8080/",
          "height": 419
        },
        "id": "4D2P92Jqshc_",
        "outputId": "06f20b45-9bc8-412b-ee99-f84c8fa3cad2"
      },
      "source": [
        "def distances_from(patient_0):\n",
        "    neighbors=[]\n",
        "    labels=[]\n",
        "    for i in range(X.shape[0]):\n",
        "        neighbors+=[distance_between(patient_0, i+1)]\n",
        "        labels+=[y[i]]\n",
        "    return pd.DataFrame([neighbors,labels]).T.reset_index().\\\n",
        "           rename(columns={'index':'patients',0:'distance',1:'label'})\n",
        "\n",
        "distances_from(1)        "
      ],
      "execution_count": 2,
      "outputs": [
        {
          "output_type": "execute_result",
          "data": {
            "text/html": [
              "<div>\n",
              "<style scoped>\n",
              "    .dataframe tbody tr th:only-of-type {\n",
              "        vertical-align: middle;\n",
              "    }\n",
              "\n",
              "    .dataframe tbody tr th {\n",
              "        vertical-align: top;\n",
              "    }\n",
              "\n",
              "    .dataframe thead th {\n",
              "        text-align: right;\n",
              "    }\n",
              "</style>\n",
              "<table border=\"1\" class=\"dataframe\">\n",
              "  <thead>\n",
              "    <tr style=\"text-align: right;\">\n",
              "      <th></th>\n",
              "      <th>patients</th>\n",
              "      <th>distance</th>\n",
              "      <th>label</th>\n",
              "    </tr>\n",
              "  </thead>\n",
              "  <tbody>\n",
              "    <tr>\n",
              "      <th>0</th>\n",
              "      <td>0</td>\n",
              "      <td>0.000000</td>\n",
              "      <td>0.0</td>\n",
              "    </tr>\n",
              "    <tr>\n",
              "      <th>1</th>\n",
              "      <td>1</td>\n",
              "      <td>341.730262</td>\n",
              "      <td>0.0</td>\n",
              "    </tr>\n",
              "    <tr>\n",
              "      <th>2</th>\n",
              "      <td>2</td>\n",
              "      <td>376.455765</td>\n",
              "      <td>0.0</td>\n",
              "    </tr>\n",
              "    <tr>\n",
              "      <th>3</th>\n",
              "      <td>3</td>\n",
              "      <td>1584.314017</td>\n",
              "      <td>0.0</td>\n",
              "    </tr>\n",
              "    <tr>\n",
              "      <th>4</th>\n",
              "      <td>4</td>\n",
              "      <td>538.023488</td>\n",
              "      <td>0.0</td>\n",
              "    </tr>\n",
              "    <tr>\n",
              "      <th>...</th>\n",
              "      <td>...</td>\n",
              "      <td>...</td>\n",
              "      <td>...</td>\n",
              "    </tr>\n",
              "    <tr>\n",
              "      <th>564</th>\n",
              "      <td>564</td>\n",
              "      <td>479.090394</td>\n",
              "      <td>0.0</td>\n",
              "    </tr>\n",
              "    <tr>\n",
              "      <th>565</th>\n",
              "      <td>565</td>\n",
              "      <td>393.985590</td>\n",
              "      <td>0.0</td>\n",
              "    </tr>\n",
              "    <tr>\n",
              "      <th>566</th>\n",
              "      <td>566</td>\n",
              "      <td>914.695149</td>\n",
              "      <td>0.0</td>\n",
              "    </tr>\n",
              "    <tr>\n",
              "      <th>567</th>\n",
              "      <td>567</td>\n",
              "      <td>338.489439</td>\n",
              "      <td>0.0</td>\n",
              "    </tr>\n",
              "    <tr>\n",
              "      <th>568</th>\n",
              "      <td>568</td>\n",
              "      <td>1943.304565</td>\n",
              "      <td>1.0</td>\n",
              "    </tr>\n",
              "  </tbody>\n",
              "</table>\n",
              "<p>569 rows × 3 columns</p>\n",
              "</div>"
            ],
            "text/plain": [
              "     patients     distance  label\n",
              "0           0     0.000000    0.0\n",
              "1           1   341.730262    0.0\n",
              "2           2   376.455765    0.0\n",
              "3           3  1584.314017    0.0\n",
              "4           4   538.023488    0.0\n",
              "..        ...          ...    ...\n",
              "564       564   479.090394    0.0\n",
              "565       565   393.985590    0.0\n",
              "566       566   914.695149    0.0\n",
              "567       567   338.489439    0.0\n",
              "568       568  1943.304565    1.0\n",
              "\n",
              "[569 rows x 3 columns]"
            ]
          },
          "metadata": {
            "tags": []
          },
          "execution_count": 2
        }
      ]
    },
    {
      "cell_type": "code",
      "metadata": {
        "scrolled": true,
        "colab": {
          "base_uri": "https://localhost:8080/"
        },
        "id": "Fpxp7BFDshdA",
        "outputId": "fa89989d-8b2a-4ce7-cf0f-728e327e326d"
      },
      "source": [
        "def find_knn_raw(p1,k):\n",
        "    dist_to_p1 = distances_from(p1)\n",
        "    knn=list(zip(dist_to_p1['patients'], dist_to_p1['distance'], dist_to_p1['label']))\n",
        "    knn.sort(key= lambda x: x[1])\n",
        "    proba = sum([i[2] for i in (knn)[1:k+1]])/k\n",
        "    if proba<=0.5: comment = 'benign'\n",
        "    else: comment = 'malignant'\n",
        "    return (knn)[1:k+1]\n",
        "\n",
        "find_knn_raw(0,3)"
      ],
      "execution_count": 3,
      "outputs": [
        {
          "output_type": "execute_result",
          "data": {
            "text/plain": [
              "[(538, 20.845202842282127, 1.0),\n",
              " (151, 31.7109283864694, 1.0),\n",
              " (46, 37.47520926332663, 1.0)]"
            ]
          },
          "metadata": {
            "tags": []
          },
          "execution_count": 3
        }
      ]
    },
    {
      "cell_type": "code",
      "metadata": {
        "colab": {
          "base_uri": "https://localhost:8080/"
        },
        "id": "DAXwOVfgshdB",
        "outputId": "ebc5db7f-6148-45e7-bea3-319b0de310d2"
      },
      "source": [
        "def find_knn_proba(p1,k):\n",
        "    dist_to_p1 = distances_from(p1)\n",
        "    knn=list(zip(dist_to_p1['patients'], dist_to_p1['distance'], dist_to_p1['label']))\n",
        "    knn.sort(key= lambda x: x[1])\n",
        "    proba = sum([i[2] for i in (knn)[1:k+1]])/k\n",
        "    if proba<=0.5: comment = 'benign'\n",
        "    else: comment = 'malignant'\n",
        "    return proba\n",
        "\n",
        "find_knn_proba(10,3)"
      ],
      "execution_count": 4,
      "outputs": [
        {
          "output_type": "execute_result",
          "data": {
            "text/plain": [
              "0.3333333333333333"
            ]
          },
          "metadata": {
            "tags": []
          },
          "execution_count": 4
        }
      ]
    },
    {
      "cell_type": "code",
      "metadata": {
        "colab": {
          "base_uri": "https://localhost:8080/",
          "height": 35
        },
        "id": "Juz8i4VbshdC",
        "outputId": "8fb6d97c-557e-4bad-df23-90c1f809959a"
      },
      "source": [
        "def find_knn_pred(p1,k):\n",
        "    dist_to_p1 = distances_from(p1)\n",
        "    knn=list(zip(dist_to_p1['patients'], dist_to_p1['distance'], dist_to_p1['label']))\n",
        "    knn.sort(key= lambda x: x[1])\n",
        "    proba = sum([i[2] for i in (knn)[1:k+1]])/k\n",
        "    if proba<=0.5: comment = 'benign'\n",
        "    else: comment = 'malignant'\n",
        "#     return (knn)[1:k+1]\n",
        "#     return proba\n",
        "    return comment\n",
        "\n",
        "find_knn_pred(10,3)"
      ],
      "execution_count": 5,
      "outputs": [
        {
          "output_type": "execute_result",
          "data": {
            "application/vnd.google.colaboratory.intrinsic+json": {
              "type": "string"
            },
            "text/plain": [
              "'benign'"
            ]
          },
          "metadata": {
            "tags": []
          },
          "execution_count": 5
        }
      ]
    },
    {
      "cell_type": "code",
      "metadata": {
        "colab": {
          "base_uri": "https://localhost:8080/"
        },
        "id": "Si1cvP_qsyHy",
        "outputId": "d3763220-4580-47a2-f248-b49f83947853"
      },
      "source": [
        "for i in range (20):\n",
        "  if y[1] == 0: true = 'benign'\n",
        "  else: true = 'malignant'\n",
        "\n",
        "  print('patient ',i+1, \n",
        "        ', proba = ', find_knn_proba(i,3),\n",
        "        ', predicted value = ', find_knn_pred(i,3), \n",
        "        ', true value = ', true\n",
        "        )"
      ],
      "execution_count": 6,
      "outputs": [
        {
          "output_type": "stream",
          "text": [
            "patient  1 , proba =  1.0 , predicted value =  malignant , true value =  benign\n",
            "patient  2 , proba =  0.0 , predicted value =  benign , true value =  benign\n",
            "patient  3 , proba =  0.0 , predicted value =  benign , true value =  benign\n",
            "patient  4 , proba =  0.0 , predicted value =  benign , true value =  benign\n",
            "patient  5 , proba =  1.0 , predicted value =  malignant , true value =  benign\n",
            "patient  6 , proba =  0.0 , predicted value =  benign , true value =  benign\n",
            "patient  7 , proba =  0.0 , predicted value =  benign , true value =  benign\n",
            "patient  8 , proba =  0.0 , predicted value =  benign , true value =  benign\n",
            "patient  9 , proba =  0.0 , predicted value =  benign , true value =  benign\n",
            "patient  10 , proba =  0.3333333333333333 , predicted value =  benign , true value =  benign\n",
            "patient  11 , proba =  0.3333333333333333 , predicted value =  benign , true value =  benign\n",
            "patient  12 , proba =  0.0 , predicted value =  benign , true value =  benign\n",
            "patient  13 , proba =  0.0 , predicted value =  benign , true value =  benign\n",
            "patient  14 , proba =  0.0 , predicted value =  benign , true value =  benign\n",
            "patient  15 , proba =  0.6666666666666666 , predicted value =  malignant , true value =  benign\n",
            "patient  16 , proba =  1.0 , predicted value =  malignant , true value =  benign\n",
            "patient  17 , proba =  0.0 , predicted value =  benign , true value =  benign\n",
            "patient  18 , proba =  0.0 , predicted value =  benign , true value =  benign\n",
            "patient  19 , proba =  0.0 , predicted value =  benign , true value =  benign\n",
            "patient  20 , proba =  0.0 , predicted value =  benign , true value =  benign\n"
          ],
          "name": "stdout"
        }
      ]
    }
  ]
}