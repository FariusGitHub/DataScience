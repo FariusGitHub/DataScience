{
  "nbformat": 4,
  "nbformat_minor": 0,
  "metadata": {
    "kernelspec": {
      "display_name": "Python 3",
      "language": "python",
      "name": "python3"
    },
    "language_info": {
      "codemirror_mode": {
        "name": "ipython",
        "version": 3
      },
      "file_extension": ".py",
      "mimetype": "text/x-python",
      "name": "python",
      "nbconvert_exporter": "python",
      "pygments_lexer": "ipython3",
      "version": "3.8.3"
    },
    "colab": {
      "name": "SOUP2.ipynb",
      "provenance": [],
      "include_colab_link": true
    }
  },
  "cells": [
    {
      "cell_type": "markdown",
      "metadata": {
        "id": "view-in-github",
        "colab_type": "text"
      },
      "source": [
        "<a href=\"https://colab.research.google.com/github/FariusGitHub/DataScience/blob/master/SOUP2.ipynb\" target=\"_parent\"><img src=\"https://colab.research.google.com/assets/colab-badge.svg\" alt=\"Open In Colab\"/></a>"
      ]
    },
    {
      "cell_type": "code",
      "metadata": {
        "scrolled": false,
        "id": "ApBbOI2fFxMI",
        "outputId": "4eb25c8d-f896-48e6-c586-992fd40576af",
        "colab": {
          "base_uri": "https://localhost:8080/",
          "height": 36
        }
      },
      "source": [
        "import bs4\n",
        "import requests\n",
        "import re\n",
        "from datetime import datetime, timedelta\n",
        "from tqdm import tqdm\n",
        "\n",
        "DSW1=[]; DST1=[]; DSS1= []; DSL1= []; DSC1=[]; DSD1=[]; DSE1=[]; DSdesc=[]; DSsoup=[]\n",
        "soup = bs4.BeautifulSoup(requests.get('https://ca.indeed.com/jobs?q=data+scientist&l=Toronto,+ON&start=').text, 'lxml')\n",
        "\n",
        "for l in tqdm(range(0,int(soup.find('div', id='searchCountPages').text.strip('\\n Page jobs')\\\n",
        "                      .split(' of')[1])//50*50,50)):\n",
        "    start = l\n",
        "    soup = bs4.BeautifulSoup(requests.get('https://ca.indeed.com/jobs?q=data+scientist&l=Toronto,+ON&start='+str(start)+'&limit=50').text, 'lxml')\n",
        "\n",
        " \n",
        "    jk=[]; fccid=[]; \n",
        "    for i in range(len(soup.select('.title'))):\n",
        "        j = 0 if soup.select('.date')[i].text.strip()[:2].isalpha() \\\n",
        "            else int(soup.select('.date')[i].text.strip()[:2])\n",
        "        k=(datetime.today().date()-timedelta((j))).strftime(\"%x\")\n",
        "        jk +=    [str(soup.find_all(\"script\", text=re.compile(\"jobmap\"), type=\"text/javascript\")[0]).split('\\n\\n')[i+3].split(\"]= {jk:'\")[1].split(\",cmpid:'\")[0].split(\"',efccid:\")[0]]\n",
        "        fccid += [str(soup.find_all(\"script\", text=re.compile(\"jobmap\"), type=\"text/javascript\")[0]).split('\\n\\n')[i+3].split(\"]= {jk:'\")[1].split(\",cmpid:'\")[1].split(\"',num:'\")[0]]\n",
        "        DSW1+=['http://ca.indeed.com/rc/clk?jk='+jk[i]+'&fccid='+fccid[i]+'&vjs=3'] #WEB\n",
        "        DST1+=[soup.select('.title')[i].a.get('title')]                             #TITLE\n",
        "        DSS1+=[soup.select('.summary')[i].text.strip('\\n')]                         #SUMMARY\n",
        "        DSL1+=[soup.select('.sjcl')[i](class_='recJobLoc')[0].get('data-rc-loc')]   #LOC\n",
        "        DSC1+=[soup.select('.sjcl')[i](class_='company')[0].text.strip('\\n')]       #COMPANY \n",
        "        DSD1+=['>=30days' if j == 30 else k]                                        #DATE \n",
        "        DSsoup+=[bs4.BeautifulSoup(requests.get(DSW1[i]).text, 'lxml')]\n",
        "        try:\n",
        "            DSdesc += ['<p>'.join(str(DSsoup[i].select(\".jobsearch-jobDescriptionText\")[0])\\\n",
        "              .split('</p>')).lstrip('<div class=\"jobsearch-jobDescriptionText\" id=\\\n",
        "                  \"jobDescriptionText\"><p>')]\n",
        "        except Exception:\n",
        "            DSdesc += ['error during downloading']        #DESC\n",
        "        \n",
        "#     print('sweep=', m+1, ', start=', l, 'captured=', len(DSW1),'unique=',len(set(DSW1))\n",
        "#          )\n"
      ],
      "execution_count": 1,
      "outputs": [
        {
          "output_type": "stream",
          "text": [
            "100%|██████████| 5/5 [06:08<00:00, 73.78s/it]\n"
          ],
          "name": "stderr"
        }
      ]
    },
    {
      "cell_type": "code",
      "metadata": {
        "scrolled": false,
        "id": "ruE5fDWuFxMa",
        "outputId": "d459cb1e-393d-4c19-e9d2-f9598cab5345",
        "colab": {
          "base_uri": "https://localhost:8080/",
          "height": 1000
        }
      },
      "source": [
        "for i in range(len(DSdesc)):\n",
        "    print(i, DSC1[i], DSW1[i], DSdesc[i][:20])"
      ],
      "execution_count": 2,
      "outputs": [
        {
          "output_type": "stream",
          "text": [
            "0 Veeva Systems http://ca.indeed.com/rc/clk?jk=acdc01645d55764a&fccid=353eb997fc901045&vjs=3 At Veeva, we build e\n",
            "1 Nestle http://ca.indeed.com/rc/clk?jk=4798eaba2ef9f6d7&fccid=0364df7382483402&vjs=3 A little bit about u\n",
            "2 QuadReal http://ca.indeed.com/rc/clk?jk=eefa70bfa123e2a3&fccid=f049514aadb99749&vjs=3 About QuadReal</b><p\n",
            "3 TELUS http://ca.indeed.com/rc/clk?jk=b56337f9a96cd34a&fccid=1f30f2e61ba7b1e1&vjs=3 Create awesome exper\n",
            "4 CI Investments Inc http://ca.indeed.com/rc/clk?jk=54cbf95e53d58d0d&fccid=449ea4608e927a8b&vjs=3 ABOUT US</b><p><p>\n",
            "C\n",
            "5 Clearbanc http://ca.indeed.com/rc/clk?jk=e6b46b2f4744793d&fccid=aa8192f4729fd6cb&vjs=3 Application Deadline\n",
            "6 RBC http://ca.indeed.com/rc/clk?jk=254e55f1de945058&fccid=537b899e30af3338&vjs=3 1 class=\"jobSectionH\n",
            "7 TD Bank http://ca.indeed.com/rc/clk?jk=edd4298cd4ad8821&fccid=d7114f1cac8d0711&vjs=3 us your story. Don't\n",
            "8 Accenture http://ca.indeed.com/rc/clk?jk=27fed03f86d4c1f1&fccid=a4e4e2eaf26690c9&vjs=3 /div><div><div><p><b\n",
            "9 fabriik http://ca.indeed.com/rc/clk?jk=572b9afe699ea194&fccid=ead6f7229fb25aad&vjs=3 Our mission at Fabri\n",
            "10 Advanced Analytics and Research Lab (AAARL) http://ca.indeed.com/rc/clk?jk=55d963f02ffab2b0&fccid=7713d07736e02801&vjs=3 />\n",
            "<p><p>\n",
            "<p>About t\n",
            "11 Exiger http://ca.indeed.com/rc/clk?jk=d4c48bdb09093b02&fccid=31f016a03979345b&vjs=3 Location, Toronto, O\n",
            "12 Moneris Solutions Corporation http://ca.indeed.com/rc/clk?jk=af4904b4f4b3f128&fccid=1d593a04c11a2b78&vjs=3 Applies and integrat\n",
            "13 ASSURANCE http://ca.indeed.com/rc/clk?jk=94c4fe7af9489141&fccid=863bd584681e871f&vjs=3 About Assurance</b><\n",
            "14 Scotiabank http://ca.indeed.com/rc/clk?jk=548009948c16f464&fccid=3002307a9e5b4706&vjs=3 Requisition ID: 6599\n",
            "15 sgsco http://ca.indeed.com/rc/clk?jk=e9a7bcf1d61b167c&fccid=c95c25d8eeb1a65b&vjs=3 Scientist Intern– sg\n",
            "16 Tonal http://ca.indeed.com/rc/clk?jk=98e02539ef5c5072&fccid=b79928a7d50f5b85&vjs=3 /div><div><div><div>\n",
            "17 Tonal http://ca.indeed.com/rc/clk?jk=1f1455b7dee97f62&fccid=b79928a7d50f5b85&vjs=3 /div><div><div><div>\n",
            "18 RBC http://ca.indeed.com/rc/clk?jk=0155ea4798bd99cf&fccid=537b899e30af3338&vjs=3 What is the opportun\n",
            "19 sgsco http://ca.indeed.com/rc/clk?jk=d36b21805cf980bb&fccid=c95c25d8eeb1a65b&vjs=3 IN A DAY IN THE LIFE\n",
            "20 University of Toronto http://ca.indeed.com/rc/clk?jk=e92dae07d08f507c&fccid=986361104086c3ae&vjs=3 Course Code and Titl\n",
            "21 IESO http://ca.indeed.com/rc/clk?jk=470019ae8db84287&fccid=1a5d0d289be83a07&vjs=3 Scientist will repor\n",
            "22 Southern Graphics Systems, Canada Co. http://ca.indeed.com/rc/clk?jk=b1c093950f089093&fccid=e50f207cbabcff4c&vjs=3 IN A DAY IN THE LIFE\n",
            "23 Canadian Tire http://ca.indeed.com/rc/clk?jk=5049552ace9473ce&fccid=ed63127ef81e27b4&vjs=3 Help us boldly shape\n",
            "24 Advanced Analytics and Research Lab (AAARL) http://ca.indeed.com/rc/clk?jk=bd4f87b299809200&fccid=7713d07736e02801&vjs=3 />\n",
            "<p><p>\n",
            "<p><i>Role\n",
            "25 Southern Graphics Systems, Canada Co. http://ca.indeed.com/rc/clk?jk=1c8b6fd52a42f420&fccid=e50f207cbabcff4c&vjs=3 Scientist Intern– sg\n",
            "26 Bayer http://ca.indeed.com/rc/clk?jk=c96481b336d775d5&fccid=e08122e0e993cc32&vjs=3 YOUR TASKS AND RESPO\n",
            "27 Vanguard http://ca.indeed.com/rc/clk?jk=2dc8d4ed5d532581&fccid=510aa29fcf8f87d9&vjs=3 Core Responsibilitie\n",
            "28 Purolator http://ca.indeed.com/rc/clk?jk=06ddccfb9d12f9fb&fccid=2d41d5ad36e5177e&vjs=3 Open up to the Possi\n",
            "29 Hopper http://ca.indeed.com/rc/clk?jk=7ab8f2c3ab9adfe0&fccid=71eb96af97fae7e9&vjs=3 At Hopper, we’re on \n",
            "30 PC Financial http://ca.indeed.com/rc/clk?jk=37d27e5fa81b9b77&fccid=65597b61c24cfc84&vjs=3 Location:\n",
            "<p>500 Lak\n",
            "31 TKEES http://ca.indeed.com/rc/clk?jk=bb0b9b81b4b854b8&fccid=38068465b0f5647a&vjs=3 4 class=\"jobSectionH\n",
            "32 Celestica http://ca.indeed.com/rc/clk?jk=e6436c158bbfdec2&fccid=e7e593a18b26fee3&vjs=3 Req ID: 65593<br/>\n",
            "R\n",
            "33 Electrical Safety Authority http://ca.indeed.com/rc/clk?jk=ef514e9cc44bd795&fccid=ac035e39f36518b3&vjs=3 Electrical Safety Au\n",
            "34 TD Bank http://ca.indeed.com/rc/clk?jk=83f662f9155f8130&fccid=d7114f1cac8d0711&vjs=3 us your story. Don't\n",
            "35 Exiger http://ca.indeed.com/rc/clk?jk=966854892c740d68&fccid=31f016a03979345b&vjs=3 Location: Toronto, O\n",
            "36 Goldman Sachs http://ca.indeed.com/rc/clk?jk=5e8b91166df3265a&fccid=16a97ed26c75bf2d&vjs=3 MORE ABOUT THIS JOB:\n",
            "37 Scarsin http://ca.indeed.com/rc/clk?jk=e97e7d4b249d30c2&fccid=f3cf9b25d8874f5c&vjs=3 Reporting directly t\n",
            "38 IESO http://ca.indeed.com/rc/clk?jk=e92012f730287c9c&fccid=1a5d0d289be83a07&vjs=3 Lead Data Scientist \n",
            "39 Hopper http://ca.indeed.com/rc/clk?jk=b789e2236527f578&fccid=71eb96af97fae7e9&vjs=3 At Hopper, we’re on \n",
            "40 IBM http://ca.indeed.com/rc/clk?jk=a8b86e42df0547e6&fccid=de71a49b535e21cb&vjs=3 Introduction</b><br/\n",
            "41 7D Surgical http://ca.indeed.com/rc/clk?jk=50ae513cdfbe8018&fccid=42b3f11c8dc7ccb6&vjs=3 At 7D Surgical you w\n",
            "42 PwC http://ca.indeed.com/rc/clk?jk=66a6ed5b8fb5abcb&fccid=5e964c4afc56b180&vjs=3 Our culture and valu\n",
            "43 SOTI Inc. http://ca.indeed.com/rc/clk?jk=a4d6772c4f83d01f&fccid=3d38508546395f15&vjs=3 2 class=\"jobSectionH\n",
            "44 Capgemini http://ca.indeed.com/rc/clk?jk=c6269d766424b9d5&fccid=105ecfd0283f415f&vjs=3 Scientist Senior Man\n",
            "45 Achievers http://ca.indeed.com/rc/clk?jk=255573005bec2e76&fccid=a31d39aa57e3f105&vjs=3 Achievers delivers a\n",
            "46 Capgemini http://ca.indeed.com/rc/clk?jk=bf2a6c2f4a5dec44&fccid=105ecfd0283f415f&vjs=3 Scientist Senior Con\n",
            "47 BMO Financial Group http://ca.indeed.com/rc/clk?jk=81453623b0952be6&fccid=3a429036b3725efa&vjs=3 Address:\n",
            "<p>55 Bloor\n",
            "48 Fathom Health http://ca.indeed.com/rc/clk?jk=0a932885c635dc21&fccid=0bd5ea79f870e432&vjs=3 Are you passionate a\n",
            "49 Cineplex http://ca.indeed.com/rc/clk?jk=cc7c4a8b83be7aa4&fccid=01a5b39f260f43cd&vjs=3 Company Description<\n",
            "50 Clarivate Analytics http://ca.indeed.com/rc/clk?jk=66cf76d3ca02c227&fccid=caa66bd70c8270dc&vjs=3 At Veeva, we build e\n",
            "51 St. Michael's Hospital http://ca.indeed.com/rc/clk?jk=76934014ec208654&fccid=bbe500b1715c428f&vjs=3 A little bit about u\n",
            "52 Primate Labs http://ca.indeed.com/rc/clk?jk=ab62a7ec83d7f5cc&fccid=404d8339ff6e1538&vjs=3 About QuadReal</b><p\n",
            "53 Ezra http://ca.indeed.com/rc/clk?jk=83beea55f79f381d&fccid=6c8a92081151019c&vjs=3 Create awesome exper\n",
            "54 TD Bank http://ca.indeed.com/rc/clk?jk=ead89861519bdbb0&fccid=d7114f1cac8d0711&vjs=3 ABOUT US</b><p><p>\n",
            "C\n",
            "55 Toromont CAT http://ca.indeed.com/rc/clk?jk=56fc2eff8c7c52c4&fccid=03da85295c0b4c0b&vjs=3 Application Deadline\n",
            "56 Alexsei http://ca.indeed.com/rc/clk?jk=610fd440c472668c&fccid=02fa3f9bb6c0c359&vjs=3 1 class=\"jobSectionH\n",
            "57 Paytm http://ca.indeed.com/rc/clk?jk=826502117877efc5&fccid=fb76531520ee0166&vjs=3 us your story. Don't\n",
            "58 University of Toronto http://ca.indeed.com/rc/clk?jk=d3bb084fee3e952e&fccid=986361104086c3ae&vjs=3 /div><div><div><p><b\n",
            "59 Cerebri AI http://ca.indeed.com/rc/clk?jk=7d8b410f682443db&fccid=c7522f3d11db3b8a&vjs=3 Our mission at Fabri\n",
            "60 EXL Service http://ca.indeed.com/rc/clk?jk=6ed928bf29cfe43f&fccid=000cb86995edc659&vjs=3 />\n",
            "<p><p>\n",
            "<p>About t\n",
            "61 Roboeye http://ca.indeed.com/rc/clk?jk=39dadf24e4efb889&fccid=dd68495ef87ff64f&vjs=3 Location, Toronto, O\n",
            "62 Deloitte http://ca.indeed.com/rc/clk?jk=0829280302c7e9fd&fccid=9e215d88a6b33622&vjs=3 Applies and integrat\n",
            "63 Colliers International http://ca.indeed.com/rc/clk?jk=92e84172a0e59356&fccid=1a9a1146f8fe1ec1&vjs=3 About Assurance</b><\n",
            "64 AMZN CAN Fulfillment Svcs, ULC http://ca.indeed.com/rc/clk?jk=9042b6ce44d2779d&fccid=112455d5feb03dc8&vjs=3 Requisition ID: 6599\n",
            "65 CI Investments Inc http://ca.indeed.com/rc/clk?jk=e1fe2119596ca6fe&fccid=449ea4608e927a8b&vjs=3 Scientist Intern– sg\n",
            "66 Manulife http://ca.indeed.com/rc/clk?jk=8f2724ab76ec82da&fccid=1747adf6142beb48&vjs=3 /div><div><div><div>\n",
            "67 Pinterest http://ca.indeed.com/rc/clk?jk=818e5b45236d2240&fccid=43014b1412e0a7b6&vjs=3 /div><div><div><div>\n",
            "68 Intact http://ca.indeed.com/rc/clk?jk=b18e78e6254d6960&fccid=be7195d2ebb48351&vjs=3 What is the opportun\n",
            "69 Scotiabank http://ca.indeed.com/rc/clk?jk=28d09c34d38f9279&fccid=3002307a9e5b4706&vjs=3 IN A DAY IN THE LIFE\n",
            "70 EPAM Systems http://ca.indeed.com/rc/clk?jk=41b429065c5a899c&fccid=532afac41b2663f7&vjs=3 Course Code and Titl\n",
            "71 ASSURANCE http://ca.indeed.com/rc/clk?jk=8d107799816a0928&fccid=863bd584681e871f&vjs=3 Scientist will repor\n",
            "72 Capgemini http://ca.indeed.com/rc/clk?jk=10c83a3dd7818d77&fccid=105ecfd0283f415f&vjs=3 IN A DAY IN THE LIFE\n",
            "73 BenchSci http://ca.indeed.com/rc/clk?jk=61aad135d5ba6476&fccid=8a2a632a3f6f9396&vjs=3 Help us boldly shape\n",
            "74 Pinterest http://ca.indeed.com/rc/clk?jk=7103672579984032&fccid=43014b1412e0a7b6&vjs=3 />\n",
            "<p><p>\n",
            "<p><i>Role\n",
            "75 Manulife http://ca.indeed.com/rc/clk?jk=8818ae7092150bf4&fccid=1747adf6142beb48&vjs=3 Scientist Intern– sg\n",
            "76 ThinkData Works http://ca.indeed.com/rc/clk?jk=fe6afa9232a72ab9&fccid=f0bc51ba64bfe483&vjs=3 YOUR TASKS AND RESPO\n",
            "77 SoundHound Inc. http://ca.indeed.com/rc/clk?jk=a0ede8567100d37f&fccid=80413c126d4e4312&vjs=3 Core Responsibilitie\n",
            "78 NVIDIA http://ca.indeed.com/rc/clk?jk=91d2af8860172cd3&fccid=c267f29f0f85e8b8&vjs=3 Open up to the Possi\n",
            "79 Paytm http://ca.indeed.com/rc/clk?jk=25dbbd3fbbdb8ba2&fccid=fb76531520ee0166&vjs=3 At Hopper, we’re on \n",
            "80 SoundHound Inc. http://ca.indeed.com/rc/clk?jk=65d5fe1600fbcbb3&fccid=80413c126d4e4312&vjs=3 Location:\n",
            "<p>500 Lak\n",
            "81 University Health Network http://ca.indeed.com/rc/clk?jk=a6c6595e5fd322ed&fccid=2bef55e014d470c4&vjs=3 4 class=\"jobSectionH\n",
            "82 Citi http://ca.indeed.com/rc/clk?jk=a9a866decf8d0ef1&fccid=5bcd1ef0a7f4fb99&vjs=3 Req ID: 65593<br/>\n",
            "R\n",
            "83 BMO Financial Group http://ca.indeed.com/rc/clk?jk=692674ca5301bedb&fccid=3a429036b3725efa&vjs=3 Electrical Safety Au\n",
            "84 Roche http://ca.indeed.com/rc/clk?jk=1b3335baeb046076&fccid=bca1c8ed48c3b338&vjs=3 us your story. Don't\n",
            "85 Colliers International http://ca.indeed.com/rc/clk?jk=e8bb0bc616045909&fccid=1a9a1146f8fe1ec1&vjs=3 Location: Toronto, O\n",
            "86 TD Bank http://ca.indeed.com/rc/clk?jk=0b07fd6fb59b1e0d&fccid=d7114f1cac8d0711&vjs=3 MORE ABOUT THIS JOB:\n",
            "87 AMZN CAN Fulfillment Svcs, ULC http://ca.indeed.com/rc/clk?jk=d7f663dccba5a306&fccid=112455d5feb03dc8&vjs=3 Reporting directly t\n",
            "88 PwC http://ca.indeed.com/rc/clk?jk=c534a1db344ea4c0&fccid=5e964c4afc56b180&vjs=3 Lead Data Scientist \n",
            "89 Zynga http://ca.indeed.com/rc/clk?jk=e4e4be738b32919b&fccid=f379417fa48d0010&vjs=3 At Hopper, we’re on \n",
            "90 BMO Financial Group http://ca.indeed.com/rc/clk?jk=821e71a856091aa3&fccid=3a429036b3725efa&vjs=3 Introduction</b><br/\n",
            "91 Cytel, Canada Health Inc http://ca.indeed.com/rc/clk?jk=38a1b691e74154fc&fccid=a4926cf63f730eb1&vjs=3 At 7D Surgical you w\n",
            "92 University of Toronto http://ca.indeed.com/rc/clk?jk=ff8e66374ae88aea&fccid=986361104086c3ae&vjs=3 Our culture and valu\n",
            "93 Canadian Tire http://ca.indeed.com/rc/clk?jk=3544e6b965b5f93d&fccid=ed63127ef81e27b4&vjs=3 2 class=\"jobSectionH\n",
            "94 University of Toronto http://ca.indeed.com/rc/clk?jk=d577e4fc0c189ddb&fccid=986361104086c3ae&vjs=3 Scientist Senior Man\n",
            "95 SNC-Lavalin http://ca.indeed.com/rc/clk?jk=89b9663b76f5bee2&fccid=59b04a51f1164f7e&vjs=3 Achievers delivers a\n",
            "96 Allstate Canada http://ca.indeed.com/rc/clk?jk=93a81d30d09e62d9&fccid=2a9ba1a7c328212f&vjs=3 Scientist Senior Con\n",
            "97 AMZN CAN Fulfillment Svcs, ULC http://ca.indeed.com/rc/clk?jk=2151786b6cd45c00&fccid=112455d5feb03dc8&vjs=3 Address:\n",
            "<p>55 Bloor\n",
            "98 EY http://ca.indeed.com/rc/clk?jk=949b20e21fceae3d&fccid=1544766d4c2915b0&vjs=3 Are you passionate a\n",
            "99 St. Michael's Hospital http://ca.indeed.com/rc/clk?jk=d31ee07f56136e92&fccid=bbe500b1715c428f&vjs=3 Company Description<\n",
            "100 407 ETR http://ca.indeed.com/rc/clk?jk=15cf77c2fcf0e385&fccid=79c29b79ed36052c&vjs=3 At Veeva, we build e\n",
            "101 Citi http://ca.indeed.com/rc/clk?jk=8990d9fcaacbb4a3&fccid=5bcd1ef0a7f4fb99&vjs=3 A little bit about u\n",
            "102 SNC-Lavalin http://ca.indeed.com/rc/clk?jk=89b9663b76f5bee2&fccid=59b04a51f1164f7e&vjs=3 About QuadReal</b><p\n",
            "103 Kantar TNS http://ca.indeed.com/rc/clk?jk=78ec498bfb75727e&fccid=4bc0bc1f1d49d7da&vjs=3 Create awesome exper\n",
            "104 Tonal http://ca.indeed.com/rc/clk?jk=9481da4eac204c18&fccid=b79928a7d50f5b85&vjs=3 ABOUT US</b><p><p>\n",
            "C\n",
            "105 SoundHound Inc. http://ca.indeed.com/rc/clk?jk=c771d2d63a5099e1&fccid=80413c126d4e4312&vjs=3 Application Deadline\n",
            "106 Manulife http://ca.indeed.com/rc/clk?jk=1253fa9ffa2816f0&fccid=1747adf6142beb48&vjs=3 1 class=\"jobSectionH\n",
            "107 St. Michael's Hospital http://ca.indeed.com/rc/clk?jk=d31ee07f56136e92&fccid=bbe500b1715c428f&vjs=3 us your story. Don't\n",
            "108 Finastra http://ca.indeed.com/rc/clk?jk=c14db59cf99cc42c&fccid=562acdc5a49a5e83&vjs=3 /div><div><div><p><b\n",
            "109 KANTAR http://ca.indeed.com/rc/clk?jk=db517a1d561f784a&fccid=fc0eeff012676923&vjs=3 Our mission at Fabri\n",
            "110 Glu Mobile http://ca.indeed.com/rc/clk?jk=0d3ba8ddd32d0c5e&fccid=a5ea7db1292ddde6&vjs=3 />\n",
            "<p><p>\n",
            "<p>About t\n",
            "111 Loblaw Digital http://ca.indeed.com/rc/clk?jk=91eeeeda15a22546&fccid=ddbf78138e823762&vjs=3 Location, Toronto, O\n",
            "112 Cerebri AI http://ca.indeed.com/rc/clk?jk=f3689c6e47361dfd&fccid=c7522f3d11db3b8a&vjs=3 Applies and integrat\n",
            "113 BMO Financial Group http://ca.indeed.com/rc/clk?jk=636fa171fe4f3be6&fccid=3a429036b3725efa&vjs=3 About Assurance</b><\n",
            "114 Resolver Inc. http://ca.indeed.com/rc/clk?jk=d9ee7f26ea8d5ac6&fccid=c71c81e6ff3d20a6&vjs=3 Requisition ID: 6599\n",
            "115 Bell Canada http://ca.indeed.com/rc/clk?jk=619eb2584575af10&fccid=b726a5ebc0841dee&vjs=3 Scientist Intern– sg\n",
            "116 DNAstack http://ca.indeed.com/rc/clk?jk=726ae9958b1ffb99&fccid=0bd730febd42bf9f&vjs=3 /div><div><div><div>\n",
            "117 SoundHound Inc. http://ca.indeed.com/rc/clk?jk=3fd5db5ee374e30e&fccid=80413c126d4e4312&vjs=3 /div><div><div><div>\n",
            "118 Deloitte http://ca.indeed.com/rc/clk?jk=dada2dc255e15bbb&fccid=9e215d88a6b33622&vjs=3 What is the opportun\n",
            "119 Boast Capital http://ca.indeed.com/rc/clk?jk=aee4593f521f0e68&fccid=5e049e4f4f7f5f66&vjs=3 IN A DAY IN THE LIFE\n",
            "120 ThinkData Works http://ca.indeed.com/rc/clk?jk=4086f0aad04312ce&fccid=f0bc51ba64bfe483&vjs=3 Course Code and Titl\n",
            "121 IQ Hunt http://ca.indeed.com/rc/clk?jk=7e52770762965ec7&fccid=5d30a23d9440914f&vjs=3 Scientist will repor\n",
            "122 Oracle http://ca.indeed.com/rc/clk?jk=efbede4ec3f33472&fccid=cd22d01053af7669&vjs=3 IN A DAY IN THE LIFE\n",
            "123 Resolver http://ca.indeed.com/rc/clk?jk=042bf3613b127620&fccid=98cd36ac1b438c67&vjs=3 Help us boldly shape\n",
            "124 Augmenta http://ca.indeed.com/rc/clk?jk=aa6ca3025eec9760&fccid=36fe003c47d0515e&vjs=3 />\n",
            "<p><p>\n",
            "<p><i>Role\n",
            "125 AMZN CAN Fulfillment Svcs, ULC http://ca.indeed.com/rc/clk?jk=21c571fe9247f3a8&fccid=112455d5feb03dc8&vjs=3 Scientist Intern– sg\n",
            "126 BMO Financial Group http://ca.indeed.com/rc/clk?jk=da05844a703999b4&fccid=3a429036b3725efa&vjs=3 YOUR TASKS AND RESPO\n",
            "127 Capgemini http://ca.indeed.com/rc/clk?jk=0bb90e2ba835f878&fccid=105ecfd0283f415f&vjs=3 Core Responsibilitie\n",
            "128 BMW Group Financial Services Canada http://ca.indeed.com/rc/clk?jk=96ada49b348b188d&fccid=ee469c4aa27ba4be&vjs=3 Open up to the Possi\n",
            "129 NetBrain Technologies, Inc. http://ca.indeed.com/rc/clk?jk=2b60c8263cfb54a1&fccid=1fd791bcb94dfbb4&vjs=3 At Hopper, we’re on \n",
            "130 Cerebri AI http://ca.indeed.com/rc/clk?jk=ad5015fad2141012&fccid=c7522f3d11db3b8a&vjs=3 Location:\n",
            "<p>500 Lak\n",
            "131 Aviva http://ca.indeed.com/rc/clk?jk=b6e1fdbec02ed6da&fccid=354f4c12e3c6bd5a&vjs=3 4 class=\"jobSectionH\n",
            "132 Pinterest http://ca.indeed.com/rc/clk?jk=52b868cd2769b90e&fccid=43014b1412e0a7b6&vjs=3 Req ID: 65593<br/>\n",
            "R\n",
            "133 Spin Master Ltd http://ca.indeed.com/rc/clk?jk=f84d107df5bb413c&fccid=b102f7205dcfbc25&vjs=3 Electrical Safety Au\n",
            "134 Aviva http://ca.indeed.com/rc/clk?jk=715d74e9a491e5e0&fccid=354f4c12e3c6bd5a&vjs=3 us your story. Don't\n",
            "135 TELUS http://ca.indeed.com/rc/clk?jk=d914334a9a7c9f97&fccid=1f30f2e61ba7b1e1&vjs=3 Location: Toronto, O\n",
            "136 University Health Network http://ca.indeed.com/rc/clk?jk=b7ad088a341f21ad&fccid=2bef55e014d470c4&vjs=3 MORE ABOUT THIS JOB:\n",
            "137 TELUS http://ca.indeed.com/rc/clk?jk=bbe976417dee58db&fccid=1f30f2e61ba7b1e1&vjs=3 Reporting directly t\n",
            "138 SoundHound Inc. http://ca.indeed.com/rc/clk?jk=7dafaa54cad246b3&fccid=80413c126d4e4312&vjs=3 Lead Data Scientist \n",
            "139 EPAM Systems http://ca.indeed.com/rc/clk?jk=20ddcb1a0bff6a64&fccid=532afac41b2663f7&vjs=3 At Hopper, we’re on \n",
            "140 Arteria AI http://ca.indeed.com/rc/clk?jk=7b3955a34f82318a&fccid=18c1c5115b671740&vjs=3 Introduction</b><br/\n",
            "141 Rackspace http://ca.indeed.com/rc/clk?jk=0b2f46dd9947f703&fccid=fcbcfee24aae3548&vjs=3 At 7D Surgical you w\n",
            "142 SoundHound Inc. http://ca.indeed.com/rc/clk?jk=47273d46d9cec05f&fccid=80413c126d4e4312&vjs=3 Our culture and valu\n",
            "143 Overbond http://ca.indeed.com/rc/clk?jk=cf96c5d360760498&fccid=411ffad8da9af621&vjs=3 2 class=\"jobSectionH\n",
            "144 TD Bank http://ca.indeed.com/rc/clk?jk=d08809cf4c60c44d&fccid=d7114f1cac8d0711&vjs=3 Scientist Senior Man\n",
            "145 ASSURANCE http://ca.indeed.com/rc/clk?jk=ea21f078080adc1e&fccid=863bd584681e871f&vjs=3 Achievers delivers a\n",
            "146 Gannett http://ca.indeed.com/rc/clk?jk=93043fc73e0cfd85&fccid=1230acb7e56c6df5&vjs=3 Scientist Senior Con\n",
            "147 Loblaw Digital http://ca.indeed.com/rc/clk?jk=beb8ae02bf9e8bec&fccid=ddbf78138e823762&vjs=3 Address:\n",
            "<p>55 Bloor\n",
            "148 QuantumSec Inc. http://ca.indeed.com/rc/clk?jk=d413cdd4ae579b1e&fccid=a10cc1e8f0bb2a1e&vjs=3 Are you passionate a\n",
            "149 BioSymetrics Inc. http://ca.indeed.com/rc/clk?jk=2cec141f1c954e73&fccid=5fb4e05714b587a9&vjs=3 Company Description<\n",
            "150 LeapGrad http://ca.indeed.com/rc/clk?jk=72efa92f3874f9a8&fccid=5566f8d487ac11a4&vjs=3 At Veeva, we build e\n",
            "151 Points International http://ca.indeed.com/rc/clk?jk=96e7cfa75a0d1a2d&fccid=5c98f9ffc20e640f&vjs=3 A little bit about u\n",
            "152 QUESTRADE INC http://ca.indeed.com/rc/clk?jk=b7c255d0ce361791&fccid=9bece3a44512098f&vjs=3 About QuadReal</b><p\n",
            "153 BioSymetrics Inc. http://ca.indeed.com/rc/clk?jk=2cec141f1c954e73&fccid=5fb4e05714b587a9&vjs=3 Create awesome exper\n",
            "154 FirePower Financial Corporation http://ca.indeed.com/rc/clk?jk=05399322d6097def&fccid=e492b56b035fc1bf&vjs=3 ABOUT US</b><p><p>\n",
            "C\n",
            "155 fgf brands http://ca.indeed.com/rc/clk?jk=56da9cb3eae4e603&fccid=ba8f17420d6035be&vjs=3 Application Deadline\n",
            "156 ThoughtStorm http://ca.indeed.com/rc/clk?jk=215d368e8988a3c8&fccid=019f32e857772ff7&vjs=3 1 class=\"jobSectionH\n",
            "157 shopkick http://ca.indeed.com/rc/clk?jk=0c4d86702701c18b&fccid=d9424d2494bb17e7&vjs=3 us your story. Don't\n",
            "158 Wish http://ca.indeed.com/rc/clk?jk=0eb764568617b3ee&fccid=617690ce838507f3&vjs=3 /div><div><div><p><b\n",
            "159 BioSymetrics Inc. http://ca.indeed.com/rc/clk?jk=69d29ae59ce16323&fccid=5fb4e05714b587a9&vjs=3 Our mission at Fabri\n",
            "160 Kinaxis http://ca.indeed.com/rc/clk?jk=6078e544eb006fa5&fccid=2b42faad345a6de3&vjs=3 />\n",
            "<p><p>\n",
            "<p>About t\n",
            "161 BioSymetrics Inc. http://ca.indeed.com/rc/clk?jk=a2e570c24da7eb80&fccid=5fb4e05714b587a9&vjs=3 Location, Toronto, O\n",
            "162 NorthOne http://ca.indeed.com/rc/clk?jk=0f973ec62ae8486f&fccid=2f94bcd300d21443&vjs=3 Applies and integrat\n",
            "163 Boast.AI http://ca.indeed.com/rc/clk?jk=556354c221e89af5&fccid=8c078e5ac86534ee&vjs=3 About Assurance</b><\n",
            "164 Canadian College of Business, Science and Technolo... http://ca.indeed.com/rc/clk?jk=86e3cd3b0e1aa21a&fccid=74e8ecdfb2a3646c&vjs=3 Requisition ID: 6599\n",
            "165 Canadian Urban Transit Research & Innovation Conso... http://ca.indeed.com/rc/clk?jk=18d9e213c477313f&fccid=cece1a3be1efb04a&vjs=3 Scientist Intern– sg\n",
            "166 Restaurant Brands International http://ca.indeed.com/rc/clk?jk=2b939cadc0e1d67e&fccid=d228e3ea0f4791db&vjs=3 /div><div><div><div>\n",
            "167 OMERS http://ca.indeed.com/rc/clk?jk=a6bad8fa5d6f9bc7&fccid=64d182c6fc449d3a&vjs=3 /div><div><div><div>\n",
            "168 The Globe and Mail http://ca.indeed.com/rc/clk?jk=0f70b0d8632c48dc&fccid=2c209e080b2e73f5&vjs=3 What is the opportun\n",
            "169 nugget.ai http://ca.indeed.com/rc/clk?jk=5600df8062ed50db&fccid=9bcc19fb47282e85&vjs=3 IN A DAY IN THE LIFE\n",
            "170 Cash App http://ca.indeed.com/rc/clk?jk=41f05bd52951eae4&fccid=f5e46a4bfe5dd878&vjs=3 Course Code and Titl\n",
            "171 Visual Defence Inc http://ca.indeed.com/rc/clk?jk=c84341323209bdac&fccid=ab96f77cd216f375&vjs=3 Scientist will repor\n",
            "172 Myplanet http://ca.indeed.com/rc/clk?jk=b6413fa73878e91c&fccid=01afbb791968779b&vjs=3 IN A DAY IN THE LIFE\n",
            "173 Crescendo Technology http://ca.indeed.com/rc/clk?jk=aaa0e6ffcde99922&fccid=31b9940782dee5ad&vjs=3 Help us boldly shape\n",
            "174 Etraveli Group http://ca.indeed.com/rc/clk?jk=43e066b8ef4e781f&fccid=47cb464d074b83af&vjs=3 />\n",
            "<p><p>\n",
            "<p><i>Role\n",
            "175 Restaurant Brands International http://ca.indeed.com/rc/clk?jk=5f951779ecce3b18&fccid=d228e3ea0f4791db&vjs=3 Scientist Intern– sg\n",
            "176 Xanadu Quantum Technologies Inc. http://ca.indeed.com/rc/clk?jk=893f6b0fd5e55acb&fccid=f7e99f4e205ca089&vjs=3 YOUR TASKS AND RESPO\n",
            "177 LotusFlare, Inc. http://ca.indeed.com/rc/clk?jk=87c0fa70dffad44c&fccid=9c5794c79c24c7a2&vjs=3 Core Responsibilitie\n",
            "178 Restaurant Brands International http://ca.indeed.com/rc/clk?jk=7de125c9d889604c&fccid=d228e3ea0f4791db&vjs=3 Open up to the Possi\n",
            "179 Hired Recruiters http://ca.indeed.com/rc/clk?jk=98c455c2d14d4e3e&fccid=00a45309595ae06e&vjs=3 At Hopper, we’re on \n",
            "180 Bonsai http://ca.indeed.com/rc/clk?jk=1659dd3d2aa3c76f&fccid=d972edaae529d1f8&vjs=3 Location:\n",
            "<p>500 Lak\n",
            "181 ENERCARE http://ca.indeed.com/rc/clk?jk=ac1d9152d417c312&fccid=dacb8fcced421b57&vjs=3 4 class=\"jobSectionH\n",
            "182 Cansure http://ca.indeed.com/rc/clk?jk=a0b3ca2c65b82110&fccid=57c73a4fd282c240&vjs=3 Req ID: 65593<br/>\n",
            "R\n",
            "183 Jerry http://ca.indeed.com/rc/clk?jk=e5db3b5cd272d14a&fccid=2152f588e067f5e0&vjs=3 Electrical Safety Au\n",
            "184 Wysdom.AI http://ca.indeed.com/rc/clk?jk=e81fe0e95bdda616&fccid=ede86b461e380b53&vjs=3 us your story. Don't\n",
            "185 ANALYTICSMART http://ca.indeed.com/rc/clk?jk=82b6d44baa3b3259&fccid=5a1d014716be6ba2&vjs=3 Location: Toronto, O\n",
            "186 Xanadu Quantum Technologies Inc. http://ca.indeed.com/rc/clk?jk=88ef061eb9223233&fccid=f7e99f4e205ca089&vjs=3 MORE ABOUT THIS JOB:\n",
            "187 CaseWare http://ca.indeed.com/rc/clk?jk=a295562ad5e52212&fccid=c269ff1aa3e1ef74&vjs=3 Reporting directly t\n",
            "188 Kinaxis http://ca.indeed.com/rc/clk?jk=3d8cd95ae0805b02&fccid=2b42faad345a6de3&vjs=3 Lead Data Scientist \n",
            "189 Hired Recruiters http://ca.indeed.com/rc/clk?jk=4e3a3a9f88267bdd&fccid=00a45309595ae06e&vjs=3 At Hopper, we’re on \n",
            "190 Real Matters http://ca.indeed.com/rc/clk?jk=e53677f0b4633090&fccid=c5c6354a92b84800&vjs=3 Introduction</b><br/\n",
            "191 BrainStation http://ca.indeed.com/rc/clk?jk=3aced39c3cb8b599&fccid=3bed0f377345c152&vjs=3 At 7D Surgical you w\n",
            "192 Jerry http://ca.indeed.com/rc/clk?jk=b3c84017680b0040&fccid=2152f588e067f5e0&vjs=3 Our culture and valu\n",
            "193 BrainStation http://ca.indeed.com/rc/clk?jk=8d46ab04d0692fe1&fccid=3bed0f377345c152&vjs=3 2 class=\"jobSectionH\n",
            "194 Arocom Inc. http://ca.indeed.com/rc/clk?jk=f540fc60bdb34de5&fccid=d1cc934a9f0a0983&vjs=3 Scientist Senior Man\n",
            "195 Metro Supply Chain Group http://ca.indeed.com/rc/clk?jk=d814b45b7425cd2f&fccid=eac0bbb272f85ac4&vjs=3 Achievers delivers a\n",
            "196 Restaurant Brands International http://ca.indeed.com/rc/clk?jk=ac4bc2c2de92c45b&fccid=d228e3ea0f4791db&vjs=3 Scientist Senior Con\n",
            "197 MakeSpace http://ca.indeed.com/rc/clk?jk=88bbdeae60645701&fccid=b882d141b00e47a4&vjs=3 Address:\n",
            "<p>55 Bloor\n",
            "198 Birdseye Solutions http://ca.indeed.com/rc/clk?jk=4d119d0a9be96e1e&fccid=98a771f581ccbc9d&vjs=3 Are you passionate a\n",
            "199 Prophix Software Inc. http://ca.indeed.com/rc/clk?jk=77e15a966bb29427&fccid=186cb782756b7dbf&vjs=3 Company Description<\n",
            "200 Prophix Software Inc. http://ca.indeed.com/rc/clk?jk=26c8142077632cd4&fccid=186cb782756b7dbf&vjs=3 At Veeva, we build e\n",
            "201 Advanced Micro Devices, Inc. http://ca.indeed.com/rc/clk?jk=634dfa68d3c28b81&fccid=14872b5be04c1bd6&vjs=3 A little bit about u\n",
            "202 CPP Investments http://ca.indeed.com/rc/clk?jk=737a07d33906bc52&fccid=5455eeb639466cf7&vjs=3 About QuadReal</b><p\n",
            "203 Magic Leap - Multiple Locations http://ca.indeed.com/rc/clk?jk=3c5f2f573fc775d8&fccid=82e03f9031189b6c&vjs=3 Create awesome exper\n"
          ],
          "name": "stdout"
        }
      ]
    },
    {
      "cell_type": "code",
      "metadata": {
        "id": "24R30aT0FxMp"
      },
      "source": [
        "A=list(zip(DSW1, DST1, DSS1, DSL1, DSC1, DSD1, DSdesc))"
      ],
      "execution_count": 24,
      "outputs": []
    },
    {
      "cell_type": "code",
      "metadata": {
        "id": "4ISVVFBbNWXB"
      },
      "source": [
        "B=set(A)"
      ],
      "execution_count": 26,
      "outputs": []
    },
    {
      "cell_type": "code",
      "metadata": {
        "id": "RCBStusrNeKw",
        "outputId": "a1d0890e-5f49-4b2d-cff1-8e75fab15ab2",
        "colab": {
          "base_uri": "https://localhost:8080/",
          "height": 36
        }
      },
      "source": [
        "len(A)"
      ],
      "execution_count": 27,
      "outputs": [
        {
          "output_type": "execute_result",
          "data": {
            "text/plain": [
              "204"
            ]
          },
          "metadata": {
            "tags": []
          },
          "execution_count": 27
        }
      ]
    },
    {
      "cell_type": "code",
      "metadata": {
        "id": "bgYU3xa-Nd-J",
        "outputId": "4c9fd5be-aa9a-45e0-fa4b-55f60be83a45",
        "colab": {
          "base_uri": "https://localhost:8080/",
          "height": 36
        }
      },
      "source": [
        "len(B)"
      ],
      "execution_count": 28,
      "outputs": [
        {
          "output_type": "execute_result",
          "data": {
            "text/plain": [
              "204"
            ]
          },
          "metadata": {
            "tags": []
          },
          "execution_count": 28
        }
      ]
    }
  ]
}