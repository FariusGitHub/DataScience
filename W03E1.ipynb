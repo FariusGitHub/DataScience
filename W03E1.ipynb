{
  "nbformat": 4,
  "nbformat_minor": 0,
  "metadata": {
    "kernelspec": {
      "display_name": "Python 3",
      "language": "python",
      "name": "python3"
    },
    "language_info": {
      "codemirror_mode": {
        "name": "ipython",
        "version": 3
      },
      "file_extension": ".py",
      "mimetype": "text/x-python",
      "name": "python",
      "nbconvert_exporter": "python",
      "pygments_lexer": "ipython3",
      "version": "3.8.3"
    },
    "toc": {
      "base_numbering": 1,
      "nav_menu": {},
      "number_sections": false,
      "sideBar": true,
      "skip_h1_title": false,
      "title_cell": "Table of Contents",
      "title_sidebar": "Contents",
      "toc_cell": false,
      "toc_position": {},
      "toc_section_display": true,
      "toc_window_display": false
    },
    "colab": {
      "name": "Python_Lab_Exercise_1.ipynb",
      "provenance": [],
      "include_colab_link": true
    }
  },
  "cells": [
    {
      "cell_type": "markdown",
      "metadata": {
        "id": "view-in-github",
        "colab_type": "text"
      },
      "source": [
        "<a href=\"https://colab.research.google.com/github/FariusGitHub/DataScience/blob/master/W03E1.ipynb\" target=\"_parent\"><img src=\"https://colab.research.google.com/assets/colab-badge.svg\" alt=\"Open In Colab\"/></a>"
      ]
    },
    {
      "cell_type": "markdown",
      "metadata": {
        "id": "4-7wbd1XUoP2"
      },
      "source": [
        "<center>\n",
        "    <img src=\"https://weclouddata.s3.amazonaws.com/images/logos/wcd_logo_new_2.png\" width='30%'> \n",
        "</center>\n",
        "\n",
        "----------\n",
        "\n",
        "<h1 align=\"center\"> Python - Exercises </h1>\n",
        "<br>\n",
        "<center align=\"left\"> <font size='4'>  Developed by: </font><font size='4' color='#33AAFBD'>WeCloudData</font></center>\n",
        "<br>\n",
        "\n",
        "----------"
      ]
    },
    {
      "cell_type": "markdown",
      "metadata": {
        "id": "nqfwdjNmUoP6"
      },
      "source": [
        "## Exercise 1\n",
        "Using Python, calculate the following:\n",
        "\n",
        "There were 20 people on a bus. 10 got off. 3 came on. 15\n",
        "came on. 5 came off. If there were 3 more buses, and each had 15 people\n",
        "throughout the bus ride, how many people were on all the buses at the last\n",
        "stop? \n",
        "\n",
        "(Should be done via one equation)"
      ]
    },
    {
      "cell_type": "code",
      "metadata": {
        "id": "y7C-ooI-UoQN",
        "outputId": "bef484d6-f3b2-4baa-93ae-444b597491d0"
      },
      "source": [
        "print('\\nin one equation (with list comprehension) =', \\\n",
        "      sum([_1 for _1 in [-10, 3, 15, -5]]) + sum([_2 for _2 in [20, 15, 15, 15]])) \n",
        "#                      got off/came on @ bus1                 people in bus 1,2,3,4 "
      ],
      "execution_count": null,
      "outputs": [
        {
          "output_type": "stream",
          "text": [
            "\n",
            "in one equation (with list comprehension) = 68\n"
          ],
          "name": "stdout"
        }
      ]
    },
    {
      "cell_type": "markdown",
      "metadata": {
        "id": "uZPcnhkOUoQy"
      },
      "source": [
        "## Exercise 2\n",
        "Given a list of unique integers extract the following:\n",
        "- The second highest number\n",
        "- Get the **three** lowest numbers"
      ]
    },
    {
      "cell_type": "code",
      "metadata": {
        "id": "xWf-g-hyUoQ4",
        "outputId": "823d2818-f05d-4dc5-f768-9083cd6eb394"
      },
      "source": [
        "lst = [9, 4, 7, 5, 1, 13, 3, 8]\n",
        "\n",
        "# The second highest number\n",
        "lst.sort()\n",
        "print(lst[len(lst)-2])\n",
        "\n",
        "# The second highest number\n",
        "print(lst[0:3])"
      ],
      "execution_count": null,
      "outputs": [
        {
          "output_type": "stream",
          "text": [
            "9\n",
            "[1, 3, 4]\n"
          ],
          "name": "stdout"
        }
      ]
    },
    {
      "cell_type": "markdown",
      "metadata": {
        "id": "Sng0CFF8UoRN"
      },
      "source": [
        "## Exercise 3\n",
        "Given a paragraph as a string, calculate the number of characters in the second sentence. (Whitespace counts as a character)"
      ]
    },
    {
      "cell_type": "code",
      "metadata": {
        "id": "WCyDRj1JUoRS",
        "outputId": "7a283f7f-b480-411e-d181-aaeeedb7ce21"
      },
      "source": [
        "sentence = 'This is a paragraph. It contains multiple sentences. It has three sentences to be exact.'\n",
        "\n",
        "# Your code below\n",
        "len(sentence.split('.')[1])"
      ],
      "execution_count": null,
      "outputs": [
        {
          "output_type": "execute_result",
          "data": {
            "text/plain": [
              "31"
            ]
          },
          "metadata": {
            "tags": []
          },
          "execution_count": 72
        }
      ]
    },
    {
      "cell_type": "markdown",
      "metadata": {
        "id": "fUaxxVXuUoRj"
      },
      "source": [
        "## Exercise 4\n",
        "Given an email address as a string, extract only the domain name. For example:\n",
        "- `'johnsmith@gmail.com'` => `'gmail'`\n",
        "- `'smithjohn@hotmail.com'` => `'hotmail'`\n",
        "\n",
        "Hint: You can use multiple splits"
      ]
    },
    {
      "cell_type": "code",
      "metadata": {
        "id": "AXJRp4opUoRn",
        "outputId": "1c485c28-8cc3-462e-f668-266e06f61c39"
      },
      "source": [
        "email1 = 'johnsmith@gmail.com'\n",
        "email2 = 'smithjohn@hotmail.com'\n",
        "\n",
        "# Your code below\n",
        "def emaildomain(name):\n",
        "    print(name.split('@')[1])\n",
        "    \n",
        "emaildomain(email1)\n",
        "emaildomain(email2)"
      ],
      "execution_count": null,
      "outputs": [
        {
          "output_type": "stream",
          "text": [
            "gmail.com\n",
            "hotmail.com\n"
          ],
          "name": "stdout"
        }
      ]
    },
    {
      "cell_type": "markdown",
      "metadata": {
        "id": "fBZrB-l7UoR1"
      },
      "source": [
        "## Exercise 5\n",
        "- Given a string of songs `'LA Story, Lost Stars, Grenade'`\n",
        "- And a list of movies `[Avengers, Iron Man, Hulk]`\n",
        "- Join the songs and the movies together as a variable called `favourites` (Hint: List1 + List2)\n",
        "- Finally, add a book named `'NYPD Red'` to the end of the list"
      ]
    },
    {
      "cell_type": "code",
      "metadata": {
        "id": "WWUzYUS3UoR5",
        "outputId": "df223efd-06c2-47d8-fa7e-3fbd5baf8f3f"
      },
      "source": [
        "songs = 'LA Story, Lost Stars, Grenade'\n",
        "movies = ['Avengers', 'Iron Man', 'Hulk']\n",
        "\n",
        "# Your code below\n",
        "# favourites = songs + movies\n",
        "favourites = [songs] + movies\n",
        "print(favourites + ['NYPD Red'])"
      ],
      "execution_count": null,
      "outputs": [
        {
          "output_type": "stream",
          "text": [
            "['LA Story, Lost Stars, Grenade', 'Avengers', 'Iron Man', 'Hulk', 'NYPD Red']\n"
          ],
          "name": "stdout"
        }
      ]
    },
    {
      "cell_type": "markdown",
      "metadata": {
        "id": "J0PW3E_gUoSM"
      },
      "source": [
        "## Exercise 6\n",
        "\n",
        "- Create a program to check if there will be rain\n",
        "- The program should ask the user 'What day of the week is it?' using the `input` function\n",
        "- Using an if statement, if the day is equal to 'Monday' or 'Tuesday', print 'Today is sunny'\n",
        "- If it is not, print 'Today it will rain'"
      ]
    },
    {
      "cell_type": "code",
      "metadata": {
        "id": "yPFg36RfUoSO"
      },
      "source": [
        "# Your code below\n",
        "day = input('What day of the week is it?')\n",
        "if day == 'Monday' or day == 'Tuesday':\n",
        "    print ('Today is sunny')\n",
        "else:\n",
        "    print ('Today it will rain')"
      ],
      "execution_count": null,
      "outputs": []
    },
    {
      "cell_type": "markdown",
      "metadata": {
        "id": "6wUzlr1rUoSb"
      },
      "source": [
        "## Exercise 7\n",
        "Given a dictionary that represents a user of an online grocery store, use Python to answer the following:\n",
        "- Is their password the same as their username?\n",
        "- How many characters in their email **before** the `@` symbol\n",
        "- How old are they as of this year?\n",
        "- How many items in their shopping cart?\n",
        "\n",
        "Change the dictionary to do the following:\n",
        "- Add a new item to the dictionary called `online`, set the value to be `False`\n",
        "- Remove `'milk'` from their shopping cart\n",
        "- Add `'super milk'` to their shopping cart"
      ]
    },
    {
      "cell_type": "code",
      "metadata": {
        "id": "JXBCUkGyUoSe",
        "outputId": "998e9722-9073-41a2-caed-fb57550ff5e8"
      },
      "source": [
        "user = {\n",
        "    'username': 'coolguy123',\n",
        "    'password': 'coolguy123',\n",
        "    'email': 'coolguy@email.com',\n",
        "    'year_of_birth': 1900,\n",
        "    'shopping_cart': ['milk', 'bread', 'eggs', 'butter']\n",
        "}\n",
        "\n",
        "# Your code below\n",
        "\n",
        "# Is their password the same as their username?\n",
        "print('Is their password the same as their username? ',user['username'] == user['password'],'\\n')\n",
        "\n",
        "# How many characters in their email before the @ symbol\n",
        "print('How many characters in their email before the @ symbol? ', len(user['email'].split('@')[0]),'\\n')\n",
        "\n",
        "# How old are they as of this year?\n",
        "print('How old are they as of this year? ', 2020 - user['year_of_birth'],'\\n')\n",
        "\n",
        "# How many items in their shopping cart?\n",
        "print('How many items in their shopping cart? ', len(user['shopping_cart']),'\\n')\n",
        "\n",
        "# Add a new item to the dictionary called online, set the value to be False\n",
        "user.update({'online' : 'False'})\n",
        "print('Add a new item to the dictionary called online, set the value to be False\\n', user,'\\n')\n",
        "\n",
        "# Remove 'milk' from their shopping cart\n",
        "user['shopping_cart'].remove('milk')\n",
        "print(\"Remove 'milk' from their shopping cart\\n\",user,'\\n')\n",
        "\n",
        "# Add 'super milk' to their shopping cart\n",
        "(user['shopping_cart']).append('super milk')\n",
        "print(\"Add 'super milk' to their shopping cart\\n\",user,'\\n')"
      ],
      "execution_count": null,
      "outputs": [
        {
          "output_type": "stream",
          "text": [
            "Is their password the same as their username?  True \n",
            "\n",
            "How many characters in their email before the @ symbol?  7 \n",
            "\n",
            "How old are they as of this year?  120 \n",
            "\n",
            "How many items in their shopping cart?  4 \n",
            "\n",
            "Add a new item to the dictionary called online, set the value to be False\n",
            " {'username': 'coolguy123', 'password': 'coolguy123', 'email': 'coolguy@email.com', 'year_of_birth': 1900, 'shopping_cart': ['milk', 'bread', 'eggs', 'butter'], 'online': 'False'} \n",
            "\n",
            "Remove 'milk' from their shopping cart\n",
            " {'username': 'coolguy123', 'password': 'coolguy123', 'email': 'coolguy@email.com', 'year_of_birth': 1900, 'shopping_cart': ['bread', 'eggs', 'butter'], 'online': 'False'} \n",
            "\n",
            "Add 'super milk' to their shopping cart\n",
            " {'username': 'coolguy123', 'password': 'coolguy123', 'email': 'coolguy@email.com', 'year_of_birth': 1900, 'shopping_cart': ['bread', 'eggs', 'butter', 'super milk'], 'online': 'False'} \n",
            "\n"
          ],
          "name": "stdout"
        }
      ]
    },
    {
      "cell_type": "markdown",
      "metadata": {
        "id": "W9coz9xHUoSu"
      },
      "source": [
        "## Exercise 8 \n",
        "\n",
        "- Create a list with the following numbers: `[42, 2, 9, 7, 3, 53, 18]`\n",
        "- Create a new list with only the even numbers from the first list"
      ]
    },
    {
      "cell_type": "code",
      "metadata": {
        "id": "QMA_Lt8_UoSv",
        "outputId": "eedde7ca-cdeb-466c-c7f3-455d45954e8d"
      },
      "source": [
        "# Your code below\n",
        "lst = [42, 2, 9, 7, 3, 53, 18]\n",
        "x=0\n",
        "even =[]\n",
        "while x < len (lst):\n",
        "    if lst[x]%2 == 0:\n",
        "        even.append(lst[x])\n",
        "    x+=1\n",
        "print (even)"
      ],
      "execution_count": null,
      "outputs": [
        {
          "output_type": "stream",
          "text": [
            "[42, 2, 18]\n"
          ],
          "name": "stdout"
        }
      ]
    },
    {
      "cell_type": "markdown",
      "metadata": {
        "id": "EKuXydD6UoS9"
      },
      "source": [
        "## Exercise 9\n",
        "- The weight of a person on the moon is 1/6th the weight of a person standing on earth.\n",
        "- Let's say that your weight on earth increases by 1 kg every year\n",
        "- Write a program that will print your weight on the moon every year for the next 10 years\n",
        "- Your initial weight is 70kg\n"
      ]
    },
    {
      "cell_type": "code",
      "metadata": {
        "id": "yo9YEynuUoS-",
        "outputId": "3c2ae514-35ed-4749-902c-51677d46d26e"
      },
      "source": [
        "# Your code below\n",
        "weight_now=70\n",
        "for x in range(10):\n",
        "    print(\"at the end of year\", x+1,\\\n",
        "          'the person weight on the moon is',\\\n",
        "          (weight_now+x+1)/6)"
      ],
      "execution_count": null,
      "outputs": [
        {
          "output_type": "stream",
          "text": [
            "at the end of year 1 the person weight on the moon is 11.833333333333334\n",
            "at the end of year 2 the person weight on the moon is 12.0\n",
            "at the end of year 3 the person weight on the moon is 12.166666666666666\n",
            "at the end of year 4 the person weight on the moon is 12.333333333333334\n",
            "at the end of year 5 the person weight on the moon is 12.5\n",
            "at the end of year 6 the person weight on the moon is 12.666666666666666\n",
            "at the end of year 7 the person weight on the moon is 12.833333333333334\n",
            "at the end of year 8 the person weight on the moon is 13.0\n",
            "at the end of year 9 the person weight on the moon is 13.166666666666666\n",
            "at the end of year 10 the person weight on the moon is 13.333333333333334\n"
          ],
          "name": "stdout"
        }
      ]
    },
    {
      "cell_type": "markdown",
      "metadata": {
        "id": "1gJGjFrXUoTL"
      },
      "source": [
        "## Exercise 10\n",
        "Imagine a store has sold 5 orders of its product. Given a list of the prices of each order and a list of quantities for each order, calculate the total sales revenue.\n",
        "\n",
        "If you'd like a challenge, try solving it in one line. (Hint: list comprehension)"
      ]
    },
    {
      "cell_type": "code",
      "metadata": {
        "id": "Q1tk89mRUoTN",
        "outputId": "72e626f1-7f72-416b-da9d-8f4316e28168"
      },
      "source": [
        "prices = ['$5', '$10', '$1', '$20', '$7']\n",
        "quantities = [5, 2, 50, 5, 1]\n",
        "\n",
        "# Your code below\n",
        "# [prices[x]*quantities[x] for x in range(4)]\n",
        "sum([int(prices[x][1:])*quantities[x] for x in range(5)])"
      ],
      "execution_count": null,
      "outputs": [
        {
          "output_type": "execute_result",
          "data": {
            "text/plain": [
              "202"
            ]
          },
          "metadata": {
            "tags": []
          },
          "execution_count": 1
        }
      ]
    },
    {
      "cell_type": "markdown",
      "metadata": {
        "id": "MgALZjanUoTZ"
      },
      "source": [
        "## Hangman\n",
        "\n",
        "Create a Hangman game. The rules of Hangman can be found at:  https://en.wikipedia.org/wiki/Hangman_(game). For our version of the game we'll do the following:\n",
        "- The answer will be set to `'kangaroo'`\n",
        "- Use the `input` function to get the user's guess\n",
        "- Display the current board (ka_a_oo) and current guessed letters every turn\n",
        "- The player has 5 incorrect guess until they lose\n",
        "- If the user guesses all letters end the program and print 'You win'\n",
        "- If the user makes 5 incorrect guesses print 'You lose'\n",
        "\n",
        "### Bonus\n",
        "Try improving your game. You can make it as complex as you'd like. Some ideas to try:\n",
        "- Give the user the option to guess the whole word instead of one letter at a time\n",
        "- Randomly generate the answer\n",
        "- Reformat your code using functions\n",
        "- Handle error cases\n",
        "    - ex. If the user inputs an uppercase letter or a number\n",
        "- Make the game two players\n",
        "    - One player creates the answer and the other guesses\n",
        "    - When they're done switch roles\n",
        "    - Play multiple rounds and keep score to declare the winner"
      ]
    },
    {
      "cell_type": "code",
      "metadata": {
        "id": "0efL4uodUoTd",
        "outputId": "8c15988c-9928-4b1c-8f1b-534b456b333b"
      },
      "source": [
        "# Your code below\n",
        "completed_strings = ['k','a','_','_','a','_','o','o']\n",
        "missing_character = ['n','g','r']\n",
        "missing_locations = [ 2 , 3 , 5 ]\n",
        "allowable_guesses = 5\n",
        "attempted_guesses = 0\n",
        "while attempted_guesses < allowable_guesses:\n",
        "    guess_letter = input(\"guess a letter !\")\n",
        "    if guess_letter in missing_character:\n",
        "        completed_strings[missing_locations[missing_character.index(guess_letter)]]=guess_letter\n",
        "        print('completed string', ''.join(completed_strings))\n",
        "        missing_locations.pop(missing_character.index(guess_letter))\n",
        "        missing_character.remove(guess_letter)\n",
        "        if ''.join(completed_strings) == 'kangaroo':\n",
        "            print ('You win')\n",
        "            break\n",
        "    attempted_guesses += 1 \n",
        "if ''.join(completed_strings) != 'kangaroo':\n",
        "    print ('You lose')\n"
      ],
      "execution_count": null,
      "outputs": [
        {
          "output_type": "stream",
          "text": [
            "guess a letter ! q\n",
            "guess a letter ! w\n",
            "guess a letter ! e\n",
            "guess a letter ! n\n"
          ],
          "name": "stdin"
        },
        {
          "output_type": "stream",
          "text": [
            "completed string kan_a_oo\n"
          ],
          "name": "stdout"
        },
        {
          "output_type": "stream",
          "text": [
            "guess a letter ! g\n"
          ],
          "name": "stdin"
        },
        {
          "output_type": "stream",
          "text": [
            "completed string kanga_oo\n",
            "You lose\n"
          ],
          "name": "stdout"
        }
      ]
    },
    {
      "cell_type": "code",
      "metadata": {
        "id": "Z4gx2I28UoTp"
      },
      "source": [
        ""
      ],
      "execution_count": null,
      "outputs": []
    }
  ]
}