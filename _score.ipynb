{
  "nbformat": 4,
  "nbformat_minor": 0,
  "metadata": {
    "colab": {
      "name": "_score.ipynb",
      "provenance": [],
      "authorship_tag": "ABX9TyPOYy4EUobuZqKeLszT5b/c",
      "include_colab_link": true
    },
    "kernelspec": {
      "name": "python3",
      "display_name": "Python 3"
    },
    "language_info": {
      "name": "python"
    },
    "accelerator": "TPU"
  },
  "cells": [
    {
      "cell_type": "markdown",
      "metadata": {
        "id": "view-in-github",
        "colab_type": "text"
      },
      "source": [
        "<a href=\"https://colab.research.google.com/github/FariusGitHub/DataScience/blob/master/_score.ipynb\" target=\"_parent\"><img src=\"https://colab.research.google.com/assets/colab-badge.svg\" alt=\"Open In Colab\"/></a>"
      ]
    },
    {
      "cell_type": "markdown",
      "metadata": {
        "id": "MFl0966x3S9E"
      },
      "source": [
        "### Explaination of Elasticsearch computed score number\n",
        "Farius Tjioesman, April 24, 2021\n",
        "\n",
        "Ever wondering what formula is behind the elasticsearch _score when es.search was called?<br>\n",
        "Why the number keep changing although a data was just updated while the version went up?\n",
        "\n",
        "Localhost:9200 would be setup on Colab instance.<br>\n",
        "Kibana terminal is not needed for this exercise."
      ]
    },
    {
      "cell_type": "code",
      "metadata": {
        "id": "Sr0ecLr5CXoR"
      },
      "source": [
        "from time import sleep"
      ],
      "execution_count": 168,
      "outputs": []
    },
    {
      "cell_type": "code",
      "metadata": {
        "colab": {
          "base_uri": "https://localhost:8080/"
        },
        "id": "uGV1F2iCvqO1",
        "outputId": "f7c027ac-9d63-46a5-8fcf-d23062f22153"
      },
      "source": [
        "# install es server\n",
        "!wget https://artifacts.elastic.co/downloads/elasticsearch/elasticsearch-7.0.0-linux-x86_64.tar.gz -q --show-progress\n",
        "!tar -xzf elasticsearch-7.0.0-linux-x86_64.tar.gz\n",
        "!chown -R daemon:daemon elasticsearch-7.0.0"
      ],
      "execution_count": 169,
      "outputs": [
        {
          "output_type": "stream",
          "text": [
            "elasticsearch-7.0.0 100%[===================>] 330.70M  42.0MB/s    in 7.7s    \n"
          ],
          "name": "stdout"
        }
      ]
    },
    {
      "cell_type": "code",
      "metadata": {
        "colab": {
          "base_uri": "https://localhost:8080/"
        },
        "id": "bDPAuTf5v1PQ",
        "outputId": "dd1288ed-617a-4a49-bd69-2ec57b6ed6ad"
      },
      "source": [
        "# start server and check es virtual machine connection\n",
        "import os\n",
        "from subprocess import Popen, PIPE, STDOUT\n",
        "es_server = Popen(['elasticsearch-7.0.0/bin/elasticsearch'], \n",
        "                  stdout=PIPE, stderr=STDOUT,\n",
        "                  preexec_fn=lambda: os.setuid(1)  # as daemon\n",
        "                 )\n",
        "# wait a bit then test\n",
        "!curl -X GET \"localhost:9200/\""
      ],
      "execution_count": 170,
      "outputs": [
        {
          "output_type": "stream",
          "text": [
            "{\n",
            "  \"name\" : \"c0dad698fc4d\",\n",
            "  \"cluster_name\" : \"elasticsearch\",\n",
            "  \"cluster_uuid\" : \"X48WylC7Q3WBlrc18b8nOg\",\n",
            "  \"version\" : {\n",
            "    \"number\" : \"7.0.0\",\n",
            "    \"build_flavor\" : \"default\",\n",
            "    \"build_type\" : \"tar\",\n",
            "    \"build_hash\" : \"b7e28a7\",\n",
            "    \"build_date\" : \"2019-04-05T22:55:32.697037Z\",\n",
            "    \"build_snapshot\" : false,\n",
            "    \"lucene_version\" : \"8.0.0\",\n",
            "    \"minimum_wire_compatibility_version\" : \"6.7.0\",\n",
            "    \"minimum_index_compatibility_version\" : \"6.0.0-beta1\"\n",
            "  },\n",
            "  \"tagline\" : \"You Know, for Search\"\n",
            "}\n"
          ],
          "name": "stdout"
        }
      ]
    },
    {
      "cell_type": "code",
      "metadata": {
        "colab": {
          "base_uri": "https://localhost:8080/"
        },
        "id": "W60r88Itv5SD",
        "outputId": "32ab5029-0f16-4fca-9ade-1933e1323ba5"
      },
      "source": [
        "# client-side\n",
        "!pip install elasticsearch -q\n",
        "from elasticsearch import Elasticsearch\n",
        "es = Elasticsearch()\n",
        "es.ping()  # got True"
      ],
      "execution_count": 171,
      "outputs": [
        {
          "output_type": "execute_result",
          "data": {
            "text/plain": [
              "True"
            ]
          },
          "metadata": {
            "tags": []
          },
          "execution_count": 171
        }
      ]
    },
    {
      "cell_type": "code",
      "metadata": {
        "colab": {
          "base_uri": "https://localhost:8080/"
        },
        "id": "TaE9c-3lwDVE",
        "outputId": "6203e9d2-afc6-4df2-94f5-7b139c184605"
      },
      "source": [
        "# RESET the index, wipe off all the versions\n",
        "es.indices.delete(index='megacorp', ignore=[400, 404])"
      ],
      "execution_count": 172,
      "outputs": [
        {
          "output_type": "execute_result",
          "data": {
            "text/plain": [
              "{'acknowledged': True}"
            ]
          },
          "metadata": {
            "tags": []
          },
          "execution_count": 172
        }
      ]
    },
    {
      "cell_type": "code",
      "metadata": {
        "colab": {
          "base_uri": "https://localhost:8080/"
        },
        "id": "9ENA9FidwMEi",
        "outputId": "ff46e0c2-ce7f-4d73-e799-fa74ee60dcee"
      },
      "source": [
        "#Ingest first dataset\n",
        "#To increase the version it would be run 4x for example with iteration below\n",
        "for i in range(4):\n",
        "  e1={\n",
        "      \"first_name\":\"Indrani\",\n",
        "      \"last_name\":\"Bhattacharya\",\n",
        "      \"age\": 27,\n",
        "      \"about\": \"KNN, XGBoost, LDA\",\n",
        "      \"interests\": ['Toastmaster','PMI'],\n",
        "  }\n",
        "  res = es.index(index='megacorp',doc_type='employee',id=1,body=e1)"
      ],
      "execution_count": 173,
      "outputs": [
        {
          "output_type": "stream",
          "text": [
            "/usr/local/lib/python3.7/dist-packages/elasticsearch/connection/base.py:200: ElasticsearchWarning: [types removal] Specifying types in document index requests is deprecated, use the typeless endpoints instead (/{index}/_doc/{id}, /{index}/_doc, or /{index}/_create/{id}).\n",
            "  warnings.warn(message, category=ElasticsearchWarning)\n"
          ],
          "name": "stderr"
        }
      ]
    },
    {
      "cell_type": "code",
      "metadata": {
        "colab": {
          "base_uri": "https://localhost:8080/"
        },
        "id": "wpPU-QQrwTTv",
        "outputId": "9e0008cf-fb66-4f77-cba6-4a5d55f75dc7"
      },
      "source": [
        "#Ingest second dataset \n",
        "#To increase the version it would be run it 3x for example\n",
        "for j in range(3):\n",
        "  e2={\n",
        "      \"first_name\" :  \"David\",\n",
        "      \"last_name\" :   \"Tian\",\n",
        "      \"age\" :         32,\n",
        "      \"about\" :       \"Best Teaching Assistant\",\n",
        "      \"interests\":  [ \"Big Data\" ]\n",
        "  }\n",
        "  res=es.index(index='megacorp',doc_type='employee',id=2,body=e2)"
      ],
      "execution_count": 174,
      "outputs": [
        {
          "output_type": "stream",
          "text": [
            "/usr/local/lib/python3.7/dist-packages/elasticsearch/connection/base.py:200: ElasticsearchWarning: [types removal] Specifying types in document index requests is deprecated, use the typeless endpoints instead (/{index}/_doc/{id}, /{index}/_doc, or /{index}/_create/{id}).\n",
            "  warnings.warn(message, category=ElasticsearchWarning)\n"
          ],
          "name": "stderr"
        }
      ]
    },
    {
      "cell_type": "code",
      "metadata": {
        "colab": {
          "base_uri": "https://localhost:8080/"
        },
        "id": "Wk9Ejj12wWi3",
        "outputId": "50d37e1b-f3f2-4f57-b05a-bb1d6823f6ae"
      },
      "source": [
        "#Check out if the _version of _id 1 is 4\n",
        "es.get(index='megacorp',doc_type='employee',id=1)"
      ],
      "execution_count": 175,
      "outputs": [
        {
          "output_type": "stream",
          "text": [
            "/usr/local/lib/python3.7/dist-packages/elasticsearch/connection/base.py:200: ElasticsearchWarning: [types removal] Specifying types in document get requests is deprecated, use the /{index}/_doc/{id} endpoint instead.\n",
            "  warnings.warn(message, category=ElasticsearchWarning)\n"
          ],
          "name": "stderr"
        },
        {
          "output_type": "execute_result",
          "data": {
            "text/plain": [
              "{'_id': '1',\n",
              " '_index': 'megacorp',\n",
              " '_primary_term': 1,\n",
              " '_seq_no': 3,\n",
              " '_source': {'about': 'KNN, XGBoost, LDA',\n",
              "  'age': 27,\n",
              "  'first_name': 'Indrani',\n",
              "  'interests': ['Toastmaster', 'PMI'],\n",
              "  'last_name': 'Bhattacharya'},\n",
              " '_type': 'employee',\n",
              " '_version': 4,\n",
              " 'found': True}"
            ]
          },
          "metadata": {
            "tags": []
          },
          "execution_count": 175
        }
      ]
    },
    {
      "cell_type": "code",
      "metadata": {
        "colab": {
          "base_uri": "https://localhost:8080/"
        },
        "id": "lQvyv1wjwbB4",
        "outputId": "c6190148-0b3c-4d73-b134-47d83760b18b"
      },
      "source": [
        "#Check out if the _version of _id 2 is 3\n",
        "es.get(index='megacorp',doc_type='employee',id=2)"
      ],
      "execution_count": 176,
      "outputs": [
        {
          "output_type": "stream",
          "text": [
            "/usr/local/lib/python3.7/dist-packages/elasticsearch/connection/base.py:200: ElasticsearchWarning: [types removal] Specifying types in document get requests is deprecated, use the /{index}/_doc/{id} endpoint instead.\n",
            "  warnings.warn(message, category=ElasticsearchWarning)\n"
          ],
          "name": "stderr"
        },
        {
          "output_type": "execute_result",
          "data": {
            "text/plain": [
              "{'_id': '2',\n",
              " '_index': 'megacorp',\n",
              " '_primary_term': 1,\n",
              " '_seq_no': 6,\n",
              " '_source': {'about': 'Best Teaching Assistant',\n",
              "  'age': 32,\n",
              "  'first_name': 'David',\n",
              "  'interests': ['Big Data'],\n",
              "  'last_name': 'Tian'},\n",
              " '_type': 'employee',\n",
              " '_version': 3,\n",
              " 'found': True}"
            ]
          },
          "metadata": {
            "tags": []
          },
          "execution_count": 176
        }
      ]
    },
    {
      "cell_type": "code",
      "metadata": {
        "id": "DoiNlWLECdbu"
      },
      "source": [
        "#to slowdown Colab and allow elasticsearch to update, unless below cells will return null\n",
        "sleep(1.0)"
      ],
      "execution_count": 177,
      "outputs": []
    },
    {
      "cell_type": "code",
      "metadata": {
        "colab": {
          "base_uri": "https://localhost:8080/"
        },
        "id": "kkCtAFxCwij6",
        "outputId": "e52596d4-8693-4414-9278-8bedee970006"
      },
      "source": [
        "#The data is only two (_id 1 and _id 2), but the _versions are 4 and 3\n",
        "res= es.search(index='megacorp',body={'query':{'match_all':{}}})\n",
        "print('Got '+str(res['hits']['total']['value'])+' hits')"
      ],
      "execution_count": 178,
      "outputs": [
        {
          "output_type": "stream",
          "text": [
            "Got 2 hits\n"
          ],
          "name": "stdout"
        }
      ]
    },
    {
      "cell_type": "markdown",
      "metadata": {
        "id": "hux4D7IFxLv5"
      },
      "source": [
        "https://www.wolframalpha.com/input/?i=0.8266786"
      ]
    },
    {
      "cell_type": "code",
      "metadata": {
        "colab": {
          "base_uri": "https://localhost:8080/"
        },
        "id": "REygQbeWxFrv",
        "outputId": "60b8228a-360c-45b9-8e22-fc249d833dfb"
      },
      "source": [
        "#Check the score from above website \n",
        "res= es.search(index='megacorp',body={'query':{'match':{'first_name':'david'}}})\n",
        "res['hits']['hits']"
      ],
      "execution_count": 179,
      "outputs": [
        {
          "output_type": "execute_result",
          "data": {
            "text/plain": [
              "[{'_id': '2',\n",
              "  '_index': 'megacorp',\n",
              "  '_score': 0.8266786,\n",
              "  '_source': {'about': 'Best Teaching Assistant',\n",
              "   'age': 32,\n",
              "   'first_name': 'David',\n",
              "   'interests': ['Big Data'],\n",
              "   'last_name': 'Tian'},\n",
              "  '_type': 'employee'}]"
            ]
          },
          "metadata": {
            "tags": []
          },
          "execution_count": 179
        }
      ]
    },
    {
      "cell_type": "markdown",
      "metadata": {
        "id": "zkyH49oa_mNX"
      },
      "source": [
        "Above example showed _score = 0.8266786 <br>\n",
        "From WolframAlpha that is equal to log 16/7<br>\n",
        "Therefore elasticsearch _score is as follow"
      ]
    },
    {
      "cell_type": "markdown",
      "metadata": {
        "id": "CkxVrfb0IpOw"
      },
      "source": [
        "![Picture2.png](data:image/png;base64,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)"
      ]
    }
  ]
}