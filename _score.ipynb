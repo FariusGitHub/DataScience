{
  "nbformat": 4,
  "nbformat_minor": 0,
  "metadata": {
    "colab": {
      "name": "_score.ipynb",
      "provenance": [],
      "authorship_tag": "ABX9TyMDwZciqKWVAhDlaVmQ3Mh7",
      "include_colab_link": true
    },
    "kernelspec": {
      "name": "python3",
      "display_name": "Python 3"
    },
    "language_info": {
      "name": "python"
    },
    "accelerator": "TPU"
  },
  "cells": [
    {
      "cell_type": "markdown",
      "metadata": {
        "id": "view-in-github",
        "colab_type": "text"
      },
      "source": [
        "<a href=\"https://colab.research.google.com/github/FariusGitHub/DataScience/blob/master/_score.ipynb\" target=\"_parent\"><img src=\"https://colab.research.google.com/assets/colab-badge.svg\" alt=\"Open In Colab\"/></a>"
      ]
    },
    {
      "cell_type": "markdown",
      "metadata": {
        "id": "MFl0966x3S9E"
      },
      "source": [
        "### Explaination of Elasticsearch computed score number\n",
        "Farius Tjioesman, April 24, 2021\n",
        "\n",
        "Ever wondering what formula is behind the elasticsearch _score when es.search was called?<br>\n",
        "Why the number keep changing although a data was just updated while the version went up?\n",
        "\n",
        "Localhost:9200 would be setup on Colab instance.<br>\n",
        "Kibana terminal is not needed for this exercise."
      ]
    },
    {
      "cell_type": "code",
      "metadata": {
        "colab": {
          "base_uri": "https://localhost:8080/"
        },
        "id": "uGV1F2iCvqO1",
        "outputId": "b6c4c0cc-bcd7-4e90-ce8a-cf95c6dcd53e"
      },
      "source": [
        "# install es server\n",
        "!wget https://artifacts.elastic.co/downloads/elasticsearch/elasticsearch-7.0.0-linux-x86_64.tar.gz -q --show-progress\n",
        "!tar -xzf elasticsearch-7.0.0-linux-x86_64.tar.gz\n",
        "!chown -R daemon:daemon elasticsearch-7.0.0"
      ],
      "execution_count": 1,
      "outputs": [
        {
          "output_type": "stream",
          "text": [
            "elasticsearch-7.0.0 100%[===================>] 330.70M  49.8MB/s    in 7.2s    \n"
          ],
          "name": "stdout"
        }
      ]
    },
    {
      "cell_type": "code",
      "metadata": {
        "colab": {
          "base_uri": "https://localhost:8080/"
        },
        "id": "bDPAuTf5v1PQ",
        "outputId": "fa10c73c-8146-4da1-9fbf-eb2cf01c6df2"
      },
      "source": [
        "# start server and check es virtual machine connection\n",
        "import os\n",
        "from subprocess import Popen, PIPE, STDOUT\n",
        "es_server = Popen(['elasticsearch-7.0.0/bin/elasticsearch'], \n",
        "                  stdout=PIPE, stderr=STDOUT,\n",
        "                  preexec_fn=lambda: os.setuid(1)  # as daemon\n",
        "                 )\n",
        "# wait a bit then test\n",
        "!curl -X GET \"localhost:9200/\""
      ],
      "execution_count": 2,
      "outputs": [
        {
          "output_type": "stream",
          "text": [
            "{\n",
            "  \"name\" : \"ae017ebef53a\",\n",
            "  \"cluster_name\" : \"elasticsearch\",\n",
            "  \"cluster_uuid\" : \"6wcL49s1RnSinqWo96EwWQ\",\n",
            "  \"version\" : {\n",
            "    \"number\" : \"7.0.0\",\n",
            "    \"build_flavor\" : \"default\",\n",
            "    \"build_type\" : \"tar\",\n",
            "    \"build_hash\" : \"b7e28a7\",\n",
            "    \"build_date\" : \"2019-04-05T22:55:32.697037Z\",\n",
            "    \"build_snapshot\" : false,\n",
            "    \"lucene_version\" : \"8.0.0\",\n",
            "    \"minimum_wire_compatibility_version\" : \"6.7.0\",\n",
            "    \"minimum_index_compatibility_version\" : \"6.0.0-beta1\"\n",
            "  },\n",
            "  \"tagline\" : \"You Know, for Search\"\n",
            "}\n"
          ],
          "name": "stdout"
        }
      ]
    },
    {
      "cell_type": "code",
      "metadata": {
        "colab": {
          "base_uri": "https://localhost:8080/"
        },
        "id": "W60r88Itv5SD",
        "outputId": "24fb3786-2847-4374-f1fb-45179ec57a32"
      },
      "source": [
        "# client-side\n",
        "!pip install elasticsearch -q\n",
        "from elasticsearch import Elasticsearch\n",
        "es = Elasticsearch()\n",
        "es.ping()  # got True"
      ],
      "execution_count": 3,
      "outputs": [
        {
          "output_type": "execute_result",
          "data": {
            "text/plain": [
              "True"
            ]
          },
          "metadata": {
            "tags": []
          },
          "execution_count": 3
        }
      ]
    },
    {
      "cell_type": "code",
      "metadata": {
        "colab": {
          "base_uri": "https://localhost:8080/"
        },
        "id": "TaE9c-3lwDVE",
        "outputId": "f8bfedaa-06fc-404a-bb18-4350d1684827"
      },
      "source": [
        "# RESET the index, wipe off all the versions\n",
        "es.indices.delete(index='megacorp', ignore=[400, 404])"
      ],
      "execution_count": 4,
      "outputs": [
        {
          "output_type": "execute_result",
          "data": {
            "text/plain": [
              "{'acknowledged': True}"
            ]
          },
          "metadata": {
            "tags": []
          },
          "execution_count": 4
        }
      ]
    },
    {
      "cell_type": "code",
      "metadata": {
        "colab": {
          "base_uri": "https://localhost:8080/"
        },
        "id": "9ENA9FidwMEi",
        "outputId": "5631ce4d-e8ea-41bb-e675-f6a4f22eb62c"
      },
      "source": [
        "#Ingest first dataset (you can re-run this cell few times to increase the version)\n",
        "# it would be run 4x for example with iteration below\n",
        "for i in range(4):\n",
        "  e1={\n",
        "      \"first_name\":\"nitin\",\n",
        "      \"last_name\":\"panwar\",\n",
        "      \"age\": 27,\n",
        "      \"about\": \"Love to play cricket\",\n",
        "      \"interests\": ['sports','music'],\n",
        "  }\n",
        "  res = es.index(index='megacorp',doc_type='employee',id=1,body=e1)"
      ],
      "execution_count": 8,
      "outputs": [
        {
          "output_type": "stream",
          "text": [
            "/usr/local/lib/python3.7/dist-packages/elasticsearch/connection/base.py:200: ElasticsearchWarning: [types removal] Specifying types in document index requests is deprecated, use the typeless endpoints instead (/{index}/_doc/{id}, /{index}/_doc, or /{index}/_create/{id}).\n",
            "  warnings.warn(message, category=ElasticsearchWarning)\n"
          ],
          "name": "stderr"
        }
      ]
    },
    {
      "cell_type": "code",
      "metadata": {
        "colab": {
          "base_uri": "https://localhost:8080/"
        },
        "id": "wpPU-QQrwTTv",
        "outputId": "3141bcda-04c2-4d39-f16b-57019451d02c"
      },
      "source": [
        "#Ingest first dataset (you can re-run this cell few times to increase the version)\n",
        "# It would be run it 3x for example\n",
        "for j in range(3):\n",
        "  e2={\n",
        "      \"first_name\" :  \"Jane\",\n",
        "      \"last_name\" :   \"Smith\",\n",
        "      \"age\" :         32,\n",
        "      \"about\" :       \"I like to collect rock albums\",\n",
        "      \"interests\":  [ \"music\" ]\n",
        "  }\n",
        "  res=es.index(index='megacorp',doc_type='employee',id=2,body=e2)"
      ],
      "execution_count": 9,
      "outputs": [
        {
          "output_type": "stream",
          "text": [
            "/usr/local/lib/python3.7/dist-packages/elasticsearch/connection/base.py:200: ElasticsearchWarning: [types removal] Specifying types in document index requests is deprecated, use the typeless endpoints instead (/{index}/_doc/{id}, /{index}/_doc, or /{index}/_create/{id}).\n",
            "  warnings.warn(message, category=ElasticsearchWarning)\n"
          ],
          "name": "stderr"
        }
      ]
    },
    {
      "cell_type": "code",
      "metadata": {
        "colab": {
          "base_uri": "https://localhost:8080/"
        },
        "id": "Wk9Ejj12wWi3",
        "outputId": "d4558b5f-872b-442a-8d12-aca3c0278c86"
      },
      "source": [
        "#Check out if the _version of _id 1 is 4\n",
        "es.get(index='megacorp',doc_type='employee',id=1)"
      ],
      "execution_count": 10,
      "outputs": [
        {
          "output_type": "stream",
          "text": [
            "/usr/local/lib/python3.7/dist-packages/elasticsearch/connection/base.py:200: ElasticsearchWarning: [types removal] Specifying types in document get requests is deprecated, use the /{index}/_doc/{id} endpoint instead.\n",
            "  warnings.warn(message, category=ElasticsearchWarning)\n"
          ],
          "name": "stderr"
        },
        {
          "output_type": "execute_result",
          "data": {
            "text/plain": [
              "{'_id': '1',\n",
              " '_index': 'megacorp',\n",
              " '_primary_term': 1,\n",
              " '_seq_no': 3,\n",
              " '_source': {'about': 'Love to play cricket',\n",
              "  'age': 27,\n",
              "  'first_name': 'nitin',\n",
              "  'interests': ['sports', 'music'],\n",
              "  'last_name': 'panwar'},\n",
              " '_type': 'employee',\n",
              " '_version': 4,\n",
              " 'found': True}"
            ]
          },
          "metadata": {
            "tags": []
          },
          "execution_count": 10
        }
      ]
    },
    {
      "cell_type": "code",
      "metadata": {
        "colab": {
          "base_uri": "https://localhost:8080/"
        },
        "id": "lQvyv1wjwbB4",
        "outputId": "61eeadbc-a8fa-4917-ffd2-797e07233f81"
      },
      "source": [
        "#Check out if the _version of _id 2 is 3\n",
        "es.get(index='megacorp',doc_type='employee',id=2)"
      ],
      "execution_count": 11,
      "outputs": [
        {
          "output_type": "stream",
          "text": [
            "/usr/local/lib/python3.7/dist-packages/elasticsearch/connection/base.py:200: ElasticsearchWarning: [types removal] Specifying types in document get requests is deprecated, use the /{index}/_doc/{id} endpoint instead.\n",
            "  warnings.warn(message, category=ElasticsearchWarning)\n"
          ],
          "name": "stderr"
        },
        {
          "output_type": "execute_result",
          "data": {
            "text/plain": [
              "{'_id': '2',\n",
              " '_index': 'megacorp',\n",
              " '_primary_term': 1,\n",
              " '_seq_no': 6,\n",
              " '_source': {'about': 'I like to collect rock albums',\n",
              "  'age': 32,\n",
              "  'first_name': 'Jane',\n",
              "  'interests': ['music'],\n",
              "  'last_name': 'Smith'},\n",
              " '_type': 'employee',\n",
              " '_version': 3,\n",
              " 'found': True}"
            ]
          },
          "metadata": {
            "tags": []
          },
          "execution_count": 11
        }
      ]
    },
    {
      "cell_type": "code",
      "metadata": {
        "colab": {
          "base_uri": "https://localhost:8080/"
        },
        "id": "kkCtAFxCwij6",
        "outputId": "0100b54a-2d92-41ae-c110-b359951be5e1"
      },
      "source": [
        "#The data is only two (_id 1 and _id 2), but the _versions are 4 and 3\n",
        "res= es.search(index='megacorp',body={'query':{'match_all':{}}})\n",
        "print('Got '+str(res['hits']['total']['value'])+' hits')"
      ],
      "execution_count": 12,
      "outputs": [
        {
          "output_type": "stream",
          "text": [
            "Got 2 hits\n"
          ],
          "name": "stdout"
        }
      ]
    },
    {
      "cell_type": "markdown",
      "metadata": {
        "id": "hux4D7IFxLv5"
      },
      "source": [
        "https://www.wolframalpha.com/input/?i=0.8266786"
      ]
    },
    {
      "cell_type": "code",
      "metadata": {
        "colab": {
          "base_uri": "https://localhost:8080/"
        },
        "id": "REygQbeWxFrv",
        "outputId": "a91259d2-5128-4416-e20e-e0a5680b3282"
      },
      "source": [
        "#Check the score from above website \n",
        "res= es.search(index='megacorp',body={'query':{'match':{'first_name':'jane'}}})\n",
        "res['hits']['hits']"
      ],
      "execution_count": 13,
      "outputs": [
        {
          "output_type": "execute_result",
          "data": {
            "text/plain": [
              "[{'_id': '2',\n",
              "  '_index': 'megacorp',\n",
              "  '_score': 0.8266786,\n",
              "  '_source': {'about': 'I like to collect rock albums',\n",
              "   'age': 32,\n",
              "   'first_name': 'Jane',\n",
              "   'interests': ['music'],\n",
              "   'last_name': 'Smith'},\n",
              "  '_type': 'employee'}]"
            ]
          },
          "metadata": {
            "tags": []
          },
          "execution_count": 13
        }
      ]
    },
    {
      "cell_type": "markdown",
      "metadata": {
        "id": "t6Cu8k8n3HGu"
      },
      "source": [
        "![Picture1.png](data:image/png;base64,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)"
      ]
    }
  ]
}