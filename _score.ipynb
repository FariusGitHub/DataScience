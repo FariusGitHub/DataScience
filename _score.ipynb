{
  "nbformat": 4,
  "nbformat_minor": 0,
  "metadata": {
    "colab": {
      "name": "_score.ipynb",
      "provenance": [],
      "authorship_tag": "ABX9TyNa6WbfEmLNKBjOUINw7xzu",
      "include_colab_link": true
    },
    "kernelspec": {
      "name": "python3",
      "display_name": "Python 3"
    },
    "language_info": {
      "name": "python"
    },
    "accelerator": "TPU"
  },
  "cells": [
    {
      "cell_type": "markdown",
      "metadata": {
        "id": "view-in-github",
        "colab_type": "text"
      },
      "source": [
        "<a href=\"https://colab.research.google.com/github/FariusGitHub/DataScience/blob/master/_score.ipynb\" target=\"_parent\"><img src=\"https://colab.research.google.com/assets/colab-badge.svg\" alt=\"Open In Colab\"/></a>"
      ]
    },
    {
      "cell_type": "markdown",
      "metadata": {
        "id": "MFl0966x3S9E"
      },
      "source": [
        "### Explaination of Elasticsearch computed score number\n",
        "Farius Tjioesman, April 24, 2021\n",
        "\n",
        "Ever wondering what formula is behind the elasticsearch _score when es.search was called?<br>\n",
        "Why the number keep changing although a data was just updated while the version went up?\n",
        "\n",
        "Localhost:9200 would be setup on Colab instance.<br>\n",
        "Kibana terminal is not needed for this exercise."
      ]
    },
    {
      "cell_type": "code",
      "metadata": {
        "id": "Sr0ecLr5CXoR"
      },
      "source": [
        "from time import sleep"
      ],
      "execution_count": 168,
      "outputs": []
    },
    {
      "cell_type": "code",
      "metadata": {
        "colab": {
          "base_uri": "https://localhost:8080/"
        },
        "id": "uGV1F2iCvqO1",
        "outputId": "f7c027ac-9d63-46a5-8fcf-d23062f22153"
      },
      "source": [
        "# install es server\n",
        "!wget https://artifacts.elastic.co/downloads/elasticsearch/elasticsearch-7.0.0-linux-x86_64.tar.gz -q --show-progress\n",
        "!tar -xzf elasticsearch-7.0.0-linux-x86_64.tar.gz\n",
        "!chown -R daemon:daemon elasticsearch-7.0.0"
      ],
      "execution_count": 169,
      "outputs": [
        {
          "output_type": "stream",
          "text": [
            "elasticsearch-7.0.0 100%[===================>] 330.70M  42.0MB/s    in 7.7s    \n"
          ],
          "name": "stdout"
        }
      ]
    },
    {
      "cell_type": "code",
      "metadata": {
        "colab": {
          "base_uri": "https://localhost:8080/"
        },
        "id": "bDPAuTf5v1PQ",
        "outputId": "dd1288ed-617a-4a49-bd69-2ec57b6ed6ad"
      },
      "source": [
        "# start server and check es virtual machine connection\n",
        "import os\n",
        "from subprocess import Popen, PIPE, STDOUT\n",
        "es_server = Popen(['elasticsearch-7.0.0/bin/elasticsearch'], \n",
        "                  stdout=PIPE, stderr=STDOUT,\n",
        "                  preexec_fn=lambda: os.setuid(1)  # as daemon\n",
        "                 )\n",
        "# wait a bit then test\n",
        "!curl -X GET \"localhost:9200/\""
      ],
      "execution_count": 170,
      "outputs": [
        {
          "output_type": "stream",
          "text": [
            "{\n",
            "  \"name\" : \"c0dad698fc4d\",\n",
            "  \"cluster_name\" : \"elasticsearch\",\n",
            "  \"cluster_uuid\" : \"X48WylC7Q3WBlrc18b8nOg\",\n",
            "  \"version\" : {\n",
            "    \"number\" : \"7.0.0\",\n",
            "    \"build_flavor\" : \"default\",\n",
            "    \"build_type\" : \"tar\",\n",
            "    \"build_hash\" : \"b7e28a7\",\n",
            "    \"build_date\" : \"2019-04-05T22:55:32.697037Z\",\n",
            "    \"build_snapshot\" : false,\n",
            "    \"lucene_version\" : \"8.0.0\",\n",
            "    \"minimum_wire_compatibility_version\" : \"6.7.0\",\n",
            "    \"minimum_index_compatibility_version\" : \"6.0.0-beta1\"\n",
            "  },\n",
            "  \"tagline\" : \"You Know, for Search\"\n",
            "}\n"
          ],
          "name": "stdout"
        }
      ]
    },
    {
      "cell_type": "code",
      "metadata": {
        "colab": {
          "base_uri": "https://localhost:8080/"
        },
        "id": "W60r88Itv5SD",
        "outputId": "32ab5029-0f16-4fca-9ade-1933e1323ba5"
      },
      "source": [
        "# client-side\n",
        "!pip install elasticsearch -q\n",
        "from elasticsearch import Elasticsearch\n",
        "es = Elasticsearch()\n",
        "es.ping()  # got True"
      ],
      "execution_count": 171,
      "outputs": [
        {
          "output_type": "execute_result",
          "data": {
            "text/plain": [
              "True"
            ]
          },
          "metadata": {
            "tags": []
          },
          "execution_count": 171
        }
      ]
    },
    {
      "cell_type": "code",
      "metadata": {
        "colab": {
          "base_uri": "https://localhost:8080/"
        },
        "id": "TaE9c-3lwDVE",
        "outputId": "6203e9d2-afc6-4df2-94f5-7b139c184605"
      },
      "source": [
        "# RESET the index, wipe off all the versions\n",
        "es.indices.delete(index='megacorp', ignore=[400, 404])"
      ],
      "execution_count": 172,
      "outputs": [
        {
          "output_type": "execute_result",
          "data": {
            "text/plain": [
              "{'acknowledged': True}"
            ]
          },
          "metadata": {
            "tags": []
          },
          "execution_count": 172
        }
      ]
    },
    {
      "cell_type": "code",
      "metadata": {
        "colab": {
          "base_uri": "https://localhost:8080/"
        },
        "id": "9ENA9FidwMEi",
        "outputId": "ff46e0c2-ce7f-4d73-e799-fa74ee60dcee"
      },
      "source": [
        "#Ingest first dataset\n",
        "#To increase the version it would be run 4x for example with iteration below\n",
        "for i in range(4):\n",
        "  e1={\n",
        "      \"first_name\":\"Indrani\",\n",
        "      \"last_name\":\"Bhattacharya\",\n",
        "      \"age\": 27,\n",
        "      \"about\": \"KNN, XGBoost, LDA\",\n",
        "      \"interests\": ['Toastmaster','PMI'],\n",
        "  }\n",
        "  res = es.index(index='megacorp',doc_type='employee',id=1,body=e1)"
      ],
      "execution_count": 173,
      "outputs": [
        {
          "output_type": "stream",
          "text": [
            "/usr/local/lib/python3.7/dist-packages/elasticsearch/connection/base.py:200: ElasticsearchWarning: [types removal] Specifying types in document index requests is deprecated, use the typeless endpoints instead (/{index}/_doc/{id}, /{index}/_doc, or /{index}/_create/{id}).\n",
            "  warnings.warn(message, category=ElasticsearchWarning)\n"
          ],
          "name": "stderr"
        }
      ]
    },
    {
      "cell_type": "code",
      "metadata": {
        "colab": {
          "base_uri": "https://localhost:8080/"
        },
        "id": "wpPU-QQrwTTv",
        "outputId": "9e0008cf-fb66-4f77-cba6-4a5d55f75dc7"
      },
      "source": [
        "#Ingest second dataset \n",
        "#To increase the version it would be run it 3x for example\n",
        "for j in range(3):\n",
        "  e2={\n",
        "      \"first_name\" :  \"David\",\n",
        "      \"last_name\" :   \"Tian\",\n",
        "      \"age\" :         32,\n",
        "      \"about\" :       \"Best Teaching Assistant\",\n",
        "      \"interests\":  [ \"Big Data\" ]\n",
        "  }\n",
        "  res=es.index(index='megacorp',doc_type='employee',id=2,body=e2)"
      ],
      "execution_count": 174,
      "outputs": [
        {
          "output_type": "stream",
          "text": [
            "/usr/local/lib/python3.7/dist-packages/elasticsearch/connection/base.py:200: ElasticsearchWarning: [types removal] Specifying types in document index requests is deprecated, use the typeless endpoints instead (/{index}/_doc/{id}, /{index}/_doc, or /{index}/_create/{id}).\n",
            "  warnings.warn(message, category=ElasticsearchWarning)\n"
          ],
          "name": "stderr"
        }
      ]
    },
    {
      "cell_type": "code",
      "metadata": {
        "colab": {
          "base_uri": "https://localhost:8080/"
        },
        "id": "Wk9Ejj12wWi3",
        "outputId": "50d37e1b-f3f2-4f57-b05a-bb1d6823f6ae"
      },
      "source": [
        "#Check out if the _version of _id 1 is 4\n",
        "es.get(index='megacorp',doc_type='employee',id=1)"
      ],
      "execution_count": 175,
      "outputs": [
        {
          "output_type": "stream",
          "text": [
            "/usr/local/lib/python3.7/dist-packages/elasticsearch/connection/base.py:200: ElasticsearchWarning: [types removal] Specifying types in document get requests is deprecated, use the /{index}/_doc/{id} endpoint instead.\n",
            "  warnings.warn(message, category=ElasticsearchWarning)\n"
          ],
          "name": "stderr"
        },
        {
          "output_type": "execute_result",
          "data": {
            "text/plain": [
              "{'_id': '1',\n",
              " '_index': 'megacorp',\n",
              " '_primary_term': 1,\n",
              " '_seq_no': 3,\n",
              " '_source': {'about': 'KNN, XGBoost, LDA',\n",
              "  'age': 27,\n",
              "  'first_name': 'Indrani',\n",
              "  'interests': ['Toastmaster', 'PMI'],\n",
              "  'last_name': 'Bhattacharya'},\n",
              " '_type': 'employee',\n",
              " '_version': 4,\n",
              " 'found': True}"
            ]
          },
          "metadata": {
            "tags": []
          },
          "execution_count": 175
        }
      ]
    },
    {
      "cell_type": "code",
      "metadata": {
        "colab": {
          "base_uri": "https://localhost:8080/"
        },
        "id": "lQvyv1wjwbB4",
        "outputId": "c6190148-0b3c-4d73-b134-47d83760b18b"
      },
      "source": [
        "#Check out if the _version of _id 2 is 3\n",
        "es.get(index='megacorp',doc_type='employee',id=2)"
      ],
      "execution_count": 176,
      "outputs": [
        {
          "output_type": "stream",
          "text": [
            "/usr/local/lib/python3.7/dist-packages/elasticsearch/connection/base.py:200: ElasticsearchWarning: [types removal] Specifying types in document get requests is deprecated, use the /{index}/_doc/{id} endpoint instead.\n",
            "  warnings.warn(message, category=ElasticsearchWarning)\n"
          ],
          "name": "stderr"
        },
        {
          "output_type": "execute_result",
          "data": {
            "text/plain": [
              "{'_id': '2',\n",
              " '_index': 'megacorp',\n",
              " '_primary_term': 1,\n",
              " '_seq_no': 6,\n",
              " '_source': {'about': 'Best Teaching Assistant',\n",
              "  'age': 32,\n",
              "  'first_name': 'David',\n",
              "  'interests': ['Big Data'],\n",
              "  'last_name': 'Tian'},\n",
              " '_type': 'employee',\n",
              " '_version': 3,\n",
              " 'found': True}"
            ]
          },
          "metadata": {
            "tags": []
          },
          "execution_count": 176
        }
      ]
    },
    {
      "cell_type": "code",
      "metadata": {
        "id": "DoiNlWLECdbu"
      },
      "source": [
        "#to slowdown Colab and allow elasticsearch to update, unless below cells will return null\n",
        "sleep(1.0)"
      ],
      "execution_count": 177,
      "outputs": []
    },
    {
      "cell_type": "code",
      "metadata": {
        "colab": {
          "base_uri": "https://localhost:8080/"
        },
        "id": "kkCtAFxCwij6",
        "outputId": "e52596d4-8693-4414-9278-8bedee970006"
      },
      "source": [
        "#The data is only two (_id 1 and _id 2), but the _versions are 4 and 3\n",
        "res= es.search(index='megacorp',body={'query':{'match_all':{}}})\n",
        "print('Got '+str(res['hits']['total']['value'])+' hits')"
      ],
      "execution_count": 178,
      "outputs": [
        {
          "output_type": "stream",
          "text": [
            "Got 2 hits\n"
          ],
          "name": "stdout"
        }
      ]
    },
    {
      "cell_type": "markdown",
      "metadata": {
        "id": "hux4D7IFxLv5"
      },
      "source": [
        "https://www.wolframalpha.com/input/?i=0.8266786"
      ]
    },
    {
      "cell_type": "code",
      "metadata": {
        "colab": {
          "base_uri": "https://localhost:8080/"
        },
        "id": "REygQbeWxFrv",
        "outputId": "60b8228a-360c-45b9-8e22-fc249d833dfb"
      },
      "source": [
        "#Check the score from above website \n",
        "res= es.search(index='megacorp',body={'query':{'match':{'first_name':'david'}}})\n",
        "res['hits']['hits']"
      ],
      "execution_count": 179,
      "outputs": [
        {
          "output_type": "execute_result",
          "data": {
            "text/plain": [
              "[{'_id': '2',\n",
              "  '_index': 'megacorp',\n",
              "  '_score': 0.8266786,\n",
              "  '_source': {'about': 'Best Teaching Assistant',\n",
              "   'age': 32,\n",
              "   'first_name': 'David',\n",
              "   'interests': ['Big Data'],\n",
              "   'last_name': 'Tian'},\n",
              "  '_type': 'employee'}]"
            ]
          },
          "metadata": {
            "tags": []
          },
          "execution_count": 179
        }
      ]
    },
    {
      "cell_type": "markdown",
      "metadata": {
        "id": "zkyH49oa_mNX"
      },
      "source": [
        "Above example showed _score = 0.8266786 <br>\n",
        "From WolframAlpha that is equal to log 16/7<br>\n",
        "Therefore elasticsearch _score is as follow"
      ]
    },
    {
      "cell_type": "markdown",
      "metadata": {
        "id": "7iVHwx4oJ6wW"
      },
      "source": [
        "![Picture3.png](data:image/png;base64,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)"
      ]
    }
  ]
}