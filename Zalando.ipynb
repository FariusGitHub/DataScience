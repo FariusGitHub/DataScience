{
  "nbformat": 4,
  "nbformat_minor": 0,
  "metadata": {
    "kernelspec": {
      "display_name": "Python 3",
      "language": "python",
      "name": "python3"
    },
    "language_info": {
      "codemirror_mode": {
        "name": "ipython",
        "version": 3
      },
      "file_extension": ".py",
      "mimetype": "text/x-python",
      "name": "python",
      "nbconvert_exporter": "python",
      "pygments_lexer": "ipython3",
      "version": "3.8.3"
    },
    "colab": {
      "name": "Zalando.ipynb",
      "provenance": [],
      "collapsed_sections": [],
      "include_colab_link": true
    }
  },
  "cells": [
    {
      "cell_type": "markdown",
      "metadata": {
        "id": "view-in-github",
        "colab_type": "text"
      },
      "source": [
        "<a href=\"https://colab.research.google.com/github/FariusGitHub/DataScience/blob/master/Zalando.ipynb\" target=\"_parent\"><img src=\"https://colab.research.google.com/assets/colab-badge.svg\" alt=\"Open In Colab\"/></a>"
      ]
    },
    {
      "cell_type": "markdown",
      "metadata": {
        "id": "mH9Kb6wrzefH"
      },
      "source": [
        "<center>\n",
        "    <img src=\"https://media-exp1.licdn.com/dms/image/C4E0BAQGQ65Yl7rn-Og/company-logo_200_200/0/1612547658975?e=2159024400&v=beta&t=pzTFuHPYw1kBh_HZPoz4MhlosU8jiLp6V32zUh4GW1o\" width='30%'> \n",
        "</center>\n",
        "\n",
        "----------\n",
        "\n",
        "<h1 align=\"center\"> Logistic Regression </h1><br>\n",
        "<h1 align=\"center\"> <font size='4'>  May 16, 2021 </font><font size='4'>Farius Tjioesman </font></h1><br>\n",
        "\n",
        "----------"
      ]
    },
    {
      "cell_type": "markdown",
      "metadata": {
        "id": "mRwOgHC1zefZ"
      },
      "source": [
        "## Classification API\n",
        "\n",
        "- Simple way to train fashion dataset from TensorFlow Fashion MNIST\n",
        "    - https://www.tensorflow.org/datasets/catalog/fashion_mnist\n",
        "\n",
        "- Image Pre-Processing Reference from Pillow\n",
        "    - https://auth0.com/blog/image-processing-in-python-with-pillow/\n",
        "    "
      ]
    },
    {
      "cell_type": "code",
      "metadata": {
        "scrolled": true,
        "id": "yoBjyygVzefd"
      },
      "source": [
        "import numpy as np\n",
        "import pandas as pd\n",
        "import matplotlib.pyplot as plt\n",
        "%matplotlib inline\n",
        "\n",
        "from sklearn.linear_model import LogisticRegression\n",
        "from keras.preprocessing.image import img_to_array\n",
        "\n",
        "import tensorflow as tf\n",
        "from tensorflow import keras\n",
        "from tensorflow.keras.datasets import mnist, fashion_mnist\n",
        "\n",
        "from PIL import Image, ImageEnhance\n",
        "import matplotlib.pyplot as plt\n",
        "import urllib.request\n",
        "import seaborn as sns\n",
        "import warnings\n",
        "warnings.filterwarnings(\"ignore\")"
      ],
      "execution_count": 1,
      "outputs": []
    },
    {
      "cell_type": "markdown",
      "metadata": {
        "id": "5urZeIEwzefg"
      },
      "source": [
        "## Fashion MNIST Dataset"
      ]
    },
    {
      "cell_type": "markdown",
      "metadata": {
        "id": "S4FF_3iqzefk"
      },
      "source": [
        "Downloading 70K examples for labeled fashion classification split into train and test dataset"
      ]
    },
    {
      "cell_type": "code",
      "metadata": {
        "colab": {
          "base_uri": "https://localhost:8080/"
        },
        "id": "0sfUn_mKzefl",
        "outputId": "ebb93186-779a-46f8-d111-d968e4bd1603"
      },
      "source": [
        "(X_train, y_train), (X_test, y_test) = fashion_mnist.load_data()"
      ],
      "execution_count": 2,
      "outputs": [
        {
          "output_type": "stream",
          "text": [
            "Downloading data from https://storage.googleapis.com/tensorflow/tf-keras-datasets/train-labels-idx1-ubyte.gz\n",
            "32768/29515 [=================================] - 0s 0us/step\n",
            "Downloading data from https://storage.googleapis.com/tensorflow/tf-keras-datasets/train-images-idx3-ubyte.gz\n",
            "26427392/26421880 [==============================] - 0s 0us/step\n",
            "Downloading data from https://storage.googleapis.com/tensorflow/tf-keras-datasets/t10k-labels-idx1-ubyte.gz\n",
            "8192/5148 [===============================================] - 0s 0us/step\n",
            "Downloading data from https://storage.googleapis.com/tensorflow/tf-keras-datasets/t10k-images-idx3-ubyte.gz\n",
            "4423680/4422102 [==============================] - 0s 0us/step\n"
          ],
          "name": "stdout"
        }
      ]
    },
    {
      "cell_type": "markdown",
      "metadata": {
        "id": "iXwUfsMNzefr"
      },
      "source": [
        "## 60K dataset was allocated to train dataset (each image has 28 x 28 pixels resolution)"
      ]
    },
    {
      "cell_type": "code",
      "metadata": {
        "colab": {
          "base_uri": "https://localhost:8080/"
        },
        "id": "6wAa7Fg8zeft",
        "outputId": "840516a6-414f-4482-f8ae-3c9050780142"
      },
      "source": [
        "X_train.shape"
      ],
      "execution_count": 3,
      "outputs": [
        {
          "output_type": "execute_result",
          "data": {
            "text/plain": [
              "(60000, 28, 28)"
            ]
          },
          "metadata": {
            "tags": []
          },
          "execution_count": 3
        }
      ]
    },
    {
      "cell_type": "markdown",
      "metadata": {
        "id": "GzHgoII7zefv"
      },
      "source": [
        "## 10K dataset was allocated to test dataset (also with 28 x 28 pixel resolution)"
      ]
    },
    {
      "cell_type": "code",
      "metadata": {
        "colab": {
          "base_uri": "https://localhost:8080/"
        },
        "id": "FDSZ0gmmzefx",
        "outputId": "8635115f-abe6-44c9-fa9f-c74d290e070e"
      },
      "source": [
        "X_test.shape"
      ],
      "execution_count": 4,
      "outputs": [
        {
          "output_type": "execute_result",
          "data": {
            "text/plain": [
              "(10000, 28, 28)"
            ]
          },
          "metadata": {
            "tags": []
          },
          "execution_count": 4
        }
      ]
    },
    {
      "cell_type": "markdown",
      "metadata": {
        "id": "9AmxtHEUzefy"
      },
      "source": [
        "## Example of 8th dataset (a sandal with grayscale values and jpg preview)"
      ]
    },
    {
      "cell_type": "code",
      "metadata": {
        "scrolled": false,
        "colab": {
          "base_uri": "https://localhost:8080/",
          "height": 1000
        },
        "id": "pmqcaQzZzef5",
        "outputId": "4c748140-d3d8-4ccb-e82c-c2b60db56964"
      },
      "source": [
        "# grayscale value\n",
        "example = 8\n",
        "for i in range(28):\n",
        "    for j in list(X_train[example][i]):\n",
        "      print('  '[:3-len(str(j))]+str(j), end=' ')\n",
        "    print('\\n')\n",
        "\n",
        "# grayscale image    \n",
        "plt.imshow(X_train[example], cmap='gray_r')\n",
        "plt.axis('off');\n"
      ],
      "execution_count": 5,
      "outputs": [
        {
          "output_type": "stream",
          "text": [
            "  0   0   0   0   0   0   0   0   0   0   0   0   0   0   0   0   0   0   0   0   0   0   0   0   0   0   0   0 \n",
            "\n",
            "  0   0   0   0   0   0   0   0   0   0   0   0   0   0   0   0   0   0   0   0   0   0   0   0   0   0   0   0 \n",
            "\n",
            "  0   0   0   0   0   0   0   0   0   0   0   0   1   3   1   0   0   1   1   0   0   0   0  58   0  39   1   0 \n",
            "\n",
            "  0   0   0   0   0   0   0   0   0   0   0   0   1   3   0   0   0   0   0   0   0  64 109 146 192 193   7   0 \n",
            "\n",
            "  0   0   0   0   0   0   0   0   0   1   0   0   0   0   0   0  94  38  99 209 183 229 192 142  48   0   0   0 \n",
            "\n",
            "  0   0   0   0   0   0   0   0   0   1   0   0   0   0  41  45 158 146 164 114  51   1  53 105  42  36   0   0 \n",
            "\n",
            "  0   0   0   0   0   0   0   0   0   0   0   0  10  68  44  30  59 172 146   0  22   0  13 103 111 103   0   0 \n",
            "\n",
            "  0   0   0   0   0   0   0   0   0   3   1   0  22  61  88 152 255  71   0   0   0   0  35  85 112 201  44   0 \n",
            "\n",
            "  0   0   0   0   0   0   0   0   0   1   0   0  13  62 154  62   0   0   0   0   0   0  54  99  61 106  51  19 \n",
            "\n",
            "  0   0   0   0   0   0   0   0   0   0   0   0   0   0   0   0   9   1   0   0   1   0  79  82  47  33  58  50 \n",
            "\n",
            "  0   0   0   0   0   0   0   0   0   0   0   0   0   3   1   3   9   3   0   0   1   0 100  88  48  35  70  54 \n",
            "\n",
            "  0   0   0   0   0   0   0   0   0   0   0   0   0   0   0   0   0   3   0   1   0   0 111 195 119  29  58  45 \n",
            "\n",
            "  0   0   0   0   0   0   0   1   0   0   0   0   0   0   0   0   0   0   3   3   0   0  91 146 171  16  93  35 \n",
            "\n",
            "  0   0   0   0   0   0   0   0   0   0   0   0   0   0   0   0   0   0   0   0   0  48  45   3  79  87  99   6 \n",
            "\n",
            "  0   0   0   0   0   0   0   0   0   0   0   0   0   0   0   0   0   3   0   0 119 137  33  96  77  13  45   0 \n",
            "\n",
            "  0   0   0   0   0   0   0   0   0   0   0   0   0   0   0   0   0   0  32 160 164 142 116  79  82  39  39   0 \n",
            "\n",
            "  0   0   0   0   3   0   0   0   0   0   0   0   0   3   4  10   0  41 180 142 171   1   0   0  48  73  16   0 \n",
            "\n",
            "  0   0   0   0   0   0   1   1   0   0   0   0   0   0   3   0  27 155 114 169   0   0   0   0  47  76   6   0 \n",
            "\n",
            "  0   0   0   0   0   0   0   0   0   0   0   0   1   0   0   0 155 129 160   0   0   0   0   0  45  96   0   0 \n",
            "\n",
            "  0   0   0   0   1   0  16  39  64   0   0   0   0   0   0 129 151 175   0   0   0   4   4   0  48 116   0   0 \n",
            "\n",
            "  0   0   0   0   0   0  58  87  73  10   0   0   0   0  27 187 195   0   0   0   0   3   1   0  47 146   0   0 \n",
            "\n",
            "  1   0   0   0   1   0   0   0   0   0   0   0   0   0 181 225  45   0   0   0   0   0   1   0  45 186   0   0 \n",
            "\n",
            "  0   0   0   0   0   0   1 183 210  90   0   0   0 126 253 142   0   0   0   0   0   0   1   0  48 203   0   0 \n",
            "\n",
            " 64  58  45  27  16   9   1 175 245 204  22   0  70 236 190   6   0   0   0   0   0   0   0   0  50 196   0   0 \n",
            "\n",
            " 96 128 149 163 158 140 138 146 154 108  90 148 193 177  36   0   7   0   0   0   0   0   0   0  41 125   0   0 \n",
            "\n",
            "  0   0   0   0  19  47  65  93  94 125 166 180 119  29   0   0   0   0   0   0   0   0   0   0  32 238   0   0 \n",
            "\n",
            "  0   0   0   0   0   0   0   0   0   0   0   0   0   0   0   0   0   0   0   0   0   0   0   0   0 131   0   0 \n",
            "\n",
            "  0   0   0   0   0   0   0   0   0   0   0   0   0   0   0   0   0   0   0   0   0   0   0   0   0   0   0   0 \n",
            "\n"
          ],
          "name": "stdout"
        },
        {
          "output_type": "display_data",
          "data": {
            "image/png": "[encoded data removed]",
            "text/plain": [
              "<Figure size 432x288 with 1 Axes>"
            ]
          },
          "metadata": {
            "tags": [],
            "needs_background": "light"
          }
        }
      ]
    },
    {
      "cell_type": "markdown",
      "metadata": {
        "id": "Tapo6gD_zef6"
      },
      "source": [
        "## Build new list class_names based on TensorFlow website (Zalando Research Germany)"
      ]
    },
    {
      "cell_type": "markdown",
      "metadata": {
        "id": "KA0hEQ6Qzef7"
      },
      "source": [
        "![image.png](attachment:image.png)"
      ]
    },
    {
      "cell_type": "code",
      "metadata": {
        "scrolled": true,
        "colab": {
          "base_uri": "https://localhost:8080/"
        },
        "id": "G6TwE-l2zef7",
        "outputId": "1649e687-e9ef-4012-8f19-c4708c55d8ef"
      },
      "source": [
        "class_names = 't-shirt trouser pullover dress coat sandal shirt sneaker bag boot'.split()\n",
        "class_names"
      ],
      "execution_count": 6,
      "outputs": [
        {
          "output_type": "execute_result",
          "data": {
            "text/plain": [
              "['t-shirt',\n",
              " 'trouser',\n",
              " 'pullover',\n",
              " 'dress',\n",
              " 'coat',\n",
              " 'sandal',\n",
              " 'shirt',\n",
              " 'sneaker',\n",
              " 'bag',\n",
              " 'boot']"
            ]
          },
          "metadata": {
            "tags": []
          },
          "execution_count": 6
        }
      ]
    },
    {
      "cell_type": "markdown",
      "metadata": {
        "id": "rEAd8ylazef8"
      },
      "source": [
        "## Check data distribution between 60K train dataset (each class was equally represented)"
      ]
    },
    {
      "cell_type": "code",
      "metadata": {
        "scrolled": true,
        "colab": {
          "base_uri": "https://localhost:8080/"
        },
        "id": "Qwf6DgABzef9",
        "outputId": "13fb807a-812c-4297-9a0a-6706ef57e26c"
      },
      "source": [
        "for i in range (10):\n",
        "    print(class_names[pd.Series(y_train).value_counts().keys()[i]],\"    \\t\\t\",\\\n",
        "          pd.Series(y_train).value_counts().values[i])"
      ],
      "execution_count": 7,
      "outputs": [
        {
          "output_type": "stream",
          "text": [
            "boot     \t\t 6000\n",
            "bag     \t\t 6000\n",
            "sneaker     \t\t 6000\n",
            "shirt     \t\t 6000\n",
            "sandal     \t\t 6000\n",
            "coat     \t\t 6000\n",
            "dress     \t\t 6000\n",
            "pullover     \t\t 6000\n",
            "trouser     \t\t 6000\n",
            "t-shirt     \t\t 6000\n"
          ],
          "name": "stdout"
        }
      ]
    },
    {
      "cell_type": "markdown",
      "metadata": {
        "id": "AQIa1gogzef-"
      },
      "source": [
        "## Train the Model\n",
        "-  Preprocessed the data by transforming 2D images (a matrix) into 1D (a list) \n",
        "-  Get overall accuracy Logistic regression score"
      ]
    },
    {
      "cell_type": "code",
      "metadata": {
        "colab": {
          "base_uri": "https://localhost:8080/"
        },
        "id": "GqHT7vVhzef_",
        "outputId": "c7f233ff-8a35-4d13-fd0a-af88205747f4"
      },
      "source": [
        "# Example of reshape data into 1d for sklearn Logistic Regresion\n",
        "\n",
        "X_TRAIN = X_train.reshape(60000, -1)\n",
        "X_TEST = X_test.reshape(10000, -1)\n",
        "\n",
        "print('data shape before reshape', X_train.shape)\n",
        "print('data shape after reshape', X_TRAIN.shape)"
      ],
      "execution_count": 8,
      "outputs": [
        {
          "output_type": "stream",
          "text": [
            "data shape before reshape (60000, 28, 28)\n",
            "data shape after reshape (60000, 784)\n"
          ],
          "name": "stdout"
        }
      ]
    },
    {
      "cell_type": "code",
      "metadata": {
        "colab": {
          "base_uri": "https://localhost:8080/"
        },
        "id": "9i38ROwazef_",
        "outputId": "721095bf-35cc-43c0-99a9-cd7a87669d2f"
      },
      "source": [
        "# Training the model\n",
        "lr = LogisticRegression()\n",
        "lr.fit(X_TRAIN, y_train)\n",
        "\n",
        "# Assessing the model\n",
        "lr.score(X_TEST, y_test)"
      ],
      "execution_count": 9,
      "outputs": [
        {
          "output_type": "execute_result",
          "data": {
            "text/plain": [
              "0.8412"
            ]
          },
          "metadata": {
            "tags": []
          },
          "execution_count": 9
        }
      ]
    },
    {
      "cell_type": "code",
      "metadata": {
        "colab": {
          "base_uri": "https://localhost:8080/",
          "height": 300
        },
        "id": "9bzlZv8mzegB",
        "outputId": "1a6e34e9-b559-4c5c-dec9-fafb7744ff20"
      },
      "source": [
        "# Example of first ten dataset probabilistic classification : 10K in total\n",
        "\n",
        "df = pd.DataFrame(lr.predict_proba(X_TEST)).rename(columns={0:class_names[0],1:class_names[1],2:class_names[2]})\\\n",
        ".rename(columns={3:class_names[3],4:class_names[4],5:class_names[5],6:class_names[6]})\\\n",
        ".rename(columns={7:class_names[7],8:class_names[8], 9:class_names[9]}).round(2).head(10)\n",
        "\n",
        "sns.heatmap(df, annot=True);\n",
        "\n"
      ],
      "execution_count": 10,
      "outputs": [
        {
          "output_type": "display_data",
          "data": {
            "image/png": "[encoded data removed]",
            "text/plain": [
              "<Figure size 432x288 with 2 Axes>"
            ]
          },
          "metadata": {
            "tags": [],
            "needs_background": "light"
          }
        }
      ]
    },
    {
      "cell_type": "code",
      "metadata": {
        "scrolled": false,
        "colab": {
          "base_uri": "https://localhost:8080/",
          "height": 1000
        },
        "id": "X771WZ1xzegR",
        "outputId": "cd127176-3e1b-470e-98a8-5f9079755dbe"
      },
      "source": [
        "# SIMPLE CLASSIFICATION API\n",
        "imgURL = \"https://cdn.shopify.com/s/files/1/1230/9376/products/HER-10357_7EBlack.jpg?v=1594531770\"\n",
        "\n",
        "#SAVING ABOVE IMAGE LOCALLY TEMPORARILY\n",
        "urllib.request.urlretrieve(imgURL, \"temp.jpg\")\n",
        "\n",
        "# IMAGE TRANSFORMATION\n",
        "im1 = Image.open(\"temp.jpg\")                   # ORIGINAL IMAGE\n",
        "im2 = im1.resize((28, 28))                     # RESIZE INTO 28 x 28 PIXEL RESOLUTIONS\n",
        "im3 = ImageEnhance.Brightness(im2).enhance(1)  # CLEANING BACKGROUND NOISE, THE HIGHER THE BETTER\n",
        "im4 = im3.split()[0]                           # FILTERING RED (R) COLOR COMPONENT \n",
        "im5 = im3.split()[1]                           # FILTERING GREEN (G) COLOR COMPONENT\n",
        "im6 = im3.split()[2]                           # FILTERING BLUE (B) COLOR COMPONENT\n",
        "\n",
        "# Numpize and flattened into 1D shape \n",
        "im7 = img_to_array(im5)                        # CONVERT JPG INTO NUMPY ARRAY\n",
        "prediction = lr.predict_proba(im7              # USE ABOVE MNIST MODEL TO PREDICT \n",
        "              .reshape(784,-2).T).tolist()[0]  # FLATTEN 28 x 28 matrix into 1D data\n",
        "\n",
        "# grayscale value\n",
        "for i in range(28):\n",
        "    for j in list(255-im7.astype(int).reshape(28,28)[i]):\n",
        "      print('  '[:3-len(str(j))]+str(j), end=' ')\n",
        "    print('\\n')\n",
        "\n",
        "# grayscale image    \n",
        "plt.imshow(im5.convert('RGB'))                 # TAKE ONE OF THE RGB : green (in this case)\n",
        "plt.axis('off');\n",
        "\n",
        "#Probabilistic clasification (%) : 0 to 100\n",
        "for i in range (10):\n",
        "    print(class_names[i],\"    \\t\\t\",\\\n",
        "          round(prediction[i]*100,3))"
      ],
      "execution_count": 11,
      "outputs": [
        {
          "output_type": "stream",
          "text": [
            "  0   0   0   0  57 141  94 117  91  77  76  75  73  67  74  83  78  78  83  90  81  77  76   8   0   0   0   0 \n",
            "\n",
            "  0   0   0   0 156 225 207 217 218 216 215 214 216 215 216 218 216 214 216 221 221 218 217  50   0   0   0   0 \n",
            "\n",
            "  0   0   0   0 171 233 219 228 225 221 219 225 222 219 220 224 223 220 219 224 225 229 242  90   0   0   0   0 \n",
            "\n",
            "  0   0   0   1 163 225 219 222 212 211 217 221 213 214 216 218 217 217 217 216 220 227 240 103   0   0   0   0 \n",
            "\n",
            "  0   0   0  41 223 214 222 220 212 215 223 218 215 221 221 220 218 219 219 218 222 219 233 160   0   0   0   0 \n",
            "\n",
            "  0   0   0  76 178 221 230 216 214 221 224 215 219 222 223 220 219 219 219 218 221 224 212 135  34   0   0   0 \n",
            "\n",
            "  0   0  23 152 130 235 229 212 218 224 220 215 220 221 222 219 219 219 218 219 218 220 205 153 146   0   0   0 \n",
            "\n",
            "  0   0  61 221 150 232 218 214 223 224 217 218 222 223 222 219 220 220 220 222 217 216 202 145 185   1   0   0 \n",
            "\n",
            "  0   0 108 213 128 225 211 221 224 221 217 221 221 225 220 221 220 221 223 225 225 228 215 105 213  36   0   0 \n",
            "\n",
            "  0   0 139 176 116 227 221 225 223 219 220 222 219 222 224 223 221 222 227 229 231 236 214  87 159  72   0   0 \n",
            "\n",
            "  0  19 148 114 108 231 225 225 221 220 223 222 221 223 225 224 223 224 229 230 232 230 208  33 174 161   3   0 \n",
            "\n",
            "  0  75 222  81  98 231 223 222 221 223 223 224 226 226 224 223 223 224 226 228 228 219 208  20 117 197  32   0 \n",
            "\n",
            "  0 117 173  42 102 231 220 220 221 222 222 224 225 224 223 222 224 226 225 226 223 221 210  20  88 201 101   0 \n",
            "\n",
            "  0 162 188  17 104 232 221 221 221 221 222 222 218 221 224 224 225 226 225 223 222 225 211  22  37 237 122   0 \n",
            "\n",
            "  0 152 171   0 107 232 223 224 222 222 223 222 219 222 225 227 225 225 225 224 222 222 211  27   8 217 130   0 \n",
            "\n",
            "  0 185 130   0 107 231 223 224 223 223 223 222 224 227 226 227 226 226 224 222 220 220 213  30   0 167 171   0 \n",
            "\n",
            " 14 212  87   0 109 232 222 223 224 224 225 225 226 225 226 226 227 226 224 221 218 218 215  34   0 110 192   3 \n",
            "\n",
            " 41 220  47   0 111 231 222 222 224 226 227 227 226 226 226 226 227 227 226 223 220 223 222  40   0  61 205  18 \n",
            "\n",
            " 82 204  12   0 113 231 222 222 224 226 227 226 223 226 225 225 225 226 227 226 225 227 220  44   0  16 199  58 \n",
            "\n",
            "129 161   0   0 117 232 222 222 223 225 225 224 221 224 225 225 225 225 226 226 225 223 219  49   0   0 165 112 \n",
            "\n",
            "172 104   0   0 120 231 223 223 223 224 225 223 222 227 225 225 224 223 226 231 231 222 223  57   0   0 123 158 \n",
            "\n",
            "196  53   0   0 124 229 222 224 224 223 223 223 223 226 226 225 224 227 185 130 129 187 229  64   0   0  80 192 \n",
            "\n",
            "192  20   0   0 127 229 221 223 224 223 223 223 224 227 226 225 224 230 151  33  35 159 234  70   0   0  42 206 \n",
            "\n",
            "169   3   0   0 130 230 221 222 224 223 222 223 224 227 227 225 224 229 150  66  57 159 233  76   0   0  16 195 \n",
            "\n",
            "140   0   0   0 133 229 221 221 223 224 223 222 224 225 226 225 224 230 145  39  40 155 233  80   0   0   4 165 \n",
            "\n",
            "105   0   0   0 137 229 222 222 223 224 224 224 225 226 226 225 225 227 191 149 147 194 233  84   0   0   0 125 \n",
            "\n",
            " 92 118  59  79 189 228 225 227 228 227 229 228 228 229 228 227 227 226 229 232 232 229 230 149  55  42  93  79 \n",
            "\n",
            " 20 123 120 106 173 189 165 157 152 152 154 154 150 147 145 144 142 140 141 144 152 161 185 151 110 130 143  25 \n",
            "\n",
            "t-shirt     \t\t 0.0\n",
            "trouser     \t\t 0.0\n",
            "pullover     \t\t 0.0\n",
            "dress     \t\t 0.0\n",
            "coat     \t\t 0.0\n",
            "sandal     \t\t 0.0\n",
            "shirt     \t\t 0.0\n",
            "sneaker     \t\t 0.0\n",
            "bag     \t\t 98.449\n",
            "boot     \t\t 1.55\n"
          ],
          "name": "stdout"
        },
        {
          "output_type": "display_data",
          "data": {
            "image/png": "[encoded data removed]",
            "text/plain": [
              "<Figure size 432x288 with 1 Axes>"
            ]
          },
          "metadata": {
            "tags": [],
            "needs_background": "light"
          }
        }
      ]
    }
  ]
}