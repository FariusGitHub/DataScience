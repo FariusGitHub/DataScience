{
  "nbformat": 4,
  "nbformat_minor": 0,
  "metadata": {
    "colab": {
      "name": "Zalando.ipynb",
      "provenance": [],
      "collapsed_sections": [],
      "include_colab_link": true
    },
    "kernelspec": {
      "display_name": "Python 3",
      "language": "python",
      "name": "python3"
    },
    "language_info": {
      "codemirror_mode": {
        "name": "ipython",
        "version": 3
      },
      "file_extension": ".py",
      "mimetype": "text/x-python",
      "name": "python",
      "nbconvert_exporter": "python",
      "pygments_lexer": "ipython3",
      "version": "3.8.5"
    }
  },
  "cells": [
    {
      "cell_type": "markdown",
      "metadata": {
        "id": "view-in-github",
        "colab_type": "text"
      },
      "source": [
        "<a href=\"https://colab.research.google.com/github/FariusGitHub/DataScience/blob/master/Zalando.ipynb\" target=\"_parent\"><img src=\"https://colab.research.google.com/assets/colab-badge.svg\" alt=\"Open In Colab\"/></a>"
      ]
    },
    {
      "cell_type": "markdown",
      "metadata": {
        "id": "mH9Kb6wrzefH"
      },
      "source": [
        "<center>\n",
        "    <img src=\"https://media-exp1.licdn.com/dms/image/C4E0BAQGQ65Yl7rn-Og/company-logo_200_200/0/1612547658975?e=2159024400&v=beta&t=pzTFuHPYw1kBh_HZPoz4MhlosU8jiLp6V32zUh4GW1o\" width='30%'> \n",
        "</center>\n",
        "\n",
        "----------\n",
        "\n",
        "<h1 align=\"center\"> Logistic Regression </h1><br>\n",
        "<h1 align=\"center\"> <font size='4'>  May 16, 2021 </font><font size='4'>Farius Tjioesman </font></h1><br>\n",
        "\n",
        "----------"
      ]
    },
    {
      "cell_type": "markdown",
      "metadata": {
        "id": "mRwOgHC1zefZ"
      },
      "source": [
        "## Classification API\n",
        "\n",
        "- Simple way to train fashion dataset from TensorFlow Fashion MNIST\n",
        "    - https://www.tensorflow.org/datasets/catalog/fashion_mnist\n",
        "\n",
        "- Image Pre-Processing Reference from Pillow\n",
        "    - https://auth0.com/blog/image-processing-in-python-with-pillow/\n",
        "    "
      ]
    },
    {
      "cell_type": "code",
      "metadata": {
        "id": "yoBjyygVzefd",
        "scrolled": true
      },
      "source": [
        "import numpy as np\n",
        "import pandas as pd\n",
        "import matplotlib.pyplot as plt\n",
        "%matplotlib inline\n",
        "\n",
        "from sklearn.linear_model import LogisticRegression\n",
        "from keras.preprocessing.image import img_to_array\n",
        "\n",
        "import tensorflow as tf\n",
        "from tensorflow import keras\n",
        "from tensorflow.keras.datasets import mnist, fashion_mnist\n",
        "\n",
        "from PIL import Image, ImageEnhance\n",
        "import matplotlib.pyplot as plt\n",
        "import urllib.request\n",
        "import seaborn as sns\n",
        "import warnings\n",
        "warnings.filterwarnings(\"ignore\")"
      ],
      "execution_count": null,
      "outputs": []
    },
    {
      "cell_type": "markdown",
      "metadata": {
        "id": "5urZeIEwzefg"
      },
      "source": [
        "## Fashion MNIST Dataset"
      ]
    },
    {
      "cell_type": "markdown",
      "metadata": {
        "id": "S4FF_3iqzefk"
      },
      "source": [
        "Downloading 70K examples for labeled fashion classification split into train and test dataset"
      ]
    },
    {
      "cell_type": "code",
      "metadata": {
        "colab": {
          "base_uri": "https://localhost:8080/"
        },
        "id": "0sfUn_mKzefl",
        "outputId": "078496ea-295c-4113-a22f-e15f12da9e32"
      },
      "source": [
        "(X_train, y_train), (X_test, y_test) = fashion_mnist.load_data()"
      ],
      "execution_count": null,
      "outputs": [
        {
          "output_type": "stream",
          "text": [
            "Downloading data from https://storage.googleapis.com/tensorflow/tf-keras-datasets/train-labels-idx1-ubyte.gz\n",
            "32768/29515 [=================================] - 0s 0us/step\n",
            "Downloading data from https://storage.googleapis.com/tensorflow/tf-keras-datasets/train-images-idx3-ubyte.gz\n",
            "26427392/26421880 [==============================] - 0s 0us/step\n",
            "Downloading data from https://storage.googleapis.com/tensorflow/tf-keras-datasets/t10k-labels-idx1-ubyte.gz\n",
            "8192/5148 [===============================================] - 0s 0us/step\n",
            "Downloading data from https://storage.googleapis.com/tensorflow/tf-keras-datasets/t10k-images-idx3-ubyte.gz\n",
            "4423680/4422102 [==============================] - 0s 0us/step\n"
          ],
          "name": "stdout"
        }
      ]
    },
    {
      "cell_type": "markdown",
      "metadata": {
        "id": "iXwUfsMNzefr"
      },
      "source": [
        "## 60K dataset was allocated to train dataset (each image has 28 x 28 pixels resolution)"
      ]
    },
    {
      "cell_type": "code",
      "metadata": {
        "colab": {
          "base_uri": "https://localhost:8080/"
        },
        "id": "6wAa7Fg8zeft",
        "outputId": "d85a5b08-b119-4835-f6d1-fa2d3d910d3e"
      },
      "source": [
        "X_train.shape"
      ],
      "execution_count": null,
      "outputs": [
        {
          "output_type": "execute_result",
          "data": {
            "text/plain": [
              "(60000, 28, 28)"
            ]
          },
          "metadata": {
            "tags": []
          },
          "execution_count": 3
        }
      ]
    },
    {
      "cell_type": "markdown",
      "metadata": {
        "id": "GzHgoII7zefv"
      },
      "source": [
        "## 10K dataset was allocated to test dataset (also with 28 x 28 pixel resolution)"
      ]
    },
    {
      "cell_type": "code",
      "metadata": {
        "colab": {
          "base_uri": "https://localhost:8080/"
        },
        "id": "FDSZ0gmmzefx",
        "outputId": "51930ded-c17e-4bc6-a110-3b017d38bc22"
      },
      "source": [
        "X_test.shape"
      ],
      "execution_count": null,
      "outputs": [
        {
          "output_type": "execute_result",
          "data": {
            "text/plain": [
              "(10000, 28, 28)"
            ]
          },
          "metadata": {
            "tags": []
          },
          "execution_count": 4
        }
      ]
    },
    {
      "cell_type": "markdown",
      "metadata": {
        "id": "9AmxtHEUzefy"
      },
      "source": [
        "## Example of 8th dataset (a sandal with grayscale values and jpg preview)"
      ]
    },
    {
      "cell_type": "code",
      "metadata": {
        "colab": {
          "base_uri": "https://localhost:8080/",
          "height": 1000
        },
        "id": "pmqcaQzZzef5",
        "scrolled": false,
        "outputId": "7fe7e01f-73d6-4b21-8381-00cbb8b2d812"
      },
      "source": [
        "# grayscale value\n",
        "example = 8\n",
        "for i in range(28):\n",
        "    for j in list(X_train[example][i]):\n",
        "      print('  '[:3-len(str(j))]+str(j), end=' ')\n",
        "    print('\\n')\n",
        "\n",
        "# grayscale image    \n",
        "plt.imshow(X_train[example], cmap='gray_r')\n",
        "plt.axis('off');\n"
      ],
      "execution_count": null,
      "outputs": [
        {
          "output_type": "stream",
          "text": [
            "  0   0   0   0   0   0   0   0   0   0   0   0   0   0   0   0   0   0   0   0   0   0   0   0   0   0   0   0 \n",
            "\n",
            "  0   0   0   0   0   0   0   0   0   0   0   0   0   0   0   0   0   0   0   0   0   0   0   0   0   0   0   0 \n",
            "\n",
            "  0   0   0   0   0   0   0   0   0   0   0   0   1   3   1   0   0   1   1   0   0   0   0  58   0  39   1   0 \n",
            "\n",
            "  0   0   0   0   0   0   0   0   0   0   0   0   1   3   0   0   0   0   0   0   0  64 109 146 192 193   7   0 \n",
            "\n",
            "  0   0   0   0   0   0   0   0   0   1   0   0   0   0   0   0  94  38  99 209 183 229 192 142  48   0   0   0 \n",
            "\n",
            "  0   0   0   0   0   0   0   0   0   1   0   0   0   0  41  45 158 146 164 114  51   1  53 105  42  36   0   0 \n",
            "\n",
            "  0   0   0   0   0   0   0   0   0   0   0   0  10  68  44  30  59 172 146   0  22   0  13 103 111 103   0   0 \n",
            "\n",
            "  0   0   0   0   0   0   0   0   0   3   1   0  22  61  88 152 255  71   0   0   0   0  35  85 112 201  44   0 \n",
            "\n",
            "  0   0   0   0   0   0   0   0   0   1   0   0  13  62 154  62   0   0   0   0   0   0  54  99  61 106  51  19 \n",
            "\n",
            "  0   0   0   0   0   0   0   0   0   0   0   0   0   0   0   0   9   1   0   0   1   0  79  82  47  33  58  50 \n",
            "\n",
            "  0   0   0   0   0   0   0   0   0   0   0   0   0   3   1   3   9   3   0   0   1   0 100  88  48  35  70  54 \n",
            "\n",
            "  0   0   0   0   0   0   0   0   0   0   0   0   0   0   0   0   0   3   0   1   0   0 111 195 119  29  58  45 \n",
            "\n",
            "  0   0   0   0   0   0   0   1   0   0   0   0   0   0   0   0   0   0   3   3   0   0  91 146 171  16  93  35 \n",
            "\n",
            "  0   0   0   0   0   0   0   0   0   0   0   0   0   0   0   0   0   0   0   0   0  48  45   3  79  87  99   6 \n",
            "\n",
            "  0   0   0   0   0   0   0   0   0   0   0   0   0   0   0   0   0   3   0   0 119 137  33  96  77  13  45   0 \n",
            "\n",
            "  0   0   0   0   0   0   0   0   0   0   0   0   0   0   0   0   0   0  32 160 164 142 116  79  82  39  39   0 \n",
            "\n",
            "  0   0   0   0   3   0   0   0   0   0   0   0   0   3   4  10   0  41 180 142 171   1   0   0  48  73  16   0 \n",
            "\n",
            "  0   0   0   0   0   0   1   1   0   0   0   0   0   0   3   0  27 155 114 169   0   0   0   0  47  76   6   0 \n",
            "\n",
            "  0   0   0   0   0   0   0   0   0   0   0   0   1   0   0   0 155 129 160   0   0   0   0   0  45  96   0   0 \n",
            "\n",
            "  0   0   0   0   1   0  16  39  64   0   0   0   0   0   0 129 151 175   0   0   0   4   4   0  48 116   0   0 \n",
            "\n",
            "  0   0   0   0   0   0  58  87  73  10   0   0   0   0  27 187 195   0   0   0   0   3   1   0  47 146   0   0 \n",
            "\n",
            "  1   0   0   0   1   0   0   0   0   0   0   0   0   0 181 225  45   0   0   0   0   0   1   0  45 186   0   0 \n",
            "\n",
            "  0   0   0   0   0   0   1 183 210  90   0   0   0 126 253 142   0   0   0   0   0   0   1   0  48 203   0   0 \n",
            "\n",
            " 64  58  45  27  16   9   1 175 245 204  22   0  70 236 190   6   0   0   0   0   0   0   0   0  50 196   0   0 \n",
            "\n",
            " 96 128 149 163 158 140 138 146 154 108  90 148 193 177  36   0   7   0   0   0   0   0   0   0  41 125   0   0 \n",
            "\n",
            "  0   0   0   0  19  47  65  93  94 125 166 180 119  29   0   0   0   0   0   0   0   0   0   0  32 238   0   0 \n",
            "\n",
            "  0   0   0   0   0   0   0   0   0   0   0   0   0   0   0   0   0   0   0   0   0   0   0   0   0 131   0   0 \n",
            "\n",
            "  0   0   0   0   0   0   0   0   0   0   0   0   0   0   0   0   0   0   0   0   0   0   0   0   0   0   0   0 \n",
            "\n"
          ],
          "name": "stdout"
        },
        {
          "output_type": "display_data",
          "data": {
            "image/png": "[encoded data removed]",
            "text/plain": [
              "<Figure size 432x288 with 1 Axes>"
            ]
          },
          "metadata": {
            "tags": [],
            "needs_background": "light"
          }
        }
      ]
    },
    {
      "cell_type": "markdown",
      "metadata": {
        "id": "Tapo6gD_zef6"
      },
      "source": [
        "## Build new list class_names based on TensorFlow website (Zalando Research Germany)"
      ]
    },
    {
      "cell_type": "markdown",
      "metadata": {
        "id": "KA0hEQ6Qzef7"
      },
      "source": [
        "![zalando.png](data:image/png;base64,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)"
      ]
    },
    {
      "cell_type": "code",
      "metadata": {
        "colab": {
          "base_uri": "https://localhost:8080/"
        },
        "id": "G6TwE-l2zef7",
        "scrolled": true,
        "outputId": "e6579df4-57a7-471c-fb69-1bd2faabb683"
      },
      "source": [
        "class_names = 't-shirt trouser pullover dress coat sandal shirt sneaker bag boot'.split()\n",
        "class_names"
      ],
      "execution_count": null,
      "outputs": [
        {
          "output_type": "execute_result",
          "data": {
            "text/plain": [
              "['t-shirt',\n",
              " 'trouser',\n",
              " 'pullover',\n",
              " 'dress',\n",
              " 'coat',\n",
              " 'sandal',\n",
              " 'shirt',\n",
              " 'sneaker',\n",
              " 'bag',\n",
              " 'boot']"
            ]
          },
          "metadata": {
            "tags": []
          },
          "execution_count": 6
        }
      ]
    },
    {
      "cell_type": "markdown",
      "metadata": {
        "id": "rEAd8ylazef8"
      },
      "source": [
        "## Check data distribution between 60K train dataset (each class was equally represented)"
      ]
    },
    {
      "cell_type": "code",
      "metadata": {
        "colab": {
          "base_uri": "https://localhost:8080/"
        },
        "id": "Qwf6DgABzef9",
        "scrolled": true,
        "outputId": "0fbcfaaa-fdec-40c9-9ff3-412ff78a552d"
      },
      "source": [
        "for i in range (10):\n",
        "    print(class_names[pd.Series(y_train).value_counts().keys()[i]],\"    \\t\\t\",\\\n",
        "          pd.Series(y_train).value_counts().values[i])"
      ],
      "execution_count": null,
      "outputs": [
        {
          "output_type": "stream",
          "text": [
            "boot     \t\t 6000\n",
            "bag     \t\t 6000\n",
            "sneaker     \t\t 6000\n",
            "shirt     \t\t 6000\n",
            "sandal     \t\t 6000\n",
            "coat     \t\t 6000\n",
            "dress     \t\t 6000\n",
            "pullover     \t\t 6000\n",
            "trouser     \t\t 6000\n",
            "t-shirt     \t\t 6000\n"
          ],
          "name": "stdout"
        }
      ]
    },
    {
      "cell_type": "markdown",
      "metadata": {
        "id": "AQIa1gogzef-"
      },
      "source": [
        "## Train the Model\n",
        "-  Preprocessed the data by transforming 2D images (a matrix) into 1D (a list) \n",
        "-  Get overall accuracy Logistic regression score"
      ]
    },
    {
      "cell_type": "code",
      "metadata": {
        "colab": {
          "base_uri": "https://localhost:8080/"
        },
        "id": "GqHT7vVhzef_",
        "outputId": "08de992c-efeb-47e0-a1e9-9d35484a39ca"
      },
      "source": [
        "# Example of reshape data into 1d for sklearn Logistic Regresion\n",
        "\n",
        "X_TRAIN = X_train.reshape(60000, -1)\n",
        "X_TEST = X_test.reshape(10000, -1)\n",
        "\n",
        "print('data shape before reshape', X_train.shape)\n",
        "print('data shape after reshape', X_TRAIN.shape)"
      ],
      "execution_count": null,
      "outputs": [
        {
          "output_type": "stream",
          "text": [
            "data shape before reshape (60000, 28, 28)\n",
            "data shape after reshape (60000, 784)\n"
          ],
          "name": "stdout"
        }
      ]
    },
    {
      "cell_type": "code",
      "metadata": {
        "colab": {
          "base_uri": "https://localhost:8080/"
        },
        "id": "9i38ROwazef_",
        "outputId": "14c0fce8-f9ff-45f1-ee0a-4eec891488b1"
      },
      "source": [
        "# Training the model\n",
        "lr = LogisticRegression()\n",
        "lr.fit(X_TRAIN, y_train)\n",
        "\n",
        "# Assessing the model\n",
        "lr.score(X_TEST, y_test)"
      ],
      "execution_count": null,
      "outputs": [
        {
          "output_type": "execute_result",
          "data": {
            "text/plain": [
              "0.8412"
            ]
          },
          "metadata": {
            "tags": []
          },
          "execution_count": 9
        }
      ]
    },
    {
      "cell_type": "code",
      "metadata": {
        "colab": {
          "base_uri": "https://localhost:8080/",
          "height": 300
        },
        "id": "9bzlZv8mzegB",
        "outputId": "50c0abb3-d766-40d5-b651-b5aac31779b3"
      },
      "source": [
        "# Example of first ten dataset probabilistic classification : 10K in total\n",
        "\n",
        "df = pd.DataFrame(lr.predict_proba(X_TEST)).rename(columns={0:class_names[0],1:class_names[1],2:class_names[2]})\\\n",
        ".rename(columns={3:class_names[3],4:class_names[4],5:class_names[5],6:class_names[6]})\\\n",
        ".rename(columns={7:class_names[7],8:class_names[8], 9:class_names[9]}).round(2).head(10)\n",
        "\n",
        "sns.heatmap(df, annot=True);\n",
        "\n"
      ],
      "execution_count": null,
      "outputs": [
        {
          "output_type": "display_data",
          "data": {
            "image/png": "[encoded data removed]",
            "text/plain": [
              "<Figure size 432x288 with 2 Axes>"
            ]
          },
          "metadata": {
            "tags": [],
            "needs_background": "light"
          }
        }
      ]
    },
    {
      "cell_type": "code",
      "metadata": {
        "colab": {
          "base_uri": "https://localhost:8080/",
          "height": 1000
        },
        "id": "X771WZ1xzegR",
        "scrolled": false,
        "outputId": "a8f81bbe-6f3d-48b8-eb1d-8b0f3818d02f"
      },
      "source": [
        "# SIMPLE CLASSIFICATION API\n",
        "imgURL = \"https://cdn.shopify.com/s/files/1/1230/9376/products/HER-10357_7EBlack.jpg?v=1594531770\"\n",
        "\n",
        "#SAVING ABOVE IMAGE LOCALLY TEMPORARILY\n",
        "urllib.request.urlretrieve(imgURL, \"temp.jpg\")\n",
        "\n",
        "# IMAGE TRANSFORMATION\n",
        "im1 = Image.open(\"temp.jpg\")                   # ORIGINAL IMAGE\n",
        "im2 = im1.resize((28, 28))                     # RESIZE INTO 28 x 28 PIXEL RESOLUTIONS\n",
        "im3 = ImageEnhance.Brightness(im2).enhance(1)  # CLEANING BACKGROUND NOISE, THE HIGHER THE BETTER\n",
        "im4 = im3.split()[0]                           # FILTERING RED (R) COLOR COMPONENT \n",
        "im5 = im3.split()[1]                           # FILTERING GREEN (G) COLOR COMPONENT\n",
        "im6 = im3.split()[2]                           # FILTERING BLUE (B) COLOR COMPONENT\n",
        "\n",
        "# Numpize and flattened into 1D shape \n",
        "im7 = img_to_array(im5)                        # CONVERT JPG INTO NUMPY ARRAY\n",
        "prediction = lr.predict_proba(im7              # USE ABOVE MNIST MODEL TO PREDICT \n",
        "              .reshape(784,-2).T).tolist()[0]  # FLATTEN 28 x 28 matrix into 1D data\n",
        "\n",
        "# grayscale value\n",
        "for i in range(28):\n",
        "    for j in list(255-im7.astype(int).reshape(28,28)[i]):\n",
        "      print('  '[:3-len(str(j))]+str(j), end=' ')\n",
        "    print('\\n')\n",
        "\n",
        "# grayscale image    \n",
        "plt.imshow(im5.convert('RGB'))                 # TAKE ONE OF THE RGB : green (in this case)\n",
        "plt.axis('off');\n",
        "\n",
        "#Probabilistic clasification (%) : 0 to 100\n",
        "for i in range (10):\n",
        "    print(class_names[i],\"    \\t\\t\",\\\n",
        "          round(prediction[i]*100,3))"
      ],
      "execution_count": null,
      "outputs": [
        {
          "output_type": "stream",
          "text": [
            "  0   0   0   0  57 141  94 117  91  77  76  75  73  67  74  83  78  78  83  90  81  77  76   8   0   0   0   0 \n",
            "\n",
            "  0   0   0   0 156 225 207 217 218 216 215 214 216 215 216 218 216 214 216 221 221 218 217  50   0   0   0   0 \n",
            "\n",
            "  0   0   0   0 171 233 219 228 225 221 219 225 222 219 220 224 223 220 219 224 225 229 242  90   0   0   0   0 \n",
            "\n",
            "  0   0   0   1 163 225 219 222 212 211 217 221 213 214 216 218 217 217 217 216 220 227 240 103   0   0   0   0 \n",
            "\n",
            "  0   0   0  41 223 214 222 220 212 215 223 218 215 221 221 220 218 219 219 218 222 219 233 160   0   0   0   0 \n",
            "\n",
            "  0   0   0  76 178 221 230 216 214 221 224 215 219 222 223 220 219 219 219 218 221 224 212 135  34   0   0   0 \n",
            "\n",
            "  0   0  23 152 130 235 229 212 218 224 220 215 220 221 222 219 219 219 218 219 218 220 205 153 146   0   0   0 \n",
            "\n",
            "  0   0  61 221 150 232 218 214 223 224 217 218 222 223 222 219 220 220 220 222 217 216 202 145 185   1   0   0 \n",
            "\n",
            "  0   0 108 213 128 225 211 221 224 221 217 221 221 225 220 221 220 221 223 225 225 228 215 105 213  36   0   0 \n",
            "\n",
            "  0   0 139 176 116 227 221 225 223 219 220 222 219 222 224 223 221 222 227 229 231 236 214  87 159  72   0   0 \n",
            "\n",
            "  0  19 148 114 108 231 225 225 221 220 223 222 221 223 225 224 223 224 229 230 232 230 208  33 174 161   3   0 \n",
            "\n",
            "  0  75 222  81  98 231 223 222 221 223 223 224 226 226 224 223 223 224 226 228 228 219 208  20 117 197  32   0 \n",
            "\n",
            "  0 117 173  42 102 231 220 220 221 222 222 224 225 224 223 222 224 226 225 226 223 221 210  20  88 201 101   0 \n",
            "\n",
            "  0 162 188  17 104 232 221 221 221 221 222 222 218 221 224 224 225 226 225 223 222 225 211  22  37 237 122   0 \n",
            "\n",
            "  0 152 171   0 107 232 223 224 222 222 223 222 219 222 225 227 225 225 225 224 222 222 211  27   8 217 130   0 \n",
            "\n",
            "  0 185 130   0 107 231 223 224 223 223 223 222 224 227 226 227 226 226 224 222 220 220 213  30   0 167 171   0 \n",
            "\n",
            " 14 212  87   0 109 232 222 223 224 224 225 225 226 225 226 226 227 226 224 221 218 218 215  34   0 110 192   3 \n",
            "\n",
            " 41 220  47   0 111 231 222 222 224 226 227 227 226 226 226 226 227 227 226 223 220 223 222  40   0  61 205  18 \n",
            "\n",
            " 82 204  12   0 113 231 222 222 224 226 227 226 223 226 225 225 225 226 227 226 225 227 220  44   0  16 199  58 \n",
            "\n",
            "129 161   0   0 117 232 222 222 223 225 225 224 221 224 225 225 225 225 226 226 225 223 219  49   0   0 165 112 \n",
            "\n",
            "172 104   0   0 120 231 223 223 223 224 225 223 222 227 225 225 224 223 226 231 231 222 223  57   0   0 123 158 \n",
            "\n",
            "196  53   0   0 124 229 222 224 224 223 223 223 223 226 226 225 224 227 185 130 129 187 229  64   0   0  80 192 \n",
            "\n",
            "192  20   0   0 127 229 221 223 224 223 223 223 224 227 226 225 224 230 151  33  35 159 234  70   0   0  42 206 \n",
            "\n",
            "169   3   0   0 130 230 221 222 224 223 222 223 224 227 227 225 224 229 150  66  57 159 233  76   0   0  16 195 \n",
            "\n",
            "140   0   0   0 133 229 221 221 223 224 223 222 224 225 226 225 224 230 145  39  40 155 233  80   0   0   4 165 \n",
            "\n",
            "105   0   0   0 137 229 222 222 223 224 224 224 225 226 226 225 225 227 191 149 147 194 233  84   0   0   0 125 \n",
            "\n",
            " 92 118  59  79 189 228 225 227 228 227 229 228 228 229 228 227 227 226 229 232 232 229 230 149  55  42  93  79 \n",
            "\n",
            " 20 123 120 106 173 189 165 157 152 152 154 154 150 147 145 144 142 140 141 144 152 161 185 151 110 130 143  25 \n",
            "\n",
            "t-shirt     \t\t 0.0\n",
            "trouser     \t\t 0.0\n",
            "pullover     \t\t 0.0\n",
            "dress     \t\t 0.0\n",
            "coat     \t\t 0.0\n",
            "sandal     \t\t 0.0\n",
            "shirt     \t\t 0.0\n",
            "sneaker     \t\t 0.0\n",
            "bag     \t\t 98.45\n",
            "boot     \t\t 1.55\n"
          ],
          "name": "stdout"
        },
        {
          "output_type": "display_data",
          "data": {
            "image/png": "[encoded data removed]",
            "text/plain": [
              "<Figure size 432x288 with 1 Axes>"
            ]
          },
          "metadata": {
            "tags": [],
            "needs_background": "light"
          }
        }
      ]
    }
  ]
}