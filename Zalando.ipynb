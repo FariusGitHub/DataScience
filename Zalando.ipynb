{
  "nbformat": 4,
  "nbformat_minor": 0,
  "metadata": {
    "colab": {
      "name": "Zalando.ipynb",
      "provenance": [],
      "collapsed_sections": [],
      "include_colab_link": true
    },
    "kernelspec": {
      "display_name": "Python 3",
      "language": "python",
      "name": "python3"
    },
    "language_info": {
      "codemirror_mode": {
        "name": "ipython",
        "version": 3
      },
      "file_extension": ".py",
      "mimetype": "text/x-python",
      "name": "python",
      "nbconvert_exporter": "python",
      "pygments_lexer": "ipython3",
      "version": "3.8.5"
    }
  },
  "cells": [
    {
      "cell_type": "markdown",
      "metadata": {
        "id": "view-in-github",
        "colab_type": "text"
      },
      "source": [
        "<a href=\"https://colab.research.google.com/github/FariusGitHub/DataScience/blob/master/Zalando.ipynb\" target=\"_parent\"><img src=\"https://colab.research.google.com/assets/colab-badge.svg\" alt=\"Open In Colab\"/></a>"
      ]
    },
    {
      "cell_type": "markdown",
      "metadata": {
        "id": "mH9Kb6wrzefH"
      },
      "source": [
        "<center>\n",
        "    <img src=\"https://media-exp1.licdn.com/dms/image/C4E0BAQGQ65Yl7rn-Og/company-logo_200_200/0/1612547658975?e=2159024400&v=beta&t=pzTFuHPYw1kBh_HZPoz4MhlosU8jiLp6V32zUh4GW1o\" width='30%'> \n",
        "</center>\n",
        "\n",
        "----------\n",
        "\n",
        "<h1 align=\"center\"> Logistic Regression </h1><br>\n",
        "<h1 align=\"center\"> <font size='4'>  May 16, 2021 </font><font size='4'>Farius Tjioesman </font></h1><br>\n",
        "\n",
        "----------"
      ]
    },
    {
      "cell_type": "markdown",
      "metadata": {
        "id": "mRwOgHC1zefZ"
      },
      "source": [
        "## Classification API\n",
        "\n",
        "- Simple way to train fashion dataset from TensorFlow Fashion MNIST\n",
        "    - https://www.tensorflow.org/datasets/catalog/fashion_mnist\n",
        "\n",
        "- Image Pre-Processing Reference from Pillow\n",
        "    - https://auth0.com/blog/image-processing-in-python-with-pillow/\n",
        "    "
      ]
    },
    {
      "cell_type": "code",
      "metadata": {
        "id": "yoBjyygVzefd",
        "scrolled": true
      },
      "source": [
        "import numpy as np\n",
        "import pandas as pd\n",
        "import matplotlib.pyplot as plt\n",
        "import matplotlib.image as img\n",
        "%matplotlib inline\n",
        "# from IPython.display import display, Image\n",
        "\n",
        "from sklearn.linear_model import LogisticRegression\n",
        "from keras.preprocessing.image import img_to_array\n",
        "\n",
        "import tensorflow as tf\n",
        "from tensorflow import keras\n",
        "from tensorflow.keras.datasets import mnist, fashion_mnist\n",
        "\n",
        "from PIL import Image, ImageEnhance\n",
        "import matplotlib.pyplot as plt\n",
        "import urllib.request\n",
        "import seaborn as sns\n",
        "import warnings\n",
        "warnings.filterwarnings(\"ignore\")"
      ],
      "execution_count": null,
      "outputs": []
    },
    {
      "cell_type": "markdown",
      "metadata": {
        "id": "5urZeIEwzefg"
      },
      "source": [
        "## Fashion MNIST Dataset"
      ]
    },
    {
      "cell_type": "markdown",
      "metadata": {
        "id": "S4FF_3iqzefk"
      },
      "source": [
        "Downloading 70K examples for labeled fashion classification split into train and test dataset"
      ]
    },
    {
      "cell_type": "code",
      "metadata": {
        "id": "0sfUn_mKzefl"
      },
      "source": [
        "(X_train, y_train), (X_test, y_test) = fashion_mnist.load_data()"
      ],
      "execution_count": null,
      "outputs": []
    },
    {
      "cell_type": "markdown",
      "metadata": {
        "id": "iXwUfsMNzefr"
      },
      "source": [
        "## 60K dataset was allocated to train dataset (each image has 28 x 28 pixels resolution)"
      ]
    },
    {
      "cell_type": "code",
      "metadata": {
        "colab": {
          "base_uri": "https://localhost:8080/"
        },
        "id": "6wAa7Fg8zeft",
        "outputId": "d85a5b08-b119-4835-f6d1-fa2d3d910d3e"
      },
      "source": [
        "X_train.shape"
      ],
      "execution_count": null,
      "outputs": [
        {
          "output_type": "execute_result",
          "data": {
            "text/plain": [
              "(60000, 28, 28)"
            ]
          },
          "metadata": {
            "tags": []
          },
          "execution_count": 3
        }
      ]
    },
    {
      "cell_type": "markdown",
      "metadata": {
        "id": "GzHgoII7zefv"
      },
      "source": [
        "## 10K dataset was allocated to test dataset (also with 28 x 28 pixel resolution)"
      ]
    },
    {
      "cell_type": "code",
      "metadata": {
        "colab": {
          "base_uri": "https://localhost:8080/"
        },
        "id": "FDSZ0gmmzefx",
        "outputId": "51930ded-c17e-4bc6-a110-3b017d38bc22"
      },
      "source": [
        "X_test.shape"
      ],
      "execution_count": null,
      "outputs": [
        {
          "output_type": "execute_result",
          "data": {
            "text/plain": [
              "(10000, 28, 28)"
            ]
          },
          "metadata": {
            "tags": []
          },
          "execution_count": 4
        }
      ]
    },
    {
      "cell_type": "markdown",
      "metadata": {
        "id": "9AmxtHEUzefy"
      },
      "source": [
        "## Example of 8th dataset (a sandal with grayscale values and jpg preview)"
      ]
    },
    {
      "cell_type": "code",
      "metadata": {
        "colab": {
          "base_uri": "https://localhost:8080/",
          "height": 1000
        },
        "id": "pmqcaQzZzef5",
        "scrolled": false,
        "outputId": "7fe7e01f-73d6-4b21-8381-00cbb8b2d812"
      },
      "source": [
        "# grayscale value\n",
        "example = 8\n",
        "for i in range(28):\n",
        "    for j in list(X_train[example][i]):\n",
        "      print('  '[:3-len(str(j))]+str(j), end=' ')\n",
        "    print('\\n')\n",
        "\n",
        "# grayscale image    \n",
        "plt.imshow(X_train[example], cmap='gray_r')\n",
        "plt.axis('off');\n"
      ],
      "execution_count": null,
      "outputs": [
        {
          "output_type": "stream",
          "text": [
            "  0   0   0   0   0   0   0   0   0   0   0   0   0   0   0   0   0   0   0   0   0   0   0   0   0   0   0   0 \n",
            "\n",
            "  0   0   0   0   0   0   0   0   0   0   0   0   0   0   0   0   0   0   0   0   0   0   0   0   0   0   0   0 \n",
            "\n",
            "  0   0   0   0   0   0   0   0   0   0   0   0   1   3   1   0   0   1   1   0   0   0   0  58   0  39   1   0 \n",
            "\n",
            "  0   0   0   0   0   0   0   0   0   0   0   0   1   3   0   0   0   0   0   0   0  64 109 146 192 193   7   0 \n",
            "\n",
            "  0   0   0   0   0   0   0   0   0   1   0   0   0   0   0   0  94  38  99 209 183 229 192 142  48   0   0   0 \n",
            "\n",
            "  0   0   0   0   0   0   0   0   0   1   0   0   0   0  41  45 158 146 164 114  51   1  53 105  42  36   0   0 \n",
            "\n",
            "  0   0   0   0   0   0   0   0   0   0   0   0  10  68  44  30  59 172 146   0  22   0  13 103 111 103   0   0 \n",
            "\n",
            "  0   0   0   0   0   0   0   0   0   3   1   0  22  61  88 152 255  71   0   0   0   0  35  85 112 201  44   0 \n",
            "\n",
            "  0   0   0   0   0   0   0   0   0   1   0   0  13  62 154  62   0   0   0   0   0   0  54  99  61 106  51  19 \n",
            "\n",
            "  0   0   0   0   0   0   0   0   0   0   0   0   0   0   0   0   9   1   0   0   1   0  79  82  47  33  58  50 \n",
            "\n",
            "  0   0   0   0   0   0   0   0   0   0   0   0   0   3   1   3   9   3   0   0   1   0 100  88  48  35  70  54 \n",
            "\n",
            "  0   0   0   0   0   0   0   0   0   0   0   0   0   0   0   0   0   3   0   1   0   0 111 195 119  29  58  45 \n",
            "\n",
            "  0   0   0   0   0   0   0   1   0   0   0   0   0   0   0   0   0   0   3   3   0   0  91 146 171  16  93  35 \n",
            "\n",
            "  0   0   0   0   0   0   0   0   0   0   0   0   0   0   0   0   0   0   0   0   0  48  45   3  79  87  99   6 \n",
            "\n",
            "  0   0   0   0   0   0   0   0   0   0   0   0   0   0   0   0   0   3   0   0 119 137  33  96  77  13  45   0 \n",
            "\n",
            "  0   0   0   0   0   0   0   0   0   0   0   0   0   0   0   0   0   0  32 160 164 142 116  79  82  39  39   0 \n",
            "\n",
            "  0   0   0   0   3   0   0   0   0   0   0   0   0   3   4  10   0  41 180 142 171   1   0   0  48  73  16   0 \n",
            "\n",
            "  0   0   0   0   0   0   1   1   0   0   0   0   0   0   3   0  27 155 114 169   0   0   0   0  47  76   6   0 \n",
            "\n",
            "  0   0   0   0   0   0   0   0   0   0   0   0   1   0   0   0 155 129 160   0   0   0   0   0  45  96   0   0 \n",
            "\n",
            "  0   0   0   0   1   0  16  39  64   0   0   0   0   0   0 129 151 175   0   0   0   4   4   0  48 116   0   0 \n",
            "\n",
            "  0   0   0   0   0   0  58  87  73  10   0   0   0   0  27 187 195   0   0   0   0   3   1   0  47 146   0   0 \n",
            "\n",
            "  1   0   0   0   1   0   0   0   0   0   0   0   0   0 181 225  45   0   0   0   0   0   1   0  45 186   0   0 \n",
            "\n",
            "  0   0   0   0   0   0   1 183 210  90   0   0   0 126 253 142   0   0   0   0   0   0   1   0  48 203   0   0 \n",
            "\n",
            " 64  58  45  27  16   9   1 175 245 204  22   0  70 236 190   6   0   0   0   0   0   0   0   0  50 196   0   0 \n",
            "\n",
            " 96 128 149 163 158 140 138 146 154 108  90 148 193 177  36   0   7   0   0   0   0   0   0   0  41 125   0   0 \n",
            "\n",
            "  0   0   0   0  19  47  65  93  94 125 166 180 119  29   0   0   0   0   0   0   0   0   0   0  32 238   0   0 \n",
            "\n",
            "  0   0   0   0   0   0   0   0   0   0   0   0   0   0   0   0   0   0   0   0   0   0   0   0   0 131   0   0 \n",
            "\n",
            "  0   0   0   0   0   0   0   0   0   0   0   0   0   0   0   0   0   0   0   0   0   0   0   0   0   0   0   0 \n",
            "\n"
          ],
          "name": "stdout"
        },
        {
          "output_type": "display_data",
          "data": {
            "image/png": "[encoded data removed]",
            "text/plain": [
              "<Figure size 432x288 with 1 Axes>"
            ]
          },
          "metadata": {
            "tags": [],
            "needs_background": "light"
          }
        }
      ]
    },
    {
      "cell_type": "markdown",
      "metadata": {
        "id": "lcNchntv1XxK"
      },
      "source": [
        ""
      ]
    },
    {
      "cell_type": "markdown",
      "metadata": {
        "id": "Tapo6gD_zef6"
      },
      "source": [
        "## Build new list class_names based on TensorFlow website (Zalando Research Germany)"
      ]
    },
    {
      "cell_type": "markdown",
      "metadata": {
        "id": "KA0hEQ6Qzef7"
      },
      "source": [
        "<left>\n",
        "    <img src=\"https://www.researchgate.net/profile/Greeshma-K-V/publication/340299295/figure/fig1/AS:875121904476163@1585656729996/Fashion-MNIST-Dataset-Images-with-Labels-and-Description-II-LITERATURE-REVIEW-In-image.jpg](attachment:image.png\" width='60%'> \n",
        "</left>"
      ]
    },
    {
      "cell_type": "code",
      "metadata": {
        "colab": {
          "base_uri": "https://localhost:8080/"
        },
        "id": "G6TwE-l2zef7",
        "scrolled": true,
        "outputId": "e6579df4-57a7-471c-fb69-1bd2faabb683"
      },
      "source": [
        "class_names = 't-shirt trouser pullover dress coat sandal shirt sneaker bag boot'.split()\n",
        "class_names"
      ],
      "execution_count": null,
      "outputs": [
        {
          "output_type": "execute_result",
          "data": {
            "text/plain": [
              "['t-shirt',\n",
              " 'trouser',\n",
              " 'pullover',\n",
              " 'dress',\n",
              " 'coat',\n",
              " 'sandal',\n",
              " 'shirt',\n",
              " 'sneaker',\n",
              " 'bag',\n",
              " 'boot']"
            ]
          },
          "metadata": {
            "tags": []
          },
          "execution_count": 6
        }
      ]
    },
    {
      "cell_type": "markdown",
      "metadata": {
        "id": "rEAd8ylazef8"
      },
      "source": [
        "## Check data distribution between 60K train dataset (each class was equally represented)"
      ]
    },
    {
      "cell_type": "code",
      "metadata": {
        "colab": {
          "base_uri": "https://localhost:8080/"
        },
        "id": "Qwf6DgABzef9",
        "scrolled": true,
        "outputId": "0fbcfaaa-fdec-40c9-9ff3-412ff78a552d"
      },
      "source": [
        "for i in range (10):\n",
        "    print(class_names[pd.Series(y_train).value_counts().keys()[i]],\"    \\t\\t\",\\\n",
        "          pd.Series(y_train).value_counts().values[i])"
      ],
      "execution_count": null,
      "outputs": [
        {
          "output_type": "stream",
          "text": [
            "boot     \t\t 6000\n",
            "bag     \t\t 6000\n",
            "sneaker     \t\t 6000\n",
            "shirt     \t\t 6000\n",
            "sandal     \t\t 6000\n",
            "coat     \t\t 6000\n",
            "dress     \t\t 6000\n",
            "pullover     \t\t 6000\n",
            "trouser     \t\t 6000\n",
            "t-shirt     \t\t 6000\n"
          ],
          "name": "stdout"
        }
      ]
    },
    {
      "cell_type": "markdown",
      "metadata": {
        "id": "AQIa1gogzef-"
      },
      "source": [
        "## Train the Model\n",
        "-  Preprocessed the data by transforming 2D images (a matrix) into 1D (a list) \n",
        "-  Get overall accuracy Logistic regression score"
      ]
    },
    {
      "cell_type": "code",
      "metadata": {
        "colab": {
          "base_uri": "https://localhost:8080/"
        },
        "id": "GqHT7vVhzef_",
        "outputId": "08de992c-efeb-47e0-a1e9-9d35484a39ca"
      },
      "source": [
        "# Example of reshape data into 1d for sklearn Logistic Regresion\n",
        "\n",
        "X_TRAIN = X_train.reshape(60000, -1)\n",
        "X_TEST = X_test.reshape(10000, -1)\n",
        "\n",
        "print('data shape before reshape', X_train.shape)\n",
        "print('data shape after reshape', X_TRAIN.shape)"
      ],
      "execution_count": null,
      "outputs": [
        {
          "output_type": "stream",
          "text": [
            "data shape before reshape (60000, 28, 28)\n",
            "data shape after reshape (60000, 784)\n"
          ],
          "name": "stdout"
        }
      ]
    },
    {
      "cell_type": "code",
      "metadata": {
        "colab": {
          "base_uri": "https://localhost:8080/"
        },
        "id": "9i38ROwazef_",
        "outputId": "14c0fce8-f9ff-45f1-ee0a-4eec891488b1"
      },
      "source": [
        "# Training the model\n",
        "lr = LogisticRegression()\n",
        "lr.fit(X_TRAIN, y_train)\n",
        "\n",
        "# Assessing the model\n",
        "lr.score(X_TEST, y_test)"
      ],
      "execution_count": null,
      "outputs": [
        {
          "output_type": "execute_result",
          "data": {
            "text/plain": [
              "0.8412"
            ]
          },
          "metadata": {
            "tags": []
          },
          "execution_count": 9
        }
      ]
    },
    {
      "cell_type": "code",
      "metadata": {
        "colab": {
          "base_uri": "https://localhost:8080/",
          "height": 300
        },
        "id": "9bzlZv8mzegB",
        "outputId": "50c0abb3-d766-40d5-b651-b5aac31779b3"
      },
      "source": [
        "# Example of first ten dataset probabilistic classification : 10K in total\n",
        "\n",
        "df = pd.DataFrame(lr.predict_proba(X_TEST)).rename(columns={0:class_names[0],1:class_names[1],2:class_names[2]})\\\n",
        ".rename(columns={3:class_names[3],4:class_names[4],5:class_names[5],6:class_names[6]})\\\n",
        ".rename(columns={7:class_names[7],8:class_names[8], 9:class_names[9]}).round(2).head(10)\n",
        "\n",
        "sns.heatmap(df, annot=True);\n",
        "\n"
      ],
      "execution_count": null,
      "outputs": [
        {
          "output_type": "display_data",
          "data": {
            "image/png": "[encoded data removed]",
            "text/plain": [
              "<Figure size 432x288 with 2 Axes>"
            ]
          },
          "metadata": {
            "tags": [],
            "needs_background": "light"
          }
        }
      ]
    },
    {
      "cell_type": "code",
      "metadata": {
        "scrolled": false,
        "id": "VMLDjmy_1QYK",
        "outputId": "c1a4d256-fab1-42d4-980a-2ab3af61638d"
      },
      "source": [
        "# EXAMPLE APPLICATION TO SOME EXTERNAL DATASET \n",
        "data=pd.read_csv('https://farius.s3.us-east-2.amazonaws.com/cytopia/shopify.csv')\n",
        "\n",
        "data=data[data[\"product_id\"].isin(['42,556,209', '425,565,135', '425,563,466',\\\n",
        "    '425,563,521', '425,564,251', '425,565,072', '425,565,784'])]\n",
        "\n",
        "def make_square(im, fill_color=(0, 0, 0, 0)):\n",
        "    x, y = im.size\n",
        "    size = max(x, y)\n",
        "    new_im = Image.new('RGBA', (size, size), fill_color)\n",
        "    new_im.paste(im, (int((size - x) / 2), int((size - y) / 2)))\n",
        "    return new_im\n",
        "\n",
        "for k in range(len(data)):\n",
        "\n",
        "    imgURL = data.iloc[k][2]\n",
        "    try:\n",
        "        urllib.request.urlretrieve(imgURL, \"temp.jpg\")\n",
        "        im0 = Image.open(\"temp.jpg\")\n",
        "\n",
        "        im1 = make_square(im0)\n",
        "        im2 = im1.resize((28, 28))                     # RESIZE INTO 28 x 28 PIXEL RESOLUTIONS\n",
        "        im3 = ImageEnhance.Brightness(im2).enhance(1)  # CLEANING NOISE, HIGHER ENHANCE IS BETTER\n",
        "        im4 = im3.convert('LA')                        # CONVERTING RGBA to GRAY SCALE\n",
        "        print('\\n',data.iloc[k][0])\n",
        "        print('\\n',data.iloc[k][3])\n",
        "        display(im4)\n",
        "        im5 = img_to_array(im4).T.reshape(784,-1).T    # JPG TO ARRAY + FLATTENING\n",
        "        im6 = lr.predict_proba(im5)                    # prediction by probability\n",
        "        im7 = (im6.round(4)*100).tolist()[0]           # show percent value\n",
        "\n",
        "        for i in range(len(class_names)):\n",
        "            print(class_names[i], '     \\t',im7[i])\n",
        "    except:\n",
        "        pass"
      ],
      "execution_count": null,
      "outputs": [
        {
          "output_type": "stream",
          "text": [
            "\n",
            " 1\n",
            "\n",
            " 42,556,209\n"
          ],
          "name": "stdout"
        },
        {
          "output_type": "display_data",
          "data": {
            "image/png": "[encoded data removed]",
            "text/plain": [
              "<PIL.Image.Image image mode=LA size=28x28 at 0x28EA70B04F0>"
            ]
          },
          "metadata": {
            "tags": []
          }
        },
        {
          "output_type": "stream",
          "text": [
            "t-shirt      \t 0.0\n",
            "trouser      \t 1.32\n",
            "pullover      \t 0.06\n",
            "dress      \t 0.0\n",
            "coat      \t 0.0\n",
            "sandal      \t 2.08\n",
            "shirt      \t 0.0\n",
            "sneaker      \t 0.0\n",
            "bag      \t 96.54\n",
            "boot      \t 0.0\n",
            "\n",
            " 156\n",
            "\n",
            " 425,563,466\n"
          ],
          "name": "stdout"
        },
        {
          "output_type": "display_data",
          "data": {
            "image/png": "[encoded data removed]",
            "text/plain": [
              "<PIL.Image.Image image mode=LA size=28x28 at 0x28EA9D9AE20>"
            ]
          },
          "metadata": {
            "tags": []
          }
        },
        {
          "output_type": "stream",
          "text": [
            "t-shirt      \t 3.3000000000000003\n",
            "trouser      \t 0.09\n",
            "pullover      \t 0.06\n",
            "dress      \t 0.0\n",
            "coat      \t 0.05\n",
            "sandal      \t 0.0\n",
            "shirt      \t 2.8400000000000003\n",
            "sneaker      \t 0.0\n",
            "bag      \t 93.58999999999999\n",
            "boot      \t 0.06999999999999999\n",
            "\n",
            " 160\n",
            "\n",
            " 425,563,521\n"
          ],
          "name": "stdout"
        },
        {
          "output_type": "display_data",
          "data": {
            "image/png": "[encoded data removed]",
            "text/plain": [
              "<PIL.Image.Image image mode=LA size=28x28 at 0x28EA9D9FDC0>"
            ]
          },
          "metadata": {
            "tags": []
          }
        },
        {
          "output_type": "stream",
          "text": [
            "t-shirt      \t 0.02\n",
            "trouser      \t 0.0\n",
            "pullover      \t 0.02\n",
            "dress      \t 0.0\n",
            "coat      \t 0.0\n",
            "sandal      \t 0.0\n",
            "shirt      \t 7.489999999999999\n",
            "sneaker      \t 0.0\n",
            "bag      \t 92.47\n",
            "boot      \t 0.0\n",
            "\n",
            " 219\n",
            "\n",
            " 425,564,251\n"
          ],
          "name": "stdout"
        },
        {
          "output_type": "display_data",
          "data": {
            "image/png": "[encoded data removed]",
            "text/plain": [
              "<PIL.Image.Image image mode=LA size=28x28 at 0x28EA9B72520>"
            ]
          },
          "metadata": {
            "tags": []
          }
        },
        {
          "output_type": "stream",
          "text": [
            "t-shirt      \t 0.0\n",
            "trouser      \t 0.0\n",
            "pullover      \t 0.0\n",
            "dress      \t 0.0\n",
            "coat      \t 0.0\n",
            "sandal      \t 0.0\n",
            "shirt      \t 0.0\n",
            "sneaker      \t 0.0\n",
            "bag      \t 100.0\n",
            "boot      \t 0.0\n",
            "\n",
            " 303\n",
            "\n",
            " 425,565,072\n"
          ],
          "name": "stdout"
        },
        {
          "output_type": "display_data",
          "data": {
            "image/png": "[encoded data removed]",
            "text/plain": [
              "<PIL.Image.Image image mode=LA size=28x28 at 0x28EA9D92D60>"
            ]
          },
          "metadata": {
            "tags": []
          }
        },
        {
          "output_type": "stream",
          "text": [
            "t-shirt      \t 0.01\n",
            "trouser      \t 0.0\n",
            "pullover      \t 4.93\n",
            "dress      \t 0.0\n",
            "coat      \t 0.8999999999999999\n",
            "sandal      \t 87.67\n",
            "shirt      \t 0.03\n",
            "sneaker      \t 0.0\n",
            "bag      \t 6.460000000000001\n",
            "boot      \t 0.0\n",
            "\n",
            " 316\n",
            "\n",
            " 425,565,135\n"
          ],
          "name": "stdout"
        },
        {
          "output_type": "display_data",
          "data": {
            "image/png": "[encoded data removed]",
            "text/plain": [
              "<PIL.Image.Image image mode=LA size=28x28 at 0x28EA9DA6D30>"
            ]
          },
          "metadata": {
            "tags": []
          }
        },
        {
          "output_type": "stream",
          "text": [
            "t-shirt      \t 0.0\n",
            "trouser      \t 0.0\n",
            "pullover      \t 0.21\n",
            "dress      \t 0.0\n",
            "coat      \t 0.01\n",
            "sandal      \t 99.72999999999999\n",
            "shirt      \t 0.01\n",
            "sneaker      \t 0.0\n",
            "bag      \t 0.04\n",
            "boot      \t 0.0\n",
            "\n",
            " 377\n",
            "\n",
            " 425,565,784\n"
          ],
          "name": "stdout"
        },
        {
          "output_type": "display_data",
          "data": {
            "image/png": "[encoded data removed]",
            "text/plain": [
              "<PIL.Image.Image image mode=LA size=28x28 at 0x28EA9DA89A0>"
            ]
          },
          "metadata": {
            "tags": []
          }
        },
        {
          "output_type": "stream",
          "text": [
            "t-shirt      \t 0.0\n",
            "trouser      \t 0.0\n",
            "pullover      \t 0.0\n",
            "dress      \t 0.0\n",
            "coat      \t 0.0\n",
            "sandal      \t 100.0\n",
            "shirt      \t 0.0\n",
            "sneaker      \t 0.0\n",
            "bag      \t 0.0\n",
            "boot      \t 0.0\n"
          ],
          "name": "stdout"
        }
      ]
    }
  ]
}