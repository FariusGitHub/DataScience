{
  "nbformat": 4,
  "nbformat_minor": 0,
  "metadata": {
    "kernelspec": {
      "display_name": "Python 3",
      "language": "python",
      "name": "python3"
    },
    "language_info": {
      "codemirror_mode": {
        "name": "ipython",
        "version": 3
      },
      "file_extension": ".py",
      "mimetype": "text/x-python",
      "name": "python",
      "nbconvert_exporter": "python",
      "pygments_lexer": "ipython3",
      "version": "3.8.5"
    },
    "colab": {
      "name": "image_recognition.ipynb",
      "provenance": [],
      "include_colab_link": true
    }
  },
  "cells": [
    {
      "cell_type": "markdown",
      "metadata": {
        "id": "view-in-github",
        "colab_type": "text"
      },
      "source": [
        "<a href=\"https://colab.research.google.com/github/FariusGitHub/DataScience/blob/master/image_recognition.ipynb\" target=\"_parent\"><img src=\"https://colab.research.google.com/assets/colab-badge.svg\" alt=\"Open In Colab\"/></a>"
      ]
    },
    {
      "cell_type": "code",
      "metadata": {
        "colab": {
          "base_uri": "https://localhost:8080/"
        },
        "id": "qKJ9syCKTdiA",
        "outputId": "e833ba6d-07a4-40a7-f404-318bc37197b9"
      },
      "source": [
        "import pandas as pd\n",
        "import numpy as np\n",
        "from imblearn.over_sampling import SMOTE\n",
        "from sklearn.linear_model import LogisticRegression\n",
        "from sklearn.model_selection import train_test_split\n",
        "import warnings\n",
        "warnings.filterwarnings(\"ignore\")"
      ],
      "execution_count": 2,
      "outputs": [
        {
          "output_type": "stream",
          "text": [
            "/usr/local/lib/python3.7/dist-packages/sklearn/externals/six.py:31: FutureWarning: The module is deprecated in version 0.21 and will be removed in version 0.23 since we've dropped support for Python 2.7. Please rely on the official version of six (https://pypi.org/project/six/).\n",
            "  \"(https://pypi.org/project/six/).\", FutureWarning)\n",
            "/usr/local/lib/python3.7/dist-packages/sklearn/utils/deprecation.py:144: FutureWarning: The sklearn.neighbors.base module is  deprecated in version 0.22 and will be removed in version 0.24. The corresponding classes / functions should instead be imported from sklearn.neighbors. Anything that cannot be imported from sklearn.neighbors is now part of the private API.\n",
            "  warnings.warn(message, FutureWarning)\n"
          ],
          "name": "stderr"
        }
      ]
    },
    {
      "cell_type": "code",
      "metadata": {
        "id": "MelEDN4XTdiB"
      },
      "source": [
        "data=pd.read_csv('90types.csv')\n",
        "# data=pd.read_csv('https://fashion.s3.us-east-2.amazonaws.com/90types.csv')"
      ],
      "execution_count": null,
      "outputs": []
    },
    {
      "cell_type": "code",
      "metadata": {
        "id": "srjsRzz9TdiB"
      },
      "source": [
        "# BUILDING FIRST HALF OF RANDOMM OVERSAMPLING (already uploaded as data1.csv)\n",
        "data1=data[data['type']<50]\n",
        "\n",
        "X=data1.drop(['filename', 'type_desc','ID'], axis=1)\n",
        "y=data1[['type']]\n",
        "\n",
        "smote = SMOTE(sampling_strategy='auto')\n",
        "X1, y1 = smote.fit_resample(X, y)\n",
        "\n",
        "A1=X1.sort_values(by=['type'])\n",
        "A1=A1.reset_index().drop(['index'],axis=1)\n",
        "\n",
        "denom=(X1['type'].value_counts().values[0])\n",
        "\n",
        "A1['run1']=A1.index+1\n",
        "A1['run2']=np.where(A1['run1']==1,1,\\\n",
        "           np.where(A1['run1']%denom==0,denom,A1['run1']%denom))\n",
        "\n",
        "print('balanced dataset \\n', A1['type'][A1['run2']<=4000].value_counts())\n",
        "A1.drop(['run1','run2'],axis=1)[A1['run2']<=4000].to_csv('data1.csv', index=False)"
      ],
      "execution_count": 1,
      "outputs": []
    },
    {
      "cell_type": "code",
      "metadata": {
        "id": "NSWI6Hl3TdiC"
      },
      "source": [
        "#BUILDING SECOND HALF OF ROS (ALSO ALREADY UPLOADED as data2.csv as below) \n",
        "data2=data[data['type']>=50]\n",
        "\n",
        "X=data2.drop(['filename', 'type_desc','ID'], axis=1)\n",
        "y=data2[['type']]\n",
        "\n",
        "smote = SMOTE(sampling_strategy='auto')\n",
        "X2, y2 = smote.fit_resample(X, y)\n",
        "\n",
        "A2=X2.sort_values(by=['type'])\n",
        "A2=A2.reset_index().drop(['index'],axis=1)\n",
        "\n",
        "denom=(X2['type'].value_counts().values[0])\n",
        "\n",
        "A2['run1']=A2.index+1\n",
        "A2['run2']=np.where(A2['run1']==1,1,\\\n",
        "           np.where(A2['run1']%denom==0,denom,A2['run1']%denom))\n",
        "\n",
        "# print('balanced dataset\\n', A2['type'][A2['run2']<=4000].value_counts())\n",
        "A2.drop(['run1','run2'],axis=1)[A2['run2']<=4000].to_csv('data2.csv', index=False)"
      ],
      "execution_count": null,
      "outputs": []
    },
    {
      "cell_type": "code",
      "metadata": {
        "colab": {
          "base_uri": "https://localhost:8080/"
        },
        "id": "_6NPtX56TdiD",
        "outputId": "132897cd-a504-4687-b562-7d83eaae26fc"
      },
      "source": [
        "#USE PREVIOUSLY RUN data1.csv and data2.csv in case above codes takes too long\n",
        "data1=pd.read_csv('https://fashion.s3.us-east-2.amazonaws.com/data1.csv')\n",
        "data2=pd.read_csv('https://fashion.s3.us-east-2.amazonaws.com/data2.csv')\n",
        "\n",
        "datas=pd.concat([data1,data2])\n",
        "X = datas.drop(['type'], axis=1)\n",
        "y = datas['type']\n",
        "X_train, X_test, y_train, y_test = train_test_split(\\\n",
        "    X, y, test_size=0.33, random_state=42)\n",
        "# Training the model\n",
        "lr = LogisticRegression()\n",
        "lr.fit(X_train, y_train)\n",
        "\n",
        "# Assessing the model\n",
        "lr.score(X_test, y_test)"
      ],
      "execution_count": 4,
      "outputs": [
        {
          "output_type": "execute_result",
          "data": {
            "text/plain": [
              "0.6326430976430977"
            ]
          },
          "metadata": {
            "tags": []
          },
          "execution_count": 4
        }
      ]
    },
    {
      "cell_type": "code",
      "metadata": {
        "scrolled": false,
        "colab": {
          "base_uri": "https://localhost:8080/",
          "height": 351
        },
        "id": "nyBuEwZSTdiD",
        "outputId": "7fe728f7-5541-4efe-fed6-7cb31ff1bca6"
      },
      "source": [
        "### TESTING\n",
        "\n",
        "item = 50002\n",
        "\n",
        "new_search=pd.DataFrame(lr.predict_proba(np.expand_dims(np.array(X.iloc[item]), axis=0)).T).rename(columns={0:'ai_confidence'})\n",
        "\n",
        "master = pd.DataFrame(\n",
        "    {'id':  [i for i in range(90)],\n",
        "     'type': [           'Backpacks',   'Clutch bags', 'Duffel Bags', 'Handbags',   'Laptop Bag',  'Messenger Bags','Rucksacks',  'Waistpacks',  'Belts',       'Cufflinks',   'Face Masks',  'Gloves',      'Mufflers',    'Ties',        'Wallets',     'Watches',     'Wristbands',  'Caps',        'Hats',        'Headbands',   'Bracelets',   'Earrings',    'Glasses',     'Sunglasses',  'Necklaces',   'Rings',       'Perfumes',    'Capris',      'Jeans',      'Jeggings',   'Joggers',    'Leggings',   'Patiala',    'Scarves',    'Shorts',     'Skirts',     'Tights ',    'Trousers',   'Cardigans', 'Hoodies', 'Shirts',  'Sweaters', 'Sweatshirts', 'TankTops', 'Tops',    'Tshirt',  'Tunics',  'Above Knee', 'Ballerina', 'Bikini',   'Blazers',   'Boots',    'Boxers',    'Bralettes', 'Bras',      'Briefs',    'Camisoles', 'Coats',     'Cover ups', 'Flip Flops', 'Formal Shoes', 'Formal suits', 'Heels',    'Innerware Vests', 'Jackets',   'Jumpsuit', 'Knee Length', 'Lounge Pants',     'Lounge Shorts',    'Lounge Wear',      'Maxi',    'Midi',    'Mini',    'Night Dress',      'One Piece', 'Panties',   'Robes',            'Rompers', 'Sandals',  'Socks',     'Shapewear', 'Sleepwear',        'Slides',   'Sneakers ', 'Sport Bras', 'Swim Shorts', 'Tracksuits', 'Undershirt', 'Vest',      'Loafers', ],\n",
        "     'sub_category': [   'Bags',        'Bags',        'Bags',        'Bags',       'Bags',        'Bags',          'Bags',       'Bags',        'Acessories',  'Acessories',  'Acessories',  'Acessories',  'Acessories',  'Acessories',  'Acessories',  'Acessories',  'Acessories',  'Headwear',    'Headwear',    'Headwear',    'Jewellery',   'Jewellery',   'Eyewear',     'Eyewear',     'Jewellery',   'Jewellery',   'Fragrance',   'Bottomwear',  'Bottomwear', 'Bottomwear', 'Bottomwear', 'Bottomwear', 'Bottomwear', 'Bottomwear', 'Bottomwear', 'Bottomwear', 'Bottomwear', 'Bottomwear', 'Topwear',   'Topwear', 'Topwear', 'Topwear',  'Topwear',     'Topwear',  'Topwear', 'Topwear', 'Topwear', 'Dresses',    'Shoes',     'Swimwear', 'Outerwear', 'Shoes',    'Innerwear', 'Innerwear', 'Innerwear', 'Innerwear', 'Innerwear', 'Outerwear', 'Swimwear',  'Sandals',    'Shoes',        'Suits',        'Shoes',    'Innerwear',       'Outerwear', 'Suits',    'Dresses',     'Lounge/Nightwear', 'Lounge/Nightwear', 'Lounge/Nightwear', 'Dresses', 'Dresses', 'Dresses', 'Lounge/Nightwear', 'Swimwear',  'Innerwear', 'Lounge/Nightwear', 'Suits',   'Sandals',  'Innerwear', 'Innerwear', 'Lounge/Nightwear', 'Sandals',  'Shoes',     'Innerwear',  'Swimwear',    'Suits',      'Innerwear',  'Outerwear', 'Shoes', ],\n",
        "     'master_category': ['Accessories', 'Accessories', 'Accessories', 'Accessories','Accessories', 'Accessories',   'Accessories','Accessories', 'Accessories', 'Accessories', 'Accessories', 'Accessories', 'Accessories', 'Accessories', 'Accessories', 'Accessories', 'Accessories', 'Accessories', 'Accessories', 'Accessories', 'Accessories', 'Accessories', 'Accessories', 'Accessories', 'Accessories', 'Accessories', 'Accessories', 'Apparel',     'Apparel',    'Apparel',    'Apparel',    'Apparel',    'Apparel',    'Apparel',    'Apparel',    'Apparel',    'Apparel',    'Apparel',    'Apparel',   'Apparel', 'Apparel', 'Apparel',  'Apparel',     'Apparel',  'Apparel', 'Apparel', 'Apparel', 'Apparel',    'Footwear',  'Apparel',  'Apparel',   'Footwear', 'Apparel',   'Apparel',   'Apparel',   'Apparel',   'Apparel',   'Apparel',   'Apparel',   'Footwear',   'Footwear',     'Apparel',      'Footwear', 'Apparel',         'Apparel',   'Apparel',  'Apparel',     'Apparel',          'Apparel',          'Apparel',          'Apparel', 'Apparel', 'Apparel', 'Apparel',          'Apparel',   'Apparel',   'Apparel',          'Apparel', 'Footwear', 'Apparel',   'Apparel',   'Apparel',          'Footwear', 'Footwear',  'Apparel',    'Apparel',     'Apparel',    'Apparel',    'Apparel',   'Footwear', ],\n",
        "     }, columns = ['id','type', 'sub_category', 'master_category'])\n",
        "master.join(new_search).sort_values(by='ai_confidence', ascending=False).head(10)\n"
      ],
      "execution_count": 11,
      "outputs": [
        {
          "output_type": "execute_result",
          "data": {
            "text/html": [
              "<div>\n",
              "<style scoped>\n",
              "    .dataframe tbody tr th:only-of-type {\n",
              "        vertical-align: middle;\n",
              "    }\n",
              "\n",
              "    .dataframe tbody tr th {\n",
              "        vertical-align: top;\n",
              "    }\n",
              "\n",
              "    .dataframe thead th {\n",
              "        text-align: right;\n",
              "    }\n",
              "</style>\n",
              "<table border=\"1\" class=\"dataframe\">\n",
              "  <thead>\n",
              "    <tr style=\"text-align: right;\">\n",
              "      <th></th>\n",
              "      <th>id</th>\n",
              "      <th>type</th>\n",
              "      <th>sub_category</th>\n",
              "      <th>master_category</th>\n",
              "      <th>ai_confidence</th>\n",
              "    </tr>\n",
              "  </thead>\n",
              "  <tbody>\n",
              "    <tr>\n",
              "      <th>12</th>\n",
              "      <td>12</td>\n",
              "      <td>Mufflers</td>\n",
              "      <td>Acessories</td>\n",
              "      <td>Accessories</td>\n",
              "      <td>0.903633</td>\n",
              "    </tr>\n",
              "    <tr>\n",
              "      <th>33</th>\n",
              "      <td>33</td>\n",
              "      <td>Scarves</td>\n",
              "      <td>Bottomwear</td>\n",
              "      <td>Apparel</td>\n",
              "      <td>0.034152</td>\n",
              "    </tr>\n",
              "    <tr>\n",
              "      <th>68</th>\n",
              "      <td>68</td>\n",
              "      <td>Lounge Shorts</td>\n",
              "      <td>Lounge/Nightwear</td>\n",
              "      <td>Apparel</td>\n",
              "      <td>0.013991</td>\n",
              "    </tr>\n",
              "    <tr>\n",
              "      <th>31</th>\n",
              "      <td>31</td>\n",
              "      <td>Leggings</td>\n",
              "      <td>Bottomwear</td>\n",
              "      <td>Apparel</td>\n",
              "      <td>0.008169</td>\n",
              "    </tr>\n",
              "    <tr>\n",
              "      <th>46</th>\n",
              "      <td>46</td>\n",
              "      <td>Tunics</td>\n",
              "      <td>Topwear</td>\n",
              "      <td>Apparel</td>\n",
              "      <td>0.007031</td>\n",
              "    </tr>\n",
              "    <tr>\n",
              "      <th>30</th>\n",
              "      <td>30</td>\n",
              "      <td>Joggers</td>\n",
              "      <td>Bottomwear</td>\n",
              "      <td>Apparel</td>\n",
              "      <td>0.004555</td>\n",
              "    </tr>\n",
              "    <tr>\n",
              "      <th>82</th>\n",
              "      <td>82</td>\n",
              "      <td>Slides</td>\n",
              "      <td>Sandals</td>\n",
              "      <td>Footwear</td>\n",
              "      <td>0.003543</td>\n",
              "    </tr>\n",
              "    <tr>\n",
              "      <th>53</th>\n",
              "      <td>53</td>\n",
              "      <td>Bralettes</td>\n",
              "      <td>Innerwear</td>\n",
              "      <td>Apparel</td>\n",
              "      <td>0.002530</td>\n",
              "    </tr>\n",
              "    <tr>\n",
              "      <th>64</th>\n",
              "      <td>64</td>\n",
              "      <td>Jackets</td>\n",
              "      <td>Outerwear</td>\n",
              "      <td>Apparel</td>\n",
              "      <td>0.001744</td>\n",
              "    </tr>\n",
              "    <tr>\n",
              "      <th>75</th>\n",
              "      <td>75</td>\n",
              "      <td>Panties</td>\n",
              "      <td>Innerwear</td>\n",
              "      <td>Apparel</td>\n",
              "      <td>0.001712</td>\n",
              "    </tr>\n",
              "  </tbody>\n",
              "</table>\n",
              "</div>"
            ],
            "text/plain": [
              "    id           type      sub_category master_category  ai_confidence\n",
              "12  12       Mufflers        Acessories     Accessories       0.903633\n",
              "33  33        Scarves        Bottomwear         Apparel       0.034152\n",
              "68  68  Lounge Shorts  Lounge/Nightwear         Apparel       0.013991\n",
              "31  31       Leggings        Bottomwear         Apparel       0.008169\n",
              "46  46         Tunics           Topwear         Apparel       0.007031\n",
              "30  30        Joggers        Bottomwear         Apparel       0.004555\n",
              "82  82         Slides           Sandals        Footwear       0.003543\n",
              "53  53      Bralettes         Innerwear         Apparel       0.002530\n",
              "64  64        Jackets         Outerwear         Apparel       0.001744\n",
              "75  75        Panties         Innerwear         Apparel       0.001712"
            ]
          },
          "metadata": {
            "tags": []
          },
          "execution_count": 11
        }
      ]
    },
    {
      "cell_type": "code",
      "metadata": {
        "scrolled": false,
        "id": "fGc0nasuTdiE",
        "outputId": "0e1b8798-c391-4adc-8c8f-1a0279a34b96"
      },
      "source": [
        "# TRUTH VALUES\n",
        "print(master['type'][y.iloc[item]])\n",
        "print(master['sub_category'][y.iloc[item]])\n",
        "print(master['master_category'][y.iloc[item]])"
      ],
      "execution_count": null,
      "outputs": [
        {
          "output_type": "stream",
          "text": [
            "Mufflers\n",
            "Acessories\n",
            "Accessories\n"
          ],
          "name": "stdout"
        }
      ]
    },
    {
      "cell_type": "code",
      "metadata": {
        "id": "GH_VzLIyTdiF",
        "outputId": "1ae0a0a1-430a-418c-ee5c-8d4cffc8b86d"
      },
      "source": [
        "#VISUALIZATION\n",
        "for i in range(28):\n",
        "    for j in list(np.array(X.iloc[item]).reshape(28,28)[i]):\n",
        "      print('  '[:3-len(str(j))]+str(j), end=' ')\n",
        "    print('\\n')\n",
        "    \n",
        "# grayscale image    \n",
        "import matplotlib.pyplot as plt\n",
        "plt.imshow(np.array(X.iloc[item]).reshape(28,28), cmap='gray_r')\n",
        "plt.axis('off');"
      ],
      "execution_count": null,
      "outputs": [
        {
          "output_type": "stream",
          "text": [
            "  0   0   0   0   0   0   0   0   0   0   0   0   0   0   0   0   0   0   0   0   0   0   0   0   0   0   0   0 \n",
            "\n",
            "  0   0   0   0   0   0   0   0   0   0   0   0   0   0   0   0   0   0   0   0   0   0   0   0   0   0   0   0 \n",
            "\n",
            "  0   0   0   0   0   0   0   0   0   0   0   0   0   0   0   0   0   0   0   0   0   0   0   0   0   0   0   0 \n",
            "\n",
            "  0   0   0   0   0   0   0   0   0   0   0   8  42  71  21   0   0   0   0   0   0   0   0   0   0   0   0   0 \n",
            "\n",
            "  0   0   0   0   0   0   0   0   0   0  51 156 189 201 154  43   3   0   0   0   0   0   0   0   0   0   0   0 \n",
            "\n",
            "  0   0   0   0   0   0   0   0   0  51 173 197 186 192 187 172  57   0   0   0   0   0   0   0   0   0   0   0 \n",
            "\n",
            "  0   0   0   0   0   0   0   0   8 140 190 195 191 190 186 195 165  15   0   0   0   0   0   0   0   0   0   0 \n",
            "\n",
            "  0   0   0   0   0   0   0   0   8 157 185 194 154 167 194 187 187  41   0   0   0   0   0   0   0   0   0   0 \n",
            "\n",
            "  0   0   0   0   0   0   0   0   8 161 191 168  45  72 198 188 179  37   0   0   0   0   0   0   0   0   0   0 \n",
            "\n",
            "  0   0   0   0   0   0   0   0   6 152 186 185 169 185 190 186 147  18   0   0   0   0   0   0   0   0   0   0 \n",
            "\n",
            "  0   0   0   0   0   0   0   0   6 105 185 184 188 184 180 172  66   4   0   0   0   0   0   0   0   0   0   0 \n",
            "\n",
            "  0   0   0   0   0   0   0   0  18  91 178 175 175 176 183  94   3   0   0   0   0   0   0   0   0   0   0   0 \n",
            "\n",
            "  0   0   0   0   0   0   0   0   6  61 163 176 174 175 184 109   6   0   0   0   0   0   0   0   0   0   0   0 \n",
            "\n",
            "  0   0   0   0   0   0   0   0   0  12  85 172 179 182 179 179  89   1   0   0   0   0   0   0   0   0   0   0 \n",
            "\n",
            "  0   0   0   0   0   0   0   0   0   2  45 145 186 187 179 181 178  68   0   0   0   0   0   0   0   0   0   0 \n",
            "\n",
            "  0   0   0   0   0   0   0   0   0  29 120 177 188 190 187 182 184 173  48   0   0   0   0   0   0   0   0   0 \n",
            "\n",
            "  0   0   0   0   0   0   0   0  11 116 180 178 187 197 179 185 184 187 156  26   0   0   0   0   0   0   0   0 \n",
            "\n",
            "  0   0   0   0   0   0   0   0  88 182 181 181 182 168 101 161 188 188 189 127  13   0   0   0   0   0   0   0 \n",
            "\n",
            "  0   0   0   0   0   3  18  89 181 183 181 183 167 139  78  82 179 187 188 185  78   0   0   0   0   0   0   0 \n",
            "\n",
            "  0   0   0   0   0   7  77 178 188 185 187 185 146 120  60  55 158 184 186 187 168  32   0   0   0   0   0   0 \n",
            "\n",
            "  0   0   0   0   0   5  88 149 180 184 190 147  68  75  21  57 166 191 185 188 187 100   8   0   0   0   0   0 \n",
            "\n",
            "  0   0   0   0   0   8  83 101 122 142 167 116  39  48   0  44 163 197 188 193 186 115   8   0   0   0   0   0 \n",
            "\n",
            "  0   0   0   0   0   1  46  41  43  80  88  91  46  26   0  18 139 161 178 186 155 127  16   0   0   0   0   0 \n",
            "\n",
            "  0   0   0   0   0   0  17   2   0   3   0   0   0   0   0  11 152  91  98 133  99  69   4   0   0   0   0   0 \n",
            "\n",
            "  0   0   0   0   0   0   0   0   0   0   0   0   0   0   0   4  41  19  22  32   2   0   0   0   0   0   0   0 \n",
            "\n",
            "  0   0   0   0   0   0   0   0   0   0   0   0   0   0   0   0   0   0   0   0   0   0   0   0   0   0   0   0 \n",
            "\n",
            "  0   0   0   0   0   0   0   0   0   0   0   0   0   0   0   0   0   0   0   0   0   0   0   0   0   0   0   0 \n",
            "\n",
            "  0   0   0   0   0   0   0   0   0   0   0   0   0   0   0   0   0   0   0   0   0   0   0   0   0   0   0   0 \n",
            "\n"
          ],
          "name": "stdout"
        },
        {
          "output_type": "display_data",
          "data": {
            "image/png": "[encoded data removed]",
            "text/plain": [
              "<Figure size 432x288 with 1 Axes>"
            ]
          },
          "metadata": {
            "tags": [],
            "needs_background": "light"
          }
        }
      ]
    }
  ]
}