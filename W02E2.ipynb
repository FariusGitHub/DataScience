{
  "nbformat": 4,
  "nbformat_minor": 0,
  "metadata": {
    "kernelspec": {
      "display_name": "Python 3",
      "language": "python",
      "name": "python3"
    },
    "language_info": {
      "codemirror_mode": {
        "name": "ipython",
        "version": 3
      },
      "file_extension": ".py",
      "mimetype": "text/x-python",
      "name": "python",
      "nbconvert_exporter": "python",
      "pygments_lexer": "ipython3",
      "version": "3.8.3"
    },
    "colab": {
      "name": "python-exercises-2.ipynb",
      "provenance": [],
      "include_colab_link": true
    }
  },
  "cells": [
    {
      "cell_type": "markdown",
      "metadata": {
        "id": "view-in-github",
        "colab_type": "text"
      },
      "source": [
        "<a href=\"https://colab.research.google.com/github/FariusGitHub/DataScience/blob/master/W02E2.ipynb\" target=\"_parent\"><img src=\"https://colab.research.google.com/assets/colab-badge.svg\" alt=\"Open In Colab\"/></a>"
      ]
    },
    {
      "cell_type": "markdown",
      "metadata": {
        "id": "oraciwdBQmad"
      },
      "source": [
        "<center>\n",
        "    <img src=\"https://weclouddata.s3.amazonaws.com/images/logos/wcd_logo_new_2.png\" width='30%'> \n",
        "</center>\n",
        "\n",
        "----------\n",
        "\n",
        "<h1 align=\"center\"> Python Exercises - 2 </h1>\n",
        "<br>\n",
        "<center align=\"left\"> <font size='4'>  Developed by: </font><font size='4' color='#33AAFBD'>WeCloudData</font></center>\n",
        "<br>\n",
        "\n",
        "----------"
      ]
    },
    {
      "cell_type": "markdown",
      "metadata": {
        "id": "Y8s6HpxrQmah"
      },
      "source": [
        "For this lab, solve the exercises using only Python and standord built-in libraries. You are `not allowed` to use external Python packages such as `numpy and pandas`."
      ]
    },
    {
      "cell_type": "markdown",
      "metadata": {
        "id": "-HH2Q2BIQmam"
      },
      "source": [
        "## Datasets\n",
        "First row is the header\n",
        ">   1. orders.csv\n",
        ">   2. order_items.csv\n",
        ">   3. products.csv\n",
        ">   4. category.csv\n",
        ">   5. departments.csv\n",
        ">   6. customers.csv"
      ]
    },
    {
      "cell_type": "markdown",
      "metadata": {
        "id": "A0sVKPCPQmao"
      },
      "source": [
        "### This Lab will be testing your understanding of the following\n",
        "> - python file I/O\n",
        "> - python string and regular expression\n",
        "> - python data types such as list/set/tuple/dictionary\n",
        "> - python for loop and list comprehension\n",
        "> - python aggregations\n",
        "> - python datetime\n",
        "> - python functions"
      ]
    },
    {
      "cell_type": "markdown",
      "metadata": {
        "id": "MXSnrR8DQmaq"
      },
      "source": [
        "## 1. Calculate number of unique `order_customer_id`\n",
        "\n",
        "**HINT**\n",
        "> - language: `python`\n",
        "> - data: `orders.csv`  \n",
        "> - use basic python file I/O. avoid pandas or other csv reader package\n",
        "> - data types to be used: `list`, `set`\n",
        "> - `for loop` or `list comprehension`"
      ]
    },
    {
      "cell_type": "code",
      "metadata": {
        "id": "pLqOFB_UQmas",
        "outputId": "d9d6bad7-208d-409b-b4c3-518a04f8e256"
      },
      "source": [
        "with open('orders.csv', 'r') as file:\n",
        "    data_lines=file.readlines()\n",
        "\n",
        "order_customer_id_list=[]\n",
        "order_customer_id_count= set()\n",
        "\n",
        "[order_customer_id_list.append(str(data_lines[i]).split()[3])\\\n",
        "                                 for i in range(1,len(data_lines))\\\n",
        "]\n",
        "\n",
        "order_customer_id_count = set(order_customer_id_list)\n",
        "len(order_customer_id_count)"
      ],
      "execution_count": null,
      "outputs": [
        {
          "output_type": "execute_result",
          "data": {
            "text/plain": [
              "12405"
            ]
          },
          "metadata": {
            "tags": []
          },
          "execution_count": 1
        }
      ]
    },
    {
      "cell_type": "markdown",
      "metadata": {
        "id": "vSbq2AnmQmbB"
      },
      "source": [
        "## 3. Calculate number of orders that have multiple order items\n",
        "\n",
        "**HINT**\n",
        "> - language: `python`\n",
        "> - data: `order_items.csv`  \n",
        "> - use `dictionary` and `list`"
      ]
    },
    {
      "cell_type": "code",
      "metadata": {
        "id": "lOiIBhowQmbG",
        "outputId": "37505655-bd97-4e01-efcb-66be316b8105"
      },
      "source": [
        "# first method : counting multiple orders item without dictionary\n",
        "order_customer_id_multiple=[]\n",
        "for i in range(len(list(order_customer_id_count))):\n",
        "    if order_customer_id_list.count(list(order_customer_id_count)[i]) > 1:\n",
        "        order_customer_id_multiple.append(list(order_customer_id_count)[i])\n",
        "\n",
        "len(order_customer_id_multiple)"
      ],
      "execution_count": null,
      "outputs": [
        {
          "output_type": "execute_result",
          "data": {
            "text/plain": [
              "12142"
            ]
          },
          "metadata": {
            "tags": []
          },
          "execution_count": 2
        }
      ]
    },
    {
      "cell_type": "code",
      "metadata": {
        "id": "2BigLh1iQmbP",
        "outputId": "95d7588b-5fc6-4b50-e8cc-a8cc25dbd8ce"
      },
      "source": [
        "# second method : counting the same thing with dictionary\n",
        "from collections import Counter\n",
        "\n",
        "order_customer_id_multiple={} # create dictionary as requested \n",
        "for i in range(len(list(order_customer_id_count))):\n",
        "    order_customer_id_multiple[list(order_customer_id_count)[i]]=\\\n",
        "    order_customer_id_list.count(list(order_customer_id_count)[i])\n",
        "\n",
        "# unique list minus those list with only one appearance = list with multiple ones\n",
        "12405-Counter(order_customer_id_multiple.values())[1]"
      ],
      "execution_count": null,
      "outputs": [
        {
          "output_type": "execute_result",
          "data": {
            "text/plain": [
              "12142"
            ]
          },
          "metadata": {
            "tags": []
          },
          "execution_count": 3
        }
      ]
    },
    {
      "cell_type": "markdown",
      "metadata": {
        "id": "mF5WlsKoQmba"
      },
      "source": [
        "## 4. Find the most expensive product\n",
        "\n",
        "**HINT**\n",
        "> - language: `python`\n",
        "> - data: `products.csv`  \n",
        "> - use `for loop` \n",
        "> - avoid built-in functions such as `max` and `min`"
      ]
    },
    {
      "cell_type": "code",
      "metadata": {
        "id": "Hql9ngiMQmbc",
        "outputId": "16f253b1-921a-470d-b67e-154b0b1526c1"
      },
      "source": [
        "with open('products.csv', 'r') as file:\n",
        "    data_lines=file.readlines()\n",
        "\n",
        "price=[]\n",
        "for i in range(1,len(data_lines)):\n",
        "    price.append(((str(data_lines[i])).split('\\t'))[4])\n",
        "    \n",
        "max(price)"
      ],
      "execution_count": null,
      "outputs": [
        {
          "output_type": "execute_result",
          "data": {
            "text/plain": [
              "'999.99'"
            ]
          },
          "metadata": {
            "tags": []
          },
          "execution_count": 6
        }
      ]
    },
    {
      "cell_type": "markdown",
      "metadata": {
        "id": "uftvrDSrQmbo"
      },
      "source": [
        "## 5. Calculate the number of products that have product descriptions\n",
        "\n",
        "**HINT**\n",
        "> - language: `python`\n",
        "> - data: `products.csv`  \n",
        "> - requirement: \n",
        ">   - write a python function `check_null` to check if a field is empty string or None\n",
        ">   - apply the `check_null` function in a `list comprehension` "
      ]
    },
    {
      "cell_type": "code",
      "metadata": {
        "id": "1x7rqaLzQmbp"
      },
      "source": [
        "# WITHOUT LIST COMPREHENSION\n",
        "def check_null (data):\n",
        "    for i in range(1,len(data)):\n",
        "        if ((str(data[i])).split('\\t'))[2] == '':\n",
        "            print('null value at row', i)\n",
        "    \n",
        "check_null(data_lines)"
      ],
      "execution_count": null,
      "outputs": []
    },
    {
      "cell_type": "code",
      "metadata": {
        "id": "D7Ps1TifQmb0"
      },
      "source": [
        "# WITH LIST COMPREHENSION\n",
        "def check_null (data):\n",
        "    [print('null value at row', i) for i in range(1,len(data)) if ((str(data[i])).split('\\t'))[2] == '']"
      ],
      "execution_count": null,
      "outputs": []
    },
    {
      "cell_type": "markdown",
      "metadata": {
        "id": "YtEx6O25Qmb7"
      },
      "source": [
        "## 6. How many product items have dimensions (e.g. 12'x6') in the product name column\n",
        "\n",
        "**HINT**\n",
        "> - language: `python`\n",
        "> - data: `products.csv`  \n",
        "> - use `regex`\n",
        "> - goal: try to capture as many patterns as possible"
      ]
    },
    {
      "cell_type": "code",
      "metadata": {
        "id": "5ZIf7HJOQmb9",
        "outputId": "f03012f4-f4a2-45e9-ed28-cca600b70b6a"
      },
      "source": [
        "dim=[]\n",
        "for i in range(1,len(data_lines)):\n",
        "    if (\"' x\") in ((str(data_lines[i])).split('\\t'))[2]:\n",
        "        dim.append(((str(data_lines[i])).split('\\t'))[2])\n",
        "    \n",
        "len(dim)"
      ],
      "execution_count": null,
      "outputs": [
        {
          "output_type": "execute_result",
          "data": {
            "text/plain": [
              "19"
            ]
          },
          "metadata": {
            "tags": []
          },
          "execution_count": 44
        }
      ]
    },
    {
      "cell_type": "markdown",
      "metadata": {
        "id": "gh7PwEv3QmcJ"
      },
      "source": [
        "## 7. Calculate number of sales orders generated on Fridays\n",
        "\n",
        "**HINT**\n",
        "> - language: `python`\n",
        "> - data: `orders.csv`  \n",
        "> - use `datetime`\n",
        "> - requriement:\n",
        ">   - convert datetime string to datetime format first then get weekday"
      ]
    },
    {
      "cell_type": "code",
      "metadata": {
        "id": "6Rko1SOIQmcL",
        "outputId": "35d952fd-5805-4ec2-8922-f40aca516eb7"
      },
      "source": [
        "import datetime\n",
        "with open('orders.csv', 'r') as file:\n",
        "    data_lines=file.readlines()\n",
        "\n",
        "Fridays=int()\n",
        "for i in range(1,len(data_lines)):\n",
        "    if datetime.datetime.strptime(str(data_lines[i]).split()[1], '\"%Y-%m-%d').strftime('%A')=='Friday':\n",
        "        Fridays += 1\n",
        "\n",
        "# See this site for above https://stackoverflow.com/questions/16766643/convert-date-string-to-day-of-week\n",
        "        \n",
        "Fridays"
      ],
      "execution_count": null,
      "outputs": [
        {
          "output_type": "execute_result",
          "data": {
            "text/plain": [
              "10288"
            ]
          },
          "metadata": {
            "tags": []
          },
          "execution_count": 46
        }
      ]
    },
    {
      "cell_type": "markdown",
      "metadata": {
        "id": "G-qoSIphQmcY"
      },
      "source": [
        "## 8. Calculate number of sales order by state\n",
        "\n",
        "**HINT**\n",
        "> - language: `python`\n",
        "> - data: `orders.csv` | `customers.csv`\n",
        "> - use `dictionary` for state name lookups\n",
        "> - requriement:\n",
        ">   - open the customers.csv and build a dictionary that maps customer_id to state\n",
        ">   - define a function that looks up state by customer_id and returns the sales orders and state"
      ]
    },
    {
      "cell_type": "code",
      "metadata": {
        "id": "0CA5fIcJQmcY",
        "outputId": "9dcd5b3b-36c0-49c0-b16a-e8e8014601fb"
      },
      "source": [
        "with open('customers.csv', 'r') as file:\n",
        "    data_lines=file.readlines()\n",
        "States={}\n",
        "for i in range(1,len(data_lines)):\n",
        "    States[   str(data_lines[i]).split('\\t')[0]\n",
        "          ] = str(data_lines[i]).split('\\t')[7].strip('\"') \n",
        "\n",
        "with open('orders.csv', 'r') as file:\n",
        "    data_lines=file.readlines()\n",
        "Orders=[]\n",
        "for i in range(1,len(data_lines)):\n",
        "    Orders.append(\n",
        "                    [str(data_lines[i]).split('\\t')[0], \n",
        "                     str(data_lines[i]).split('\\t')[2],\n",
        "                     States[str(data_lines[i]).split('\\t')[2]]\n",
        "                    ] \n",
        "                 )\n",
        "\n",
        "States_orders=[]\n",
        "States_unique=[]\n",
        "for i in range(len(Orders)):\n",
        "    States_orders.append(Orders[i][2])\n",
        "States_unique=set(States_orders)\n",
        "\n",
        "dict((i, States_orders.count(i)) for i in States_unique)"
      ],
      "execution_count": null,
      "outputs": [
        {
          "output_type": "execute_result",
          "data": {
            "text/plain": [
              "{'MI': 1428,\n",
              " 'TN': 607,\n",
              " 'MO': 516,\n",
              " 'NY': 4331,\n",
              " 'KY': 190,\n",
              " 'SC': 238,\n",
              " 'OR': 646,\n",
              " 'NM': 391,\n",
              " 'LA': 369,\n",
              " 'MA': 606,\n",
              " 'CT': 403,\n",
              " 'KS': 159,\n",
              " 'FL': 2089,\n",
              " 'TX': 3442,\n",
              " 'PR': 26510,\n",
              " 'UT': 357,\n",
              " 'OH': 1575,\n",
              " 'PA': 1458,\n",
              " 'NJ': 1259,\n",
              " 'AZ': 1156,\n",
              " 'WI': 334,\n",
              " 'HI': 478,\n",
              " 'MD': 905,\n",
              " 'RI': 84,\n",
              " 'MT': 32,\n",
              " 'AR': 65,\n",
              " 'CA': 11051,\n",
              " 'CO': 721,\n",
              " 'IA': 24,\n",
              " 'GA': 946,\n",
              " 'AL': 13,\n",
              " 'IN': 247,\n",
              " 'WV': 91,\n",
              " 'NC': 803,\n",
              " 'WA': 380,\n",
              " 'ID': 67,\n",
              " 'IL': 2884,\n",
              " 'DC': 229,\n",
              " 'MN': 256,\n",
              " 'OK': 84,\n",
              " 'ND': 72,\n",
              " 'VA': 738,\n",
              " 'DE': 109,\n",
              " 'NV': 540}"
            ]
          },
          "metadata": {
            "tags": []
          },
          "execution_count": 48
        }
      ]
    },
    {
      "cell_type": "code",
      "metadata": {
        "id": "khpI3xjbQmcg"
      },
      "source": [
        ""
      ],
      "execution_count": null,
      "outputs": []
    }
  ]
}