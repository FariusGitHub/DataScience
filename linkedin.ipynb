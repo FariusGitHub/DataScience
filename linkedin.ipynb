{
  "nbformat": 4,
  "nbformat_minor": 0,
  "metadata": {
    "kernelspec": {
      "display_name": "Python 3",
      "language": "python",
      "name": "python3"
    },
    "language_info": {
      "codemirror_mode": {
        "name": "ipython",
        "version": 3
      },
      "file_extension": ".py",
      "mimetype": "text/x-python",
      "name": "python",
      "nbconvert_exporter": "python",
      "pygments_lexer": "ipython3",
      "version": "3.8.3"
    },
    "colab": {
      "name": "linkedin.ipynb",
      "provenance": [],
      "include_colab_link": true
    }
  },
  "cells": [
    {
      "cell_type": "markdown",
      "metadata": {
        "id": "view-in-github",
        "colab_type": "text"
      },
      "source": [
        "<a href=\"https://colab.research.google.com/github/FariusGitHub/DataScience/blob/master/linkedin.ipynb\" target=\"_parent\"><img src=\"https://colab.research.google.com/assets/colab-badge.svg\" alt=\"Open In Colab\"/></a>"
      ]
    },
    {
      "cell_type": "code",
      "metadata": {
        "scrolled": true,
        "id": "yToZ6sHAVHA-",
        "outputId": "2b967a53-270f-4a76-fbc5-3c1c9614cc16"
      },
      "source": [
        "import bs4\n",
        "import requests\n",
        "soup = bs4.BeautifulSoup(requests.get('https://ca.linkedin.com/jobs/search?keywords=Data%20Scientist&location=Mississauga%2C%20Ontario%2C%20Canada&geoId=&trk=homepage-jobseeker_jobs-search-bar_search-submit&redirect=false&position=1&pageNum=0').text, 'lxml')\n",
        "\n",
        "for i, j in enumerate (soup.find_all(class_='result-card job-result-card result-card--with-hover-state')):\n",
        "    print('\\n', i, j.img.get('alt'))\n",
        "    print('details link', soup.select(\".result-card__full-card-link\")[i].get('href'))\n"
      ],
      "execution_count": null,
      "outputs": [
        {
          "output_type": "stream",
          "text": [
            "\n",
            " 0 Sobeys\n",
            "details link https://ca.linkedin.com/jobs/view/data-scientist-at-sobeys-2221487942?refId=93348243-fd23-4117-af95-a237bc72fecb&position=1&pageNum=0&trk=public_jobs_job-result-card_result-card_full-click\n",
            "\n",
            " 1 LotusFlare\n",
            "details link https://ca.linkedin.com/jobs/view/data-scientist-engineer-at-lotusflare-2167007155?refId=93348243-fd23-4117-af95-a237bc72fecb&position=2&pageNum=0&trk=public_jobs_job-result-card_result-card_full-click\n",
            "\n",
            " 2 Thomson Reuters\n",
            "details link https://ca.linkedin.com/jobs/view/data-scientist-at-thomson-reuters-2225029675?refId=93348243-fd23-4117-af95-a237bc72fecb&position=3&pageNum=0&trk=public_jobs_job-result-card_result-card_full-click\n",
            "\n",
            " 3 Cerebri AI\n",
            "details link https://ca.linkedin.com/jobs/view/data-scientist-toronto-at-cerebri-ai-2192745062?refId=93348243-fd23-4117-af95-a237bc72fecb&position=4&pageNum=0&trk=public_jobs_job-result-card_result-card_full-click\n",
            "\n",
            " 4 Chisel AI\n",
            "details link https://ca.linkedin.com/jobs/view/machine-learning-scientist-at-chisel-ai-2165935292?refId=93348243-fd23-4117-af95-a237bc72fecb&position=5&pageNum=0&trk=public_jobs_job-result-card_result-card_full-click\n",
            "\n",
            " 5 Altis Technology Recruitment\n",
            "details link https://ca.linkedin.com/jobs/view/data-scientist-analyst-at-altis-technology-recruitment-2218646360?refId=93348243-fd23-4117-af95-a237bc72fecb&position=6&pageNum=0&trk=public_jobs_job-result-card_result-card_full-click\n",
            "\n",
            " 6 Yoush Consulting\n",
            "details link https://ca.linkedin.com/jobs/view/rq00120-data-scientist-analyst-l2-at-yoush-consulting-2224425518?refId=93348243-fd23-4117-af95-a237bc72fecb&position=7&pageNum=0&trk=public_jobs_job-result-card_result-card_full-click\n",
            "\n",
            " 7 Talencore\n",
            "details link https://ca.linkedin.com/jobs/view/data-scientist-at-talencore-2224419967?refId=93348243-fd23-4117-af95-a237bc72fecb&position=8&pageNum=0&trk=public_jobs_job-result-card_result-card_full-click\n",
            "\n",
            " 8 Restaurant Brands International\n",
            "details link https://ca.linkedin.com/jobs/view/data-scientist-people-analytics-at-restaurant-brands-international-2223463077?refId=93348243-fd23-4117-af95-a237bc72fecb&position=9&pageNum=0&trk=public_jobs_job-result-card_result-card_full-click\n",
            "\n",
            " 9 Ample Insight Inc.\n",
            "details link https://ca.linkedin.com/jobs/view/data-scientist-%E4%B8%AD%E5%9B%BD%E5%B8%82%E5%9C%BA-remote-at-ample-insight-inc-2200692021?refId=93348243-fd23-4117-af95-a237bc72fecb&position=10&pageNum=0&trk=public_jobs_job-result-card_result-card_full-click\n",
            "\n",
            " 10 Clearbanc\n",
            "details link https://ca.linkedin.com/jobs/view/data-scientist-at-clearbanc-2190640031?refId=93348243-fd23-4117-af95-a237bc72fecb&position=11&pageNum=0&trk=public_jobs_job-result-card_result-card_full-click\n",
            "\n",
            " 11 LanceSoft, Inc.\n",
            "details link https://ca.linkedin.com/jobs/view/data-scientist-analyst-at-lancesoft-inc-2194801425?refId=93348243-fd23-4117-af95-a237bc72fecb&position=12&pageNum=0&trk=public_jobs_job-result-card_result-card_full-click\n",
            "\n",
            " 12 SGS, an sgsco company\n",
            "details link https://ca.linkedin.com/jobs/view/data-scientist-at-sgs-an-sgsco-company-2147506517?refId=93348243-fd23-4117-af95-a237bc72fecb&position=13&pageNum=0&trk=public_jobs_job-result-card_result-card_full-click\n",
            "\n",
            " 13 Gannett | USA TODAY NETWORK\n",
            "details link https://ca.linkedin.com/jobs/view/data-scientist-at-gannett-usa-today-network-2195912471?refId=93348243-fd23-4117-af95-a237bc72fecb&position=14&pageNum=0&trk=public_jobs_job-result-card_result-card_full-click\n",
            "\n",
            " 14 Etraveli\n",
            "details link https://ca.linkedin.com/jobs/view/data-scientist-at-etraveli-2183014320?refId=93348243-fd23-4117-af95-a237bc72fecb&position=15&pageNum=0&trk=public_jobs_job-result-card_result-card_full-click\n",
            "\n",
            " 15 Clarivate\n",
            "details link https://ca.linkedin.com/jobs/view/data-scientist-toronto-or-remote-based-at-clarivate-2191727101?refId=93348243-fd23-4117-af95-a237bc72fecb&position=16&pageNum=0&trk=public_jobs_job-result-card_result-card_full-click\n",
            "\n",
            " 16 Kinaxis\n",
            "details link https://ca.linkedin.com/jobs/view/data-scientist-at-kinaxis-2212363619?refId=93348243-fd23-4117-af95-a237bc72fecb&position=17&pageNum=0&trk=public_jobs_job-result-card_result-card_full-click\n",
            "\n",
            " 17 NexGedia Enterprise\n",
            "details link https://ca.linkedin.com/jobs/view/data-scientist-analyst-and-fraud-detection-at-nexgedia-enterprise-2221004740?refId=93348243-fd23-4117-af95-a237bc72fecb&position=18&pageNum=0&trk=public_jobs_job-result-card_result-card_full-click\n",
            "\n",
            " 18 Flieber, Inc.\n",
            "details link https://ca.linkedin.com/jobs/view/data-scientist-at-flieber-inc-2226904811?refId=93348243-fd23-4117-af95-a237bc72fecb&position=19&pageNum=0&trk=public_jobs_job-result-card_result-card_full-click\n",
            "\n",
            " 19 TripStack\n",
            "details link https://ca.linkedin.com/jobs/view/data-scientist-at-tripstack-2174763399?refId=93348243-fd23-4117-af95-a237bc72fecb&position=20&pageNum=0&trk=public_jobs_job-result-card_result-card_full-click\n",
            "\n",
            " 20 sgsco\n",
            "details link https://ca.linkedin.com/jobs/view/data-scientist-at-sgsco-2222280154?refId=93348243-fd23-4117-af95-a237bc72fecb&position=21&pageNum=0&trk=public_jobs_job-result-card_result-card_full-click\n",
            "\n",
            " 21 GEOTAB\n",
            "details link https://ca.linkedin.com/jobs/view/data-scientist-video-analytics-at-geotab-2212898875?refId=93348243-fd23-4117-af95-a237bc72fecb&position=22&pageNum=0&trk=public_jobs_job-result-card_result-card_full-click\n",
            "\n",
            " 22 TELUS\n",
            "details link https://ca.linkedin.com/jobs/view/data-scientist-telus-digital-at-telus-2197746443?refId=93348243-fd23-4117-af95-a237bc72fecb&position=23&pageNum=0&trk=public_jobs_job-result-card_result-card_full-click\n"
          ],
          "name": "stdout"
        }
      ]
    }
  ]
}