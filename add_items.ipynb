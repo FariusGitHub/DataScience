{
  "nbformat": 4,
  "nbformat_minor": 0,
  "metadata": {
    "kernelspec": {
      "display_name": "Python 3",
      "language": "python",
      "name": "python3"
    },
    "language_info": {
      "codemirror_mode": {
        "name": "ipython",
        "version": 3
      },
      "file_extension": ".py",
      "mimetype": "text/x-python",
      "name": "python",
      "nbconvert_exporter": "python",
      "pygments_lexer": "ipython3",
      "version": "3.8.3"
    },
    "colab": {
      "name": "add_items.ipynb",
      "provenance": [],
      "include_colab_link": true
    }
  },
  "cells": [
    {
      "cell_type": "markdown",
      "metadata": {
        "id": "view-in-github",
        "colab_type": "text"
      },
      "source": [
        "<a href=\"https://colab.research.google.com/github/FariusGitHub/DataScience/blob/master/add_items.ipynb\" target=\"_parent\"><img src=\"https://colab.research.google.com/assets/colab-badge.svg\" alt=\"Open In Colab\"/></a>"
      ]
    },
    {
      "cell_type": "code",
      "metadata": {
        "id": "3jcOIji9Z5rd"
      },
      "source": [
        "shopping_cart = ['tent', 'tarp', 'item1', 'item2']\n",
        "# with mutation\n",
        "def add_item_wm(cart, item):\n",
        "    cart.append(item)\n",
        "    return cart\n",
        "# without mutation\n",
        "def add_item_wom(cart, item):\n",
        "    return cart + [item]"
      ],
      "execution_count": null,
      "outputs": []
    },
    {
      "cell_type": "code",
      "metadata": {
        "id": "KU_NjbhhZ5rt",
        "outputId": "caec87e0-2df3-4be5-e1a9-37dae9a58fe9"
      },
      "source": [
        "add_item_wom(shopping_cart,'item3')"
      ],
      "execution_count": null,
      "outputs": [
        {
          "output_type": "execute_result",
          "data": {
            "text/plain": [
              "['tent', 'tarp', 'item1', 'item2', 'item3']"
            ]
          },
          "metadata": {
            "tags": []
          },
          "execution_count": 6
        }
      ]
    },
    {
      "cell_type": "code",
      "metadata": {
        "id": "Av3fuOQxZ5sA",
        "outputId": "60137fe0-70d8-4e0e-b017-679ba601edf5"
      },
      "source": [
        "add_item_wm(shopping_cart,'item3')"
      ],
      "execution_count": null,
      "outputs": [
        {
          "output_type": "execute_result",
          "data": {
            "text/plain": [
              "['tent', 'tarp', 'item1', 'item2', 'item3', 'item3']"
            ]
          },
          "metadata": {
            "tags": []
          },
          "execution_count": 8
        }
      ]
    }
  ]
}