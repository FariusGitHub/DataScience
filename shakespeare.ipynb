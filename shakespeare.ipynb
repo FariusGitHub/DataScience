{
  "nbformat": 4,
  "nbformat_minor": 0,
  "metadata": {
    "colab": {
      "name": "shakespeare.ipynb",
      "provenance": [],
      "collapsed_sections": [],
      "authorship_tag": "ABX9TyM27axqTciA29LbrcIaJXao",
      "include_colab_link": true
    },
    "kernelspec": {
      "name": "python3",
      "display_name": "Python 3"
    },
    "language_info": {
      "name": "python"
    },
    "accelerator": "TPU"
  },
  "cells": [
    {
      "cell_type": "markdown",
      "metadata": {
        "id": "view-in-github",
        "colab_type": "text"
      },
      "source": [
        "<a href=\"https://colab.research.google.com/github/FariusGitHub/DataScience/blob/master/shakespeare.ipynb\" target=\"_parent\"><img src=\"https://colab.research.google.com/assets/colab-badge.svg\" alt=\"Open In Colab\"/></a>"
      ]
    },
    {
      "cell_type": "markdown",
      "metadata": {
        "id": "ud3a-DtiGBhz"
      },
      "source": [
        "# _score formula from Elasticsearch 6.0 onwards\n",
        "Farius Tjioesman, April 26, 2021\n",
        "\n",
        "Many older articles about _score calculation may be written for older Elasticsearch version <br>\n",
        "that using classic TF-IDF rather than BM25. I would like to use Shakespeare dataset to <br>\n",
        "explore this exercise. It is mainly inspired from Anirudh Dey from August 2020 article below.\n",
        "\n",
        "https://codeburst.io/deconstructing-scoring-in-elasticsearch-e8544676a24\n",
        "\n",
        "The elasticseach score was derived from the multiplication of three components <br> Boost factor, idf factor and tf factor.\n",
        "\n",
        "Herewith is the formula for tf\n",
        "\n",
        "![tf.png](data:image/png;base64,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)\n",
        "\n",
        "And Herewith is the formula for idf \n",
        "\n",
        "![idf.png](data:image/png;base64,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)"
      ]
    },
    {
      "cell_type": "code",
      "metadata": {
        "id": "i9DjQGf7HeIs"
      },
      "source": [
        "from time import sleep"
      ],
      "execution_count": 1,
      "outputs": []
    },
    {
      "cell_type": "code",
      "metadata": {
        "colab": {
          "base_uri": "https://localhost:8080/"
        },
        "id": "DldJV1kPHkSX",
        "outputId": "b2e40d79-fdc5-464d-900a-cb3a1e8a1bc7"
      },
      "source": [
        "# install es server\n",
        "!wget https://artifacts.elastic.co/downloads/elasticsearch/elasticsearch-7.0.0-linux-x86_64.tar.gz -q --show-progress\n",
        "!tar -xzf elasticsearch-7.0.0-linux-x86_64.tar.gz\n",
        "!chown -R daemon:daemon elasticsearch-7.0.0"
      ],
      "execution_count": 2,
      "outputs": [
        {
          "output_type": "stream",
          "text": [
            "elasticsearch-7.0.0 100%[===================>] 330.70M  36.2MB/s    in 8.0s    \n"
          ],
          "name": "stdout"
        }
      ]
    },
    {
      "cell_type": "code",
      "metadata": {
        "id": "8qDVbseqI2gu"
      },
      "source": [
        "# The server may take some time prior to get response from Virtual Environment\n",
        "sleep(20)"
      ],
      "execution_count": 3,
      "outputs": []
    },
    {
      "cell_type": "code",
      "metadata": {
        "colab": {
          "base_uri": "https://localhost:8080/"
        },
        "id": "_dexw5kIHn65",
        "outputId": "c26cf005-a3cc-49bc-cb97-bdbeafd999e6"
      },
      "source": [
        "# start server and check es virtual machine connection\n",
        "import os\n",
        "from subprocess import Popen, PIPE, STDOUT\n",
        "es_server = Popen(['elasticsearch-7.0.0/bin/elasticsearch'], \n",
        "                  stdout=PIPE, stderr=STDOUT,\n",
        "                  preexec_fn=lambda: os.setuid(1)  # as daemon\n",
        "                 )\n",
        "# wait a bit then test, if failed than re-run this cell\n",
        "!curl -X GET \"localhost:9200/\""
      ],
      "execution_count": 4,
      "outputs": [
        {
          "output_type": "stream",
          "text": [
            "{\n",
            "  \"name\" : \"b8aab1d1ea3d\",\n",
            "  \"cluster_name\" : \"elasticsearch\",\n",
            "  \"cluster_uuid\" : \"3eHoEffkQd-s_ivQS-9V5Q\",\n",
            "  \"version\" : {\n",
            "    \"number\" : \"7.0.0\",\n",
            "    \"build_flavor\" : \"default\",\n",
            "    \"build_type\" : \"tar\",\n",
            "    \"build_hash\" : \"b7e28a7\",\n",
            "    \"build_date\" : \"2019-04-05T22:55:32.697037Z\",\n",
            "    \"build_snapshot\" : false,\n",
            "    \"lucene_version\" : \"8.0.0\",\n",
            "    \"minimum_wire_compatibility_version\" : \"6.7.0\",\n",
            "    \"minimum_index_compatibility_version\" : \"6.0.0-beta1\"\n",
            "  },\n",
            "  \"tagline\" : \"You Know, for Search\"\n",
            "}\n"
          ],
          "name": "stdout"
        }
      ]
    },
    {
      "cell_type": "code",
      "metadata": {
        "colab": {
          "base_uri": "https://localhost:8080/"
        },
        "id": "ccrycfx6HzZ3",
        "outputId": "529e435c-a1bb-459f-e2c9-c36938386a76"
      },
      "source": [
        "# client-side\n",
        "!pip install elasticsearch -q\n",
        "from tqdm import tqdm\n",
        "import sys\n",
        "import json\n",
        "import ast\n",
        "from pprint import pprint\n",
        "# Import Elasticsearch package \n",
        "from elasticsearch import Elasticsearch \n",
        "es = Elasticsearch()\n",
        "es.ping()  # got True"
      ],
      "execution_count": 7,
      "outputs": [
        {
          "output_type": "execute_result",
          "data": {
            "text/plain": [
              "True"
            ]
          },
          "metadata": {
            "tags": []
          },
          "execution_count": 7
        }
      ]
    },
    {
      "cell_type": "code",
      "metadata": {
        "id": "zIfiNR4wIhXe"
      },
      "source": [
        "import urllib.request\n",
        "import json\n",
        "from tqdm import tqdm\n",
        "url=\"https://raw.githubusercontent.com/ropensci/elastic_data/master/data/shakespeare_data.json\"\n",
        "with urllib.request.urlopen(url) as response:\n",
        "   html = response.read()\n",
        "\n",
        "#There are 5000 documents split by 10000 /n (new lines)\n",
        "#I used odd-even list data collection/zipping prior to ingest to elasticsearch    \n",
        "docs=list(zip(html[57:].decode(\"utf-8\").split('\\n')[1::2],html[57:].decode(\"utf-8\").split('\\n')[0::2]))"
      ],
      "execution_count": 9,
      "outputs": []
    },
    {
      "cell_type": "code",
      "metadata": {
        "colab": {
          "base_uri": "https://localhost:8080/"
        },
        "id": "urSUmmcoIjgx",
        "outputId": "7b0b0688-3809-4776-cf86-0e81b1e45a84"
      },
      "source": [
        "for i in tqdm(range(len(docs))):\n",
        "    \n",
        "    request_body = {\n",
        "    \"settings\": {\n",
        "        \"number_of_shards\": 5,\n",
        "        \"number_of_replicas\": 1\n",
        "    },\n",
        "    'mappings': {\n",
        "        'examplecase': {\n",
        "            'properties': {\n",
        "                'tbl_id': {'type': 'keyword'},\n",
        "                'texts': {'type': 'text'},\n",
        "            }\n",
        "        }\n",
        "    },\n",
        "    'id' : list(ast.literal_eval(docs[i][1]).values())[0],\n",
        "    'text_entry' : list(ast.literal_eval(docs[i][1]).values())[5]\n",
        "    }\n",
        "    \n",
        "    es.index(index='shakespeare', doc_type='Blog', id=i+1, body=request_body)"
      ],
      "execution_count": 10,
      "outputs": [
        {
          "output_type": "stream",
          "text": [
            "  0%|          | 0/5000 [00:00<?, ?it/s]/usr/local/lib/python3.7/dist-packages/elasticsearch/connection/base.py:200: ElasticsearchWarning: [types removal] Specifying types in document index requests is deprecated, use the typeless endpoints instead (/{index}/_doc/{id}, /{index}/_doc, or /{index}/_create/{id}).\n",
            "  warnings.warn(message, category=ElasticsearchWarning)\n",
            "100%|██████████| 5000/5000 [01:07<00:00, 74.54it/s]\n"
          ],
          "name": "stderr"
        }
      ]
    },
    {
      "cell_type": "code",
      "metadata": {
        "colab": {
          "base_uri": "https://localhost:8080/"
        },
        "id": "n5niCF9YLXda",
        "outputId": "2c17c8a3-cabb-42c5-c8bc-7433a741cbd2"
      },
      "source": [
        "# Checking data integrity\n",
        "!curl -X GET 'http://localhost:9200/shakespeare/_count?pretty'"
      ],
      "execution_count": 11,
      "outputs": [
        {
          "output_type": "stream",
          "text": [
            "{\n",
            "  \"count\" : 5000,\n",
            "  \"_shards\" : {\n",
            "    \"total\" : 1,\n",
            "    \"successful\" : 1,\n",
            "    \"skipped\" : 0,\n",
            "    \"failed\" : 0\n",
            "  }\n",
            "}\n"
          ],
          "name": "stdout"
        }
      ]
    },
    {
      "cell_type": "markdown",
      "metadata": {
        "id": "qoXJmMxPu8UX"
      },
      "source": [
        "Using .search and enabling explaination (explain=True) we can follow along how _score was computed\n",
        "\n",
        "Reference : <br>\n",
        "https://marcobonzanini.com/2015/02/02/how-to-query-elasticsearch-with-python/ <br>\n",
        "https://www.mathworks.com/help///textanalytics/ref/bagofwords.tfidf.html <br>\n",
        "https://en.wikipedia.org/wiki/Okapi_BM25\n"
      ]
    },
    {
      "cell_type": "code",
      "metadata": {
        "colab": {
          "base_uri": "https://localhost:8080/"
        },
        "id": "oFs_fgizL7eF",
        "outputId": "80fc3214-929e-4f78-a000-b054f7279e4a"
      },
      "source": [
        "#display the query for a word 'hundred'\n",
        "result=es.search(index=\"shakespeare\", explain=True, size=13, doc_type=\"Blog\", body={\"query\": {\"match\": {\"text_entry\": \"hundred\"}}})\n",
        "result"
      ],
      "execution_count": 21,
      "outputs": [
        {
          "output_type": "stream",
          "text": [
            "/usr/local/lib/python3.7/dist-packages/elasticsearch/connection/base.py:200: ElasticsearchWarning: [types removal] Specifying types in search requests is deprecated.\n",
            "  warnings.warn(message, category=ElasticsearchWarning)\n"
          ],
          "name": "stderr"
        },
        {
          "output_type": "execute_result",
          "data": {
            "text/plain": [
              "{'_shards': {'failed': 0, 'skipped': 0, 'successful': 1, 'total': 1},\n",
              " 'hits': {'hits': [{'_explanation': {'description': 'weight(text_entry:hundred in 643) [PerFieldSimilarity], result of:',\n",
              "     'details': [{'description': 'score(freq=1.0), product of:',\n",
              "       'details': [{'description': 'boost', 'details': [], 'value': 2.2},\n",
              "        {'description': 'idf, computed as log(1 + (N - n + 0.5) / (n + 0.5)) from:',\n",
              "         'details': [{'description': 'n, number of documents containing term',\n",
              "           'details': [],\n",
              "           'value': 12},\n",
              "          {'description': 'N, total number of documents with field',\n",
              "           'details': [],\n",
              "           'value': 5000}],\n",
              "         'value': 5.9916644},\n",
              "        {'description': 'tf, computed as freq / (freq + k1 * (1 - b + b * dl / avgdl)) from:',\n",
              "         'details': [{'description': 'freq, occurrences of term within document',\n",
              "           'details': [],\n",
              "           'value': 1.0},\n",
              "          {'description': 'k1, term saturation parameter',\n",
              "           'details': [],\n",
              "           'value': 1.2},\n",
              "          {'description': 'b, length normalization parameter',\n",
              "           'details': [],\n",
              "           'value': 0.75},\n",
              "          {'description': 'dl, length of field', 'details': [], 'value': 4.0},\n",
              "          {'description': 'avgdl, average length of field',\n",
              "           'details': [],\n",
              "           'value': 7.6244}],\n",
              "         'value': 0.56428045}],\n",
              "       'value': 7.4381537}],\n",
              "     'value': 7.4381537},\n",
              "    '_id': '1159',\n",
              "    '_index': 'shakespeare',\n",
              "    '_node': 'Vi1lrfIATXmSy7GofeTmvQ',\n",
              "    '_score': 7.4381537,\n",
              "    '_shard': '[shakespeare][0]',\n",
              "    '_source': {'id': 1159,\n",
              "     'mappings': {'examplecase': {'properties': {'tbl_id': {'type': 'keyword'},\n",
              "        'texts': {'type': 'text'}}}},\n",
              "     'settings': {'number_of_replicas': 1, 'number_of_shards': 5},\n",
              "     'text_entry': 'What, a hundred, man?'},\n",
              "    '_type': 'Blog'},\n",
              "   {'_explanation': {'description': 'weight(text_entry:hundred in 2955) [PerFieldSimilarity], result of:',\n",
              "     'details': [{'description': 'score(freq=1.0), product of:',\n",
              "       'details': [{'description': 'boost', 'details': [], 'value': 2.2},\n",
              "        {'description': 'idf, computed as log(1 + (N - n + 0.5) / (n + 0.5)) from:',\n",
              "         'details': [{'description': 'n, number of documents containing term',\n",
              "           'details': [],\n",
              "           'value': 12},\n",
              "          {'description': 'N, total number of documents with field',\n",
              "           'details': [],\n",
              "           'value': 5000}],\n",
              "         'value': 5.9916644},\n",
              "        {'description': 'tf, computed as freq / (freq + k1 * (1 - b + b * dl / avgdl)) from:',\n",
              "         'details': [{'description': 'freq, occurrences of term within document',\n",
              "           'details': [],\n",
              "           'value': 1.0},\n",
              "          {'description': 'k1, term saturation parameter',\n",
              "           'details': [],\n",
              "           'value': 1.2},\n",
              "          {'description': 'b, length normalization parameter',\n",
              "           'details': [],\n",
              "           'value': 0.75},\n",
              "          {'description': 'dl, length of field', 'details': [], 'value': 6.0},\n",
              "          {'description': 'avgdl, average length of field',\n",
              "           'details': [],\n",
              "           'value': 7.6244}],\n",
              "         'value': 0.49794534}],\n",
              "       'value': 6.563747}],\n",
              "     'value': 6.563747},\n",
              "    '_id': '4933',\n",
              "    '_index': 'shakespeare',\n",
              "    '_node': 'Vi1lrfIATXmSy7GofeTmvQ',\n",
              "    '_score': 6.563747,\n",
              "    '_shard': '[shakespeare][0]',\n",
              "    '_source': {'id': 4933,\n",
              "     'mappings': {'examplecase': {'properties': {'tbl_id': {'type': 'keyword'},\n",
              "        'texts': {'type': 'text'}}}},\n",
              "     'settings': {'number_of_replicas': 1, 'number_of_shards': 5},\n",
              "     'text_entry': 'Beside five hundred prisoners of esteem,'},\n",
              "    '_type': 'Blog'},\n",
              "   {'_explanation': {'description': 'weight(text_entry:hundred in 11) [PerFieldSimilarity], result of:',\n",
              "     'details': [{'description': 'score(freq=1.0), product of:',\n",
              "       'details': [{'description': 'boost', 'details': [], 'value': 2.2},\n",
              "        {'description': 'idf, computed as log(1 + (N - n + 0.5) / (n + 0.5)) from:',\n",
              "         'details': [{'description': 'n, number of documents containing term',\n",
              "           'details': [],\n",
              "           'value': 12},\n",
              "          {'description': 'N, total number of documents with field',\n",
              "           'details': [],\n",
              "           'value': 5000}],\n",
              "         'value': 5.9916644},\n",
              "        {'description': 'tf, computed as freq / (freq + k1 * (1 - b + b * dl / avgdl)) from:',\n",
              "         'details': [{'description': 'freq, occurrences of term within document',\n",
              "           'details': [],\n",
              "           'value': 1.0},\n",
              "          {'description': 'k1, term saturation parameter',\n",
              "           'details': [],\n",
              "           'value': 1.2},\n",
              "          {'description': 'b, length normalization parameter',\n",
              "           'details': [],\n",
              "           'value': 0.75},\n",
              "          {'description': 'dl, length of field', 'details': [], 'value': 7.0},\n",
              "          {'description': 'avgdl, average length of field',\n",
              "           'details': [],\n",
              "           'value': 7.6244}],\n",
              "         'value': 0.47030172}],\n",
              "       'value': 6.199358}],\n",
              "     'value': 6.199358},\n",
              "    '_id': '29',\n",
              "    '_index': 'shakespeare',\n",
              "    '_node': 'Vi1lrfIATXmSy7GofeTmvQ',\n",
              "    '_score': 6.199358,\n",
              "    '_shard': '[shakespeare][0]',\n",
              "    '_source': {'id': 29,\n",
              "     'mappings': {'examplecase': {'properties': {'tbl_id': {'type': 'keyword'},\n",
              "        'texts': {'type': 'text'}}}},\n",
              "     'settings': {'number_of_replicas': 1, 'number_of_shards': 5},\n",
              "     'text_entry': 'Which fourteen hundred years ago were naild'},\n",
              "    '_type': 'Blog'},\n",
              "   {'_explanation': {'description': 'weight(text_entry:hundred in 15) [PerFieldSimilarity], result of:',\n",
              "     'details': [{'description': 'score(freq=1.0), product of:',\n",
              "       'details': [{'description': 'boost', 'details': [], 'value': 2.2},\n",
              "        {'description': 'idf, computed as log(1 + (N - n + 0.5) / (n + 0.5)) from:',\n",
              "         'details': [{'description': 'n, number of documents containing term',\n",
              "           'details': [],\n",
              "           'value': 12},\n",
              "          {'description': 'N, total number of documents with field',\n",
              "           'details': [],\n",
              "           'value': 5000}],\n",
              "         'value': 5.9916644},\n",
              "        {'description': 'tf, computed as freq / (freq + k1 * (1 - b + b * dl / avgdl)) from:',\n",
              "         'details': [{'description': 'freq, occurrences of term within document',\n",
              "           'details': [],\n",
              "           'value': 1.0},\n",
              "          {'description': 'k1, term saturation parameter',\n",
              "           'details': [],\n",
              "           'value': 1.2},\n",
              "          {'description': 'b, length normalization parameter',\n",
              "           'details': [],\n",
              "           'value': 0.75},\n",
              "          {'description': 'dl, length of field', 'details': [], 'value': 7.0},\n",
              "          {'description': 'avgdl, average length of field',\n",
              "           'details': [],\n",
              "           'value': 7.6244}],\n",
              "         'value': 0.47030172}],\n",
              "       'value': 6.199358}],\n",
              "     'value': 6.199358},\n",
              "    '_id': '1993',\n",
              "    '_index': 'shakespeare',\n",
              "    '_node': 'Vi1lrfIATXmSy7GofeTmvQ',\n",
              "    '_score': 6.199358,\n",
              "    '_shard': '[shakespeare][0]',\n",
              "    '_source': {'id': 1993,\n",
              "     'mappings': {'examplecase': {'properties': {'tbl_id': {'type': 'keyword'},\n",
              "        'texts': {'type': 'text'}}}},\n",
              "     'settings': {'number_of_replicas': 1, 'number_of_shards': 5},\n",
              "     'text_entry': 'A hundred thousand rebels die in this:'},\n",
              "    '_type': 'Blog'},\n",
              "   {'_explanation': {'description': 'weight(text_entry:hundred in 1925) [PerFieldSimilarity], result of:',\n",
              "     'details': [{'description': 'score(freq=1.0), product of:',\n",
              "       'details': [{'description': 'boost', 'details': [], 'value': 2.2},\n",
              "        {'description': 'idf, computed as log(1 + (N - n + 0.5) / (n + 0.5)) from:',\n",
              "         'details': [{'description': 'n, number of documents containing term',\n",
              "           'details': [],\n",
              "           'value': 12},\n",
              "          {'description': 'N, total number of documents with field',\n",
              "           'details': [],\n",
              "           'value': 5000}],\n",
              "         'value': 5.9916644},\n",
              "        {'description': 'tf, computed as freq / (freq + k1 * (1 - b + b * dl / avgdl)) from:',\n",
              "         'details': [{'description': 'freq, occurrences of term within document',\n",
              "           'details': [],\n",
              "           'value': 1.0},\n",
              "          {'description': 'k1, term saturation parameter',\n",
              "           'details': [],\n",
              "           'value': 1.2},\n",
              "          {'description': 'b, length normalization parameter',\n",
              "           'details': [],\n",
              "           'value': 0.75},\n",
              "          {'description': 'dl, length of field', 'details': [], 'value': 8.0},\n",
              "          {'description': 'avgdl, average length of field',\n",
              "           'details': [],\n",
              "           'value': 7.6244}],\n",
              "         'value': 0.44556597}],\n",
              "       'value': 5.8732996}],\n",
              "     'value': 5.8732996},\n",
              "    '_id': '1515',\n",
              "    '_index': 'shakespeare',\n",
              "    '_node': 'Vi1lrfIATXmSy7GofeTmvQ',\n",
              "    '_score': 5.8732996,\n",
              "    '_shard': '[shakespeare][0]',\n",
              "    '_source': {'id': 1515,\n",
              "     'mappings': {'examplecase': {'properties': {'tbl_id': {'type': 'keyword'},\n",
              "        'texts': {'type': 'text'}}}},\n",
              "     'settings': {'number_of_replicas': 1, 'number_of_shards': 5},\n",
              "     'text_entry': 'Have in this robbery lost three hundred marks.'},\n",
              "    '_type': 'Blog'},\n",
              "   {'_explanation': {'description': 'weight(text_entry:hundred in 13) [PerFieldSimilarity], result of:',\n",
              "     'details': [{'description': 'score(freq=1.0), product of:',\n",
              "       'details': [{'description': 'boost', 'details': [], 'value': 2.2},\n",
              "        {'description': 'idf, computed as log(1 + (N - n + 0.5) / (n + 0.5)) from:',\n",
              "         'details': [{'description': 'n, number of documents containing term',\n",
              "           'details': [],\n",
              "           'value': 12},\n",
              "          {'description': 'N, total number of documents with field',\n",
              "           'details': [],\n",
              "           'value': 5000}],\n",
              "         'value': 5.9916644},\n",
              "        {'description': 'tf, computed as freq / (freq + k1 * (1 - b + b * dl / avgdl)) from:',\n",
              "         'details': [{'description': 'freq, occurrences of term within document',\n",
              "           'details': [],\n",
              "           'value': 1.0},\n",
              "          {'description': 'k1, term saturation parameter',\n",
              "           'details': [],\n",
              "           'value': 1.2},\n",
              "          {'description': 'b, length normalization parameter',\n",
              "           'details': [],\n",
              "           'value': 0.75},\n",
              "          {'description': 'dl, length of field', 'details': [], 'value': 8.0},\n",
              "          {'description': 'avgdl, average length of field',\n",
              "           'details': [],\n",
              "           'value': 7.6244}],\n",
              "         'value': 0.44556597}],\n",
              "       'value': 5.8732996}],\n",
              "     'value': 5.8732996},\n",
              "    '_id': '1991',\n",
              "    '_index': 'shakespeare',\n",
              "    '_node': 'Vi1lrfIATXmSy7GofeTmvQ',\n",
              "    '_score': 5.8732996,\n",
              "    '_shard': '[shakespeare][0]',\n",
              "    '_source': {'id': 1991,\n",
              "     'mappings': {'examplecase': {'properties': {'tbl_id': {'type': 'keyword'},\n",
              "        'texts': {'type': 'text'}}}},\n",
              "     'settings': {'number_of_replicas': 1, 'number_of_shards': 5},\n",
              "     'text_entry': 'And I will die a hundred thousand deaths'},\n",
              "    '_type': 'Blog'},\n",
              "   {'_explanation': {'description': 'weight(text_entry:hundred in 1303) [PerFieldSimilarity], result of:',\n",
              "     'details': [{'description': 'score(freq=1.0), product of:',\n",
              "       'details': [{'description': 'boost', 'details': [], 'value': 2.2},\n",
              "        {'description': 'idf, computed as log(1 + (N - n + 0.5) / (n + 0.5)) from:',\n",
              "         'details': [{'description': 'n, number of documents containing term',\n",
              "           'details': [],\n",
              "           'value': 12},\n",
              "          {'description': 'N, total number of documents with field',\n",
              "           'details': [],\n",
              "           'value': 5000}],\n",
              "         'value': 5.9916644},\n",
              "        {'description': 'tf, computed as freq / (freq + k1 * (1 - b + b * dl / avgdl)) from:',\n",
              "         'details': [{'description': 'freq, occurrences of term within document',\n",
              "           'details': [],\n",
              "           'value': 1.0},\n",
              "          {'description': 'k1, term saturation parameter',\n",
              "           'details': [],\n",
              "           'value': 1.2},\n",
              "          {'description': 'b, length normalization parameter',\n",
              "           'details': [],\n",
              "           'value': 0.75},\n",
              "          {'description': 'dl, length of field', 'details': [], 'value': 9.0},\n",
              "          {'description': 'avgdl, average length of field',\n",
              "           'details': [],\n",
              "           'value': 7.6244}],\n",
              "         'value': 0.42330214}],\n",
              "       'value': 5.5798254}],\n",
              "     'value': 5.5798254},\n",
              "    '_id': '703',\n",
              "    '_index': 'shakespeare',\n",
              "    '_node': 'Vi1lrfIATXmSy7GofeTmvQ',\n",
              "    '_score': 5.5798254,\n",
              "    '_shard': '[shakespeare][0]',\n",
              "    '_source': {'id': 703,\n",
              "     'mappings': {'examplecase': {'properties': {'tbl_id': {'type': 'keyword'},\n",
              "        'texts': {'type': 'text'}}}},\n",
              "     'settings': {'number_of_replicas': 1, 'number_of_shards': 5},\n",
              "     'text_entry': 'wild of Kent hath brought three hundred marks with'},\n",
              "    '_type': 'Blog'},\n",
              "   {'_explanation': {'description': 'weight(text_entry:hundred in 415) [PerFieldSimilarity], result of:',\n",
              "     'details': [{'description': 'score(freq=1.0), product of:',\n",
              "       'details': [{'description': 'boost', 'details': [], 'value': 2.2},\n",
              "        {'description': 'idf, computed as log(1 + (N - n + 0.5) / (n + 0.5)) from:',\n",
              "         'details': [{'description': 'n, number of documents containing term',\n",
              "           'details': [],\n",
              "           'value': 12},\n",
              "          {'description': 'N, total number of documents with field',\n",
              "           'details': [],\n",
              "           'value': 5000}],\n",
              "         'value': 5.9916644},\n",
              "        {'description': 'tf, computed as freq / (freq + k1 * (1 - b + b * dl / avgdl)) from:',\n",
              "         'details': [{'description': 'freq, occurrences of term within document',\n",
              "           'details': [],\n",
              "           'value': 1.0},\n",
              "          {'description': 'k1, term saturation parameter',\n",
              "           'details': [],\n",
              "           'value': 1.2},\n",
              "          {'description': 'b, length normalization parameter',\n",
              "           'details': [],\n",
              "           'value': 0.75},\n",
              "          {'description': 'dl, length of field', 'details': [], 'value': 9.0},\n",
              "          {'description': 'avgdl, average length of field',\n",
              "           'details': [],\n",
              "           'value': 7.6244}],\n",
              "         'value': 0.42330214}],\n",
              "       'value': 5.5798254}],\n",
              "     'value': 5.5798254},\n",
              "    '_id': '2393',\n",
              "    '_index': 'shakespeare',\n",
              "    '_node': 'Vi1lrfIATXmSy7GofeTmvQ',\n",
              "    '_score': 5.5798254,\n",
              "    '_shard': '[shakespeare][0]',\n",
              "    '_source': {'id': 2393,\n",
              "     'mappings': {'examplecase': {'properties': {'tbl_id': {'type': 'keyword'},\n",
              "        'texts': {'type': 'text'}}}},\n",
              "     'settings': {'number_of_replicas': 1, 'number_of_shards': 5},\n",
              "     'text_entry': 'soldiers, three hundred and odd pounds. I press me'},\n",
              "    '_type': 'Blog'},\n",
              "   {'_explanation': {'description': 'weight(text_entry:hundred in 414) [PerFieldSimilarity], result of:',\n",
              "     'details': [{'description': 'score(freq=1.0), product of:',\n",
              "       'details': [{'description': 'boost', 'details': [], 'value': 2.2},\n",
              "        {'description': 'idf, computed as log(1 + (N - n + 0.5) / (n + 0.5)) from:',\n",
              "         'details': [{'description': 'n, number of documents containing term',\n",
              "           'details': [],\n",
              "           'value': 12},\n",
              "          {'description': 'N, total number of documents with field',\n",
              "           'details': [],\n",
              "           'value': 5000}],\n",
              "         'value': 5.9916644},\n",
              "        {'description': 'tf, computed as freq / (freq + k1 * (1 - b + b * dl / avgdl)) from:',\n",
              "         'details': [{'description': 'freq, occurrences of term within document',\n",
              "           'details': [],\n",
              "           'value': 1.0},\n",
              "          {'description': 'k1, term saturation parameter',\n",
              "           'details': [],\n",
              "           'value': 1.2},\n",
              "          {'description': 'b, length normalization parameter',\n",
              "           'details': [],\n",
              "           'value': 0.75},\n",
              "          {'description': 'dl, length of field', 'details': [], 'value': 10.0},\n",
              "          {'description': 'avgdl, average length of field',\n",
              "           'details': [],\n",
              "           'value': 7.6244}],\n",
              "         'value': 0.40315738}],\n",
              "       'value': 5.3142843}],\n",
              "     'value': 5.3142843},\n",
              "    '_id': '2392',\n",
              "    '_index': 'shakespeare',\n",
              "    '_node': 'Vi1lrfIATXmSy7GofeTmvQ',\n",
              "    '_score': 5.3142843,\n",
              "    '_shard': '[shakespeare][0]',\n",
              "    '_source': {'id': 2392,\n",
              "     'mappings': {'examplecase': {'properties': {'tbl_id': {'type': 'keyword'},\n",
              "        'texts': {'type': 'text'}}}},\n",
              "     'settings': {'number_of_replicas': 1, 'number_of_shards': 5},\n",
              "     'text_entry': 'I have got, in exchange of a hundred and fifty'},\n",
              "    '_type': 'Blog'},\n",
              "   {'_explanation': {'description': 'weight(text_entry:hundred in 435) [PerFieldSimilarity], result of:',\n",
              "     'details': [{'description': 'score(freq=1.0), product of:',\n",
              "       'details': [{'description': 'boost', 'details': [], 'value': 2.2},\n",
              "        {'description': 'idf, computed as log(1 + (N - n + 0.5) / (n + 0.5)) from:',\n",
              "         'details': [{'description': 'n, number of documents containing term',\n",
              "           'details': [],\n",
              "           'value': 12},\n",
              "          {'description': 'N, total number of documents with field',\n",
              "           'details': [],\n",
              "           'value': 5000}],\n",
              "         'value': 5.9916644},\n",
              "        {'description': 'tf, computed as freq / (freq + k1 * (1 - b + b * dl / avgdl)) from:',\n",
              "         'details': [{'description': 'freq, occurrences of term within document',\n",
              "           'details': [],\n",
              "           'value': 1.0},\n",
              "          {'description': 'k1, term saturation parameter',\n",
              "           'details': [],\n",
              "           'value': 1.2},\n",
              "          {'description': 'b, length normalization parameter',\n",
              "           'details': [],\n",
              "           'value': 0.75},\n",
              "          {'description': 'dl, length of field', 'details': [], 'value': 10.0},\n",
              "          {'description': 'avgdl, average length of field',\n",
              "           'details': [],\n",
              "           'value': 7.6244}],\n",
              "         'value': 0.40315738}],\n",
              "       'value': 5.3142843}],\n",
              "     'value': 5.3142843},\n",
              "    '_id': '2413',\n",
              "    '_index': 'shakespeare',\n",
              "    '_node': 'Vi1lrfIATXmSy7GofeTmvQ',\n",
              "    '_score': 5.3142843,\n",
              "    '_shard': '[shakespeare][0]',\n",
              "    '_source': {'id': 2413,\n",
              "     'mappings': {'examplecase': {'properties': {'tbl_id': {'type': 'keyword'},\n",
              "        'texts': {'type': 'text'}}}},\n",
              "     'settings': {'number_of_replicas': 1, 'number_of_shards': 5},\n",
              "     'text_entry': 'services, that you would think that I had a hundred'},\n",
              "    '_type': 'Blog'},\n",
              "   {'_explanation': {'description': 'weight(text_entry:hundred in 960) [PerFieldSimilarity], result of:',\n",
              "     'details': [{'description': 'score(freq=1.0), product of:',\n",
              "       'details': [{'description': 'boost', 'details': [], 'value': 2.2},\n",
              "        {'description': 'idf, computed as log(1 + (N - n + 0.5) / (n + 0.5)) from:',\n",
              "         'details': [{'description': 'n, number of documents containing term',\n",
              "           'details': [],\n",
              "           'value': 12},\n",
              "          {'description': 'N, total number of documents with field',\n",
              "           'details': [],\n",
              "           'value': 5000}],\n",
              "         'value': 5.9916644},\n",
              "        {'description': 'tf, computed as freq / (freq + k1 * (1 - b + b * dl / avgdl)) from:',\n",
              "         'details': [{'description': 'freq, occurrences of term within document',\n",
              "           'details': [],\n",
              "           'value': 1.0},\n",
              "          {'description': 'k1, term saturation parameter',\n",
              "           'details': [],\n",
              "           'value': 1.2},\n",
              "          {'description': 'b, length normalization parameter',\n",
              "           'details': [],\n",
              "           'value': 0.75},\n",
              "          {'description': 'dl, length of field', 'details': [], 'value': 10.0},\n",
              "          {'description': 'avgdl, average length of field',\n",
              "           'details': [],\n",
              "           'value': 7.6244}],\n",
              "         'value': 0.40315738}],\n",
              "       'value': 5.3142843}],\n",
              "     'value': 5.3142843},\n",
              "    '_id': '2938',\n",
              "    '_index': 'shakespeare',\n",
              "    '_node': 'Vi1lrfIATXmSy7GofeTmvQ',\n",
              "    '_score': 5.3142843,\n",
              "    '_shard': '[shakespeare][0]',\n",
              "    '_source': {'id': 2938,\n",
              "     'mappings': {'examplecase': {'properties': {'tbl_id': {'type': 'keyword'},\n",
              "        'texts': {'type': 'text'}}}},\n",
              "     'settings': {'number_of_replicas': 1, 'number_of_shards': 5},\n",
              "     'text_entry': 'not three of my hundred and fifty left alive; and'},\n",
              "    '_type': 'Blog'},\n",
              "   {'_explanation': {'description': 'weight(text_entry:hundred in 641) [PerFieldSimilarity], result of:',\n",
              "     'details': [{'description': 'score(freq=1.0), product of:',\n",
              "       'details': [{'description': 'boost', 'details': [], 'value': 2.2},\n",
              "        {'description': 'idf, computed as log(1 + (N - n + 0.5) / (n + 0.5)) from:',\n",
              "         'details': [{'description': 'n, number of documents containing term',\n",
              "           'details': [],\n",
              "           'value': 12},\n",
              "          {'description': 'N, total number of documents with field',\n",
              "           'details': [],\n",
              "           'value': 5000}],\n",
              "         'value': 5.9916644},\n",
              "        {'description': 'tf, computed as freq / (freq + k1 * (1 - b + b * dl / avgdl)) from:',\n",
              "         'details': [{'description': 'freq, occurrences of term within document',\n",
              "           'details': [],\n",
              "           'value': 1.0},\n",
              "          {'description': 'k1, term saturation parameter',\n",
              "           'details': [],\n",
              "           'value': 1.2},\n",
              "          {'description': 'b, length normalization parameter',\n",
              "           'details': [],\n",
              "           'value': 0.75},\n",
              "          {'description': 'dl, length of field', 'details': [], 'value': 11.0},\n",
              "          {'description': 'avgdl, average length of field',\n",
              "           'details': [],\n",
              "           'value': 7.6244}],\n",
              "         'value': 0.3848429}],\n",
              "       'value': 5.072869}],\n",
              "     'value': 5.072869},\n",
              "    '_id': '1157',\n",
              "    '_index': 'shakespeare',\n",
              "    '_node': 'Vi1lrfIATXmSy7GofeTmvQ',\n",
              "    '_score': 5.072869,\n",
              "    '_shard': '[shakespeare][0]',\n",
              "    '_source': {'id': 1157,\n",
              "     'mappings': {'examplecase': {'properties': {'tbl_id': {'type': 'keyword'},\n",
              "        'texts': {'type': 'text'}}}},\n",
              "     'settings': {'number_of_replicas': 1, 'number_of_shards': 5},\n",
              "     'text_entry': 'Where is it! taken from us it is: a hundred upon'},\n",
              "    '_type': 'Blog'}],\n",
              "  'max_score': 7.4381537,\n",
              "  'total': {'relation': 'eq', 'value': 12}},\n",
              " 'timed_out': False,\n",
              " 'took': 6}"
            ]
          },
          "metadata": {
            "tags": []
          },
          "execution_count": 21
        }
      ]
    },
    {
      "cell_type": "code",
      "metadata": {
        "colab": {
          "base_uri": "https://localhost:8080/"
        },
        "id": "61mRFLxtnh0I",
        "outputId": "2ef9f3de-d1ee-4ab1-8bab-66c9f68e3922"
      },
      "source": [
        "#to extract _score of first result\n",
        "list(list(list(list(list(list(list(result.values())[3].values())[2])[0].values())[7].values())[2])[0].values())[0]"
      ],
      "execution_count": 22,
      "outputs": [
        {
          "output_type": "execute_result",
          "data": {
            "text/plain": [
              "7.4381537"
            ]
          },
          "metadata": {
            "tags": []
          },
          "execution_count": 22
        }
      ]
    },
    {
      "cell_type": "code",
      "metadata": {
        "colab": {
          "base_uri": "https://localhost:8080/"
        },
        "id": "sYLxmR9KoMDN",
        "outputId": "2b4b1660-d061-43fb-db80-622ebf0ca1c2"
      },
      "source": [
        "#to extract boost component of first result\n",
        "list(list(list(list(list(list(list(list(result.values())[3].\\\n",
        "    values())[2])[0].values())[7].values())[2])[0].values())[2][0].values())[0] "
      ],
      "execution_count": 24,
      "outputs": [
        {
          "output_type": "execute_result",
          "data": {
            "text/plain": [
              "2.2"
            ]
          },
          "metadata": {
            "tags": []
          },
          "execution_count": 24
        }
      ]
    },
    {
      "cell_type": "code",
      "metadata": {
        "colab": {
          "base_uri": "https://localhost:8080/"
        },
        "id": "XRIM68dXoUZC",
        "outputId": "b74784eb-0587-47f2-cd93-6977cc699a20"
      },
      "source": [
        "#to extract idf component of first result\n",
        "list(list(list(list(list(list(list(list(result.values())[3].\\\n",
        "    values())[2])[0].values())[7].values())[2])[0].values())[2][1].values())[0] "
      ],
      "execution_count": 25,
      "outputs": [
        {
          "output_type": "execute_result",
          "data": {
            "text/plain": [
              "5.9916644"
            ]
          },
          "metadata": {
            "tags": []
          },
          "execution_count": 25
        }
      ]
    },
    {
      "cell_type": "code",
      "metadata": {
        "colab": {
          "base_uri": "https://localhost:8080/"
        },
        "id": "SThrXj6MoYBn",
        "outputId": "c03da774-0c6d-495b-a088-8f66a575d5bc"
      },
      "source": [
        "#to extract tf component of first result\n",
        "list(list(list(list(list(list(list(list(result.values())[3].\\\n",
        "    values())[2])[0].values())[7].values())[2])[0].values())[2][2].values())[0] "
      ],
      "execution_count": 26,
      "outputs": [
        {
          "output_type": "execute_result",
          "data": {
            "text/plain": [
              "0.56428045"
            ]
          },
          "metadata": {
            "tags": []
          },
          "execution_count": 26
        }
      ]
    },
    {
      "cell_type": "code",
      "metadata": {
        "colab": {
          "base_uri": "https://localhost:8080/"
        },
        "id": "LHhjRmGUobXV",
        "outputId": "7c68c285-c400-4f3b-e989-b409fe6bea15"
      },
      "source": [
        "#checking the formula consistency for the 12 query found of 'hundred'\n",
        "for i in range(len(list(list(result.values())[3].values())[2])):\n",
        "    score=list(list(list(list(list(list(list(result.values())[3].\\\n",
        "      values())[2])[i].values())[7].values())[2])[0].values())[0]\n",
        "    boost=list(list(list(list(list(list(list(list(result.values())[3].\\\n",
        "      values())[2])[i].values())[7].values())[2])[0].values())[2][0].values())[0] \n",
        "    idf=list(list(list(list(list(list(list(list(result.values())[3].\\\n",
        "      values())[2])[i].values())[7].values())[2])[0].values())[2][1].values())[0] \n",
        "    tf=list(list(list(list(list(list(list(list(result.values())[3].\\\n",
        "      values())[2])[i].values())[7].values())[2])[0].values())[2][2].values())[0]\n",
        "    \n",
        "    print(score, '=', boost, '*', idf, '*', tf, '--> error=', boost*idf*tf-score)"
      ],
      "execution_count": 41,
      "outputs": [
        {
          "output_type": "stream",
          "text": [
            "7.4381537 = 2.2 * 5.9916644 * 0.56428045 --> error= 2.845381574800854e-07\n",
            "6.563747 = 2.2 * 5.9916644 * 0.49794534 --> error= 7.0125718565350326e-09\n",
            "6.199358 = 2.2 * 5.9916644 * 0.47030172 --> error= 1.6056208984593923e-07\n",
            "6.199358 = 2.2 * 5.9916644 * 0.47030172 --> error= 1.6056208984593923e-07\n",
            "5.8732996 = 2.2 * 5.9916644 * 0.44556597 --> error= 2.726610297543175e-07\n",
            "5.8732996 = 2.2 * 5.9916644 * 0.44556597 --> error= 2.726610297543175e-07\n",
            "5.5798254 = 2.2 * 5.9916644 * 0.42330214 --> error= 1.9789999594621577e-07\n",
            "5.5798254 = 2.2 * 5.9916644 * 0.42330214 --> error= 1.9789999594621577e-07\n",
            "5.3142843 = 2.2 * 5.9916644 * 0.40315738 --> error= -1.1304480107554582e-07\n",
            "5.3142843 = 2.2 * 5.9916644 * 0.40315738 --> error= -1.1304480107554582e-07\n",
            "5.3142843 = 2.2 * 5.9916644 * 0.40315738 --> error= -1.1304480107554582e-07\n",
            "5.072869 = 2.2 * 5.9916644 * 0.3848429 --> error= -9.224992769674145e-08\n"
          ],
          "name": "stdout"
        }
      ]
    }
  ]
}