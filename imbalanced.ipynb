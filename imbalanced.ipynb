{
  "nbformat": 4,
  "nbformat_minor": 0,
  "metadata": {
    "kernelspec": {
      "display_name": "Python 3",
      "language": "python",
      "name": "python3"
    },
    "language_info": {
      "codemirror_mode": {
        "name": "ipython",
        "version": 3
      },
      "file_extension": ".py",
      "mimetype": "text/x-python",
      "name": "python",
      "nbconvert_exporter": "python",
      "pygments_lexer": "ipython3",
      "version": "3.8.5"
    },
    "colab": {
      "name": "imbalanced.ipynb",
      "provenance": [],
      "include_colab_link": true
    }
  },
  "cells": [
    {
      "cell_type": "markdown",
      "metadata": {
        "id": "view-in-github",
        "colab_type": "text"
      },
      "source": [
        "<a href=\"https://colab.research.google.com/github/FariusGitHub/DataScience/blob/master/imbalanced.ipynb\" target=\"_parent\"><img src=\"https://colab.research.google.com/assets/colab-badge.svg\" alt=\"Open In Colab\"/></a>"
      ]
    },
    {
      "cell_type": "code",
      "metadata": {
        "id": "k4iTpp4xnhMj"
      },
      "source": [
        "import pandas as pd\n",
        "import numpy as np\n",
        "from imblearn.over_sampling import SMOTE\n",
        "from sklearn.linear_model import LogisticRegression\n",
        "from sklearn.model_selection import train_test_split\n",
        "import warnings\n",
        "warnings.filterwarnings(\"ignore\")\n",
        "data=pd.read_csv('https://fashion.s3.us-east-2.amazonaws.com/90types.csv')"
      ],
      "execution_count": null,
      "outputs": []
    },
    {
      "cell_type": "code",
      "metadata": {
        "collapsed": true,
        "id": "1B8yoRLenhMn",
        "outputId": "57606af2-f329-4d26-fbd2-b8511b3bff4f"
      },
      "source": [
        "#OVERSAMPLING PART 1/3\n",
        "data1=data[(data['type']<30) | (data['type'] == data['type'].value_counts().keys()[0])]\n",
        "X=data1.drop(['filename', 'type_desc','ID'], axis=1)\n",
        "y=data1[['type']]\n",
        "del data1\n",
        "smote = SMOTE(sampling_strategy='auto')\n",
        "X1, y1 = smote.fit_resample(X, y)\n",
        "del X\n",
        "del y\n",
        "A1=X1.sort_values(by=['type'])\n",
        "A1=A1.reset_index().drop(['index'],axis=1)\n",
        "denom=(X1['type'].value_counts().values[0])\n",
        "A1['run1']=A1.index+1\n",
        "A1['run2']=np.where(A1['run1']==1,1,\\\n",
        "           np.where(A1['run1']%denom==0,denom,A1['run1']%denom)).astype(int)\n",
        "print('balanced dataset \\n', A1['type'][A1['run2']<=denom].value_counts())\n",
        "A1.drop(['run1','run2'],axis=1).iloc[:-denom].to_csv('data1.csv', index=False)\n",
        "del A1"
      ],
      "execution_count": null,
      "outputs": [
        {
          "output_type": "stream",
          "text": [
            "balanced dataset \n",
            " 49    7226\n",
            "14    7226\n",
            "1     7226\n",
            "2     7226\n",
            "3     7226\n",
            "4     7226\n",
            "5     7226\n",
            "6     7226\n",
            "7     7226\n",
            "8     7226\n",
            "9     7226\n",
            "10    7226\n",
            "11    7226\n",
            "12    7226\n",
            "13    7226\n",
            "15    7226\n",
            "29    7226\n",
            "16    7226\n",
            "17    7226\n",
            "18    7226\n",
            "19    7226\n",
            "20    7226\n",
            "21    7226\n",
            "22    7226\n",
            "23    7226\n",
            "24    7226\n",
            "25    7226\n",
            "26    7226\n",
            "27    7226\n",
            "28    7226\n",
            "0     7226\n",
            "Name: type, dtype: int64\n"
          ],
          "name": "stdout"
        }
      ]
    },
    {
      "cell_type": "code",
      "metadata": {
        "collapsed": true,
        "id": "i6sCMUSfnhMp",
        "outputId": "e9c5b165-ccc9-4593-a9d3-e1f6d3a640a1"
      },
      "source": [
        "#OVERSAMPLING PART 2/3\n",
        "data2=data[((data['type']>=30) & (data['type']<60)) | \\\n",
        "       (data['type'] == data['type'].value_counts().keys()[0])]\n",
        "X=data2.drop(['filename', 'type_desc','ID'], axis=1)\n",
        "y=data2[['type']]\n",
        "del data2\n",
        "smote = SMOTE(sampling_strategy='auto')\n",
        "X2, y2 = smote.fit_resample(X, y)\n",
        "del X\n",
        "del y\n",
        "A2=X2.sort_values(by=['type'])\n",
        "A2=A2.reset_index().drop(['index'],axis=1)\n",
        "denom=(X2['type'].value_counts().values[0])\n",
        "A2['run1']=A2.index+1\n",
        "A2['run2']=np.where(A2['run1']==1,1,\\\n",
        "           np.where(A2['run1']%denom==0,denom,A2['run1']%denom)).astype(int)\n",
        "print('balanced dataset \\n', A2['type'][A2['run2']<=denom].value_counts())\n",
        "A2.drop(['run1','run2'],axis=1).iloc[:-denom].to_csv('data2.csv', index=False)\n",
        "del A2"
      ],
      "execution_count": null,
      "outputs": [
        {
          "output_type": "stream",
          "text": [
            "balanced dataset \n",
            " 59    7226\n",
            "58    7226\n",
            "31    7226\n",
            "32    7226\n",
            "33    7226\n",
            "34    7226\n",
            "35    7226\n",
            "36    7226\n",
            "37    7226\n",
            "38    7226\n",
            "39    7226\n",
            "40    7226\n",
            "41    7226\n",
            "42    7226\n",
            "43    7226\n",
            "44    7226\n",
            "45    7226\n",
            "46    7226\n",
            "47    7226\n",
            "48    7226\n",
            "49    7226\n",
            "50    7226\n",
            "51    7226\n",
            "52    7226\n",
            "53    7226\n",
            "54    7226\n",
            "55    7226\n",
            "56    7226\n",
            "57    7226\n",
            "30    7226\n",
            "Name: type, dtype: int64\n"
          ],
          "name": "stdout"
        }
      ]
    },
    {
      "cell_type": "code",
      "metadata": {
        "collapsed": true,
        "id": "5hz4HV-TnhMr",
        "outputId": "87e4ca07-2823-4dd8-f645-6aab44be1825"
      },
      "source": [
        "#OVERSAMPLING PART 3/3\n",
        "data=pd.read_csv('90types.csv')\n",
        "data3=data[((data['type']>=60) ) | (data['type'] == data['type'].value_counts().keys()[0])]\n",
        "del data\n",
        "X=data3.drop(['filename', 'type_desc','ID'], axis=1)\n",
        "y=data3[['type']]\n",
        "del data3\n",
        "smote = SMOTE(sampling_strategy='auto')\n",
        "X3, y3 = smote.fit_resample(X, y)\n",
        "del X\n",
        "del y\n",
        "A3=X3.sort_values(by=['type'])\n",
        "A3=A3.reset_index().drop(['index'],axis=1)\n",
        "denom=(X3['type'].value_counts().values[0])\n",
        "A3['run1']=A3.index+1\n",
        "A3['run2']=np.where(A3['run1']==1,1,\\\n",
        "           np.where(A3['run1']%denom==0,denom,A3['run1']%denom)).astype(int)\n",
        "print('balanced dataset \\n', A3['type'][A3['run2']<=denom].value_counts())\n",
        "A3.drop(['run1','run2'],axis=1).iloc[:-denom].to_csv('data3.csv', index=False)\n",
        "del A3"
      ],
      "execution_count": null,
      "outputs": [
        {
          "output_type": "stream",
          "text": [
            "balanced dataset \n",
            " 89    7226\n",
            "73    7226\n",
            "60    7226\n",
            "61    7226\n",
            "62    7226\n",
            "63    7226\n",
            "64    7226\n",
            "65    7226\n",
            "66    7226\n",
            "67    7226\n",
            "68    7226\n",
            "69    7226\n",
            "70    7226\n",
            "71    7226\n",
            "72    7226\n",
            "74    7226\n",
            "88    7226\n",
            "75    7226\n",
            "76    7226\n",
            "77    7226\n",
            "78    7226\n",
            "79    7226\n",
            "80    7226\n",
            "81    7226\n",
            "82    7226\n",
            "83    7226\n",
            "84    7226\n",
            "85    7226\n",
            "86    7226\n",
            "87    7226\n",
            "49    7226\n",
            "Name: type, dtype: int64\n"
          ],
          "name": "stdout"
        }
      ]
    },
    {
      "cell_type": "code",
      "metadata": {
        "id": "MJY8v6-PnhMs"
      },
      "source": [
        "data1=pd.read_csv('data1.csv').astype(np.uint16)\n",
        "data2=pd.read_csv('data2.csv').astype(np.uint16)\n",
        "data3=pd.read_csv('data3.csv').astype(np.uint16)\n",
        "datas=pd.concat([data1,data2,data3])\n",
        "del data1\n",
        "del data2\n",
        "del data3\n",
        "X = datas.drop(['type'], axis=1)\n",
        "y = datas['type']\n",
        "del datas\n",
        "X_train, X_test, y_train, y_test = train_test_split(\\\n",
        "    X, y, test_size=0.33, random_state=42)\n",
        "del X\n",
        "del y\n",
        "\n",
        "# Training the model\n",
        "lr = LogisticRegression()\n",
        "lr.fit(X_train, y_train)\n",
        "\n",
        "# Assessing the model\n",
        "lr.score(X_test, y_test)"
      ],
      "execution_count": null,
      "outputs": []
    }
  ]
}