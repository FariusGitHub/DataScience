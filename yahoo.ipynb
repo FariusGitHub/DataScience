{
  "nbformat": 4,
  "nbformat_minor": 0,
  "metadata": {
    "kernelspec": {
      "display_name": "Python 3",
      "language": "python",
      "name": "python3"
    },
    "language_info": {
      "codemirror_mode": {
        "name": "ipython",
        "version": 3
      },
      "file_extension": ".py",
      "mimetype": "text/x-python",
      "name": "python",
      "nbconvert_exporter": "python",
      "pygments_lexer": "ipython3",
      "version": "3.8.3"
    },
    "colab": {
      "name": "yahoo.ipynb",
      "provenance": [],
      "collapsed_sections": [],
      "include_colab_link": true
    }
  },
  "cells": [
    {
      "cell_type": "markdown",
      "metadata": {
        "id": "view-in-github",
        "colab_type": "text"
      },
      "source": [
        "<a href=\"https://colab.research.google.com/github/FariusGitHub/DataScience/blob/master/yahoo.ipynb\" target=\"_parent\"><img src=\"https://colab.research.google.com/assets/colab-badge.svg\" alt=\"Open In Colab\"/></a>"
      ]
    },
    {
      "cell_type": "code",
      "metadata": {
        "scrolled": true,
        "colab": {
          "base_uri": "https://localhost:8080/"
        },
        "id": "doY66geLeKUY",
        "outputId": "3d755f35-94f3-4f84-94d7-f5ab6e97adf8"
      },
      "source": [
        "import pandas as pd\n",
        "import requests\n",
        "import bs4\n",
        "\n",
        "yahoo_pages=[]\n",
        "for i in range(10):\n",
        "    yahoo_urls = 'https://ca.search.yahoo.com/search?p=td+data+scientist+linkedin&b='+\\\n",
        "                str(10*i+1)+str('&pz=10&pstart=')+str(1+2*i)\n",
        "    soup = bs4.BeautifulSoup(requests.get(yahoo_urls).text,\"lxml\")\n",
        "    yahoo_pages+=[soup.find_all(class_=' ac-algo fz-l ac-21th lh-24')]\n",
        "    # print(soup.find_all(class_=' ac-algo fz-l ac-21th lh-24'))\n",
        "\n",
        "yahoo_pages\n",
        "\n",
        "profiles={}\n",
        "for j in range(10):\n",
        "  for k in range(10):\n",
        "    if '/in/' in yahoo_pages[j][k].get('href'):\n",
        "      profiles[yahoo_pages[j][k].text.strip(' | LinkedIn')]=yahoo_pages[j][k].get('href')\n",
        "\n",
        "pd.Series(profiles)  "
      ],
      "execution_count": 33,
      "outputs": [
        {
          "output_type": "execute_result",
          "data": {
            "text/plain": [
              "Hanqiao Li - Data Scientist - TD                           https://ca.linkedin.com/in/hanqiao-li-a99a77aa\n",
              "Jimai Zhou - Data Scientist - TD                         https://www.linkedin.com/in/jimai-zhou-18bb20108\n",
              "Dan Zisu - Data Scientist - TD                                https://ca.linkedin.com/in/dan-zisu-b170a21\n",
              "Matthew Wander - Data Scientist - TD                           https://www.linkedin.com/in/matthew-wander\n",
              "Rogelio Cuevas - Data Scientist, Senior Manager - TD                  https://ca.linkedin.com/in/rcuevass\n",
              "                                                                              ...                        \n",
              "jing Fu - Data Scientist - Epidemic Sou                             https://se.linkedin.com/in/linjing-fu\n",
              "aure Fontaine - Data Scientist - Belfius                https://be.linkedin.com/in/laure-fontaine-a799...\n",
              "Alexander Saranov - Data Scientist - Sberba                   https://ru.linkedin.com/in/alexandersaranov\n",
              "Hao Wang - Data Scientist - Singtel                                   https://sg.linkedin.com/in/wang-hao\n",
              "Marko Dinic - Data Scientist - Nordeus                    https://rs.linkedin.com/in/marko-dinic-9765a365\n",
              "Length: 64, dtype: object"
            ]
          },
          "metadata": {
            "tags": []
          },
          "execution_count": 33
        }
      ]
    }
  ]
}